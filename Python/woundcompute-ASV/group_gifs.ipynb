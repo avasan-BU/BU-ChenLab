{
 "cells": [
  {
   "cell_type": "code",
   "execution_count": 11,
   "outputs": [],
   "source": [
    "#imports\n",
    "import os, shutil, fnmatch, time, tkinter\n",
    "from tkinter.filedialog import askdirectory\n",
    "from pathlib import Path\n",
    "import matplotlib.pyplot as plt\n",
    "from mpl_toolkits.axes_grid1 import ImageGrid\n",
    "import imageio\n",
    "import pandas as pd\n",
    "from PIL import Image\n"
   ],
   "metadata": {
    "collapsed": false
   }
  },
  {
   "cell_type": "code",
   "execution_count": 12,
   "outputs": [
    {
     "name": "stdout",
     "output_type": "stream",
     "text": [
      "E:/Microscope Images/Code_processed_eclipse_data/20221130_NHDFneo_P5_IrradECM/Sorted/tissue_ai\n"
     ]
    }
   ],
   "source": [
    "#prompt user for the file directory. Will open as a popup window named \"tk\"\n",
    "tk_root = tkinter.Tk()\n",
    "path_input = askdirectory(title='Select Folder')  # shows dialog box and return the path\n",
    "print(path_input)\n",
    "tk_root.destroy()"
   ],
   "metadata": {
    "collapsed": false
   }
  },
  {
   "cell_type": "code",
   "execution_count": 13,
   "outputs": [],
   "source": [
    "stage_pos_chars = []\n",
    "for file in os.listdir(path_input):\n",
    "    if file.endswith('.nd'):\n",
    "        basename = file.split('.',1)[0]\n",
    "        with open(path_input + '/' +file, 'r') as nd_file:\n",
    "            for l_no, line in enumerate(nd_file):\n",
    "                if '\"NStagePositions\"' in line:\n",
    "                    stage_pos_nd = [int(s) for s in line.split() if s.isdigit()][-1]\n",
    "                if '\"NTimePoints\"' in line:\n",
    "                    timepoints_nd = [int(s) for s in line.split() if s.isdigit()][-1]\n",
    "                if '\"Stage' in line:\n",
    "                    spc = line.split(', \"')[-1]\n",
    "                    stage_pos_chars.append(spc[0:len(spc)-2])\n"
   ],
   "metadata": {
    "collapsed": false
   }
  },
  {
   "cell_type": "code",
   "execution_count": 14,
   "outputs": [],
   "source": [
    "list_pos= []\n",
    "tlist = [T*0.5 for T in range(1,timepoints_nd+1)]\n",
    "for file in os.listdir(path_input):\n",
    "    if os.path.isdir(path_input+'/'+file):\n",
    "        list_pos.append(file)\n",
    "        if os.path.exists(path_input + '/GIFs'):\n",
    "            try:\n",
    "                shutil.copy(path_input+'/'+file+'/segment_ph1/visualizations/ph1_contour.gif',\n",
    "                            path_input + '/GIFs/'+stage_pos_chars[int(file[1:])-1]+'.gif')\n",
    "            except OSError as e:\n",
    "                # If it fails, inform the user.\n",
    "                print('Error: %s - %s.' % (e.filename, e.strerror))\n",
    "\n",
    "        else:\n",
    "            try:\n",
    "                os.makedirs(path_input + '/GIFs')\n",
    "                shutil.copy(path_input+'/'+file+'/segment_ph1/visualizations/ph1_contour.gif',\n",
    "                            path_input + '/GIFs/'+stage_pos_chars[int(file[1:])-1]+'.gif')\n",
    "\n",
    "            except OSError as e:\n",
    "                # If it fails, inform the user.\n",
    "                print('Error: %s - %s.' % (e.filename, e.strerror))\n"
   ],
   "metadata": {
    "collapsed": false
   }
  },
  {
   "cell_type": "code",
   "execution_count": 15,
   "outputs": [
    {
     "ename": "FileNotFoundError",
     "evalue": "[WinError 3] The system cannot find the path specified: 'E:/Microscope Images/Code_processed_eclipse_data/20221130_NHDFneo_P5_IrradECM/Sorted/tissue_ai/GIFs2/'",
     "output_type": "error",
     "traceback": [
      "\u001B[1;31m---------------------------------------------------------------------------\u001B[0m",
      "\u001B[1;31mFileNotFoundError\u001B[0m                         Traceback (most recent call last)",
      "Cell \u001B[1;32mIn[15], line 6\u001B[0m\n\u001B[0;32m      3\u001B[0m result_grid_filename \u001B[38;5;241m=\u001B[39m \u001B[38;5;124m'\u001B[39m\u001B[38;5;124mgrid.gif\u001B[39m\u001B[38;5;124m'\u001B[39m\n\u001B[0;32m      4\u001B[0m result_figsize_resolution \u001B[38;5;241m=\u001B[39m \u001B[38;5;241m96\u001B[39m \u001B[38;5;66;03m# 1 = 100px\u001B[39;00m\n\u001B[1;32m----> 6\u001B[0m images_list \u001B[38;5;241m=\u001B[39m \u001B[43mos\u001B[49m\u001B[38;5;241;43m.\u001B[39;49m\u001B[43mlistdir\u001B[49m\u001B[43m(\u001B[49m\u001B[43mimages_dir\u001B[49m\u001B[43m)\u001B[49m\n\u001B[0;32m      7\u001B[0m images_count \u001B[38;5;241m=\u001B[39m \u001B[38;5;28mlen\u001B[39m(images_list)\n\u001B[0;32m      9\u001B[0m \u001B[38;5;66;03m# Create plt plot:\u001B[39;00m\n",
      "\u001B[1;31mFileNotFoundError\u001B[0m: [WinError 3] The system cannot find the path specified: 'E:/Microscope Images/Code_processed_eclipse_data/20221130_NHDFneo_P5_IrradECM/Sorted/tissue_ai/GIFs2/'"
     ]
    }
   ],
   "source": [
    "# Config:\n",
    "images_dir = path_input + '/GIFs2/'\n",
    "result_grid_filename = 'grid.gif'\n",
    "result_figsize_resolution = 96 # 1 = 100px\n",
    "\n",
    "images_list = os.listdir(images_dir)\n",
    "images_count = len(images_list)\n",
    "\n",
    "# Create plt plot:\n",
    "fig, axes = plt.subplots(12, 8)\n",
    "\n",
    "current_file_number = 0\n",
    "for image_filename in os.listdir(images_dir):\n",
    "\n",
    "    x_position = int(image_filename[1:].split('.',1)[0])-1\n",
    "    y_position = ord(image_filename[0])-65\n",
    "\n",
    "    im = Image.open(images_dir+image_filename).convert('RGB')\n",
    "    axes[x_position, y_position].imshow(im)\n",
    "    print((current_file_number + 1), '/', images_count, ': ', image_filename)\n",
    "\n",
    "    current_file_number += 1\n",
    "\n",
    "#plt.subplots_adjust(left=0.0, right=1.0, bottom=0.0, top=1.0)\n",
    "plt.savefig(result_grid_filename)\n"
   ],
   "metadata": {
    "collapsed": false
   }
  },
  {
   "cell_type": "code",
   "execution_count": null,
   "outputs": [],
   "source": [
    "print('x_pos:', x_position)\n",
    "print('y_pos:', y_position)\n",
    "print(image_filename[0])"
   ],
   "metadata": {
    "collapsed": false
   }
  },
  {
   "cell_type": "code",
   "execution_count": null,
   "outputs": [],
   "source": [
    "import pyglet\n",
    "ag_file = \"dinosaur-07.gif\"\n"
   ],
   "metadata": {
    "collapsed": false
   }
  }
 ],
 "metadata": {
  "kernelspec": {
   "display_name": "Python 3",
   "language": "python",
   "name": "python3"
  },
  "language_info": {
   "codemirror_mode": {
    "name": "ipython",
    "version": 2
   },
   "file_extension": ".py",
   "mimetype": "text/x-python",
   "name": "python",
   "nbconvert_exporter": "python",
   "pygments_lexer": "ipython2",
   "version": "2.7.6"
  }
 },
 "nbformat": 4,
 "nbformat_minor": 0
}

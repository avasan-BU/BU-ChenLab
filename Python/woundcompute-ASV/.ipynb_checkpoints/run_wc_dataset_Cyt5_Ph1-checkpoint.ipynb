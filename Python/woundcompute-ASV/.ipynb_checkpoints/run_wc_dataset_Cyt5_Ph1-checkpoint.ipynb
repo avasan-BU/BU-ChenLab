{
 "cells": [
  {
   "cell_type": "code",
   "execution_count": 1,
   "id": "7efe0d21",
   "metadata": {},
   "outputs": [],
   "source": [
    "#imports\n",
    "import os, shutil, time, tkinter\n",
    "from tkinter.filedialog import askdirectory\n",
    "from pathlib import Path\n",
    "from woundcompute import image_analysis as ia\n"
   ]
  },
  {
   "cell_type": "code",
   "execution_count": 2,
   "id": "35be97fd",
   "metadata": {},
   "outputs": [],
   "source": [
    "from PIL import Image\n"
   ]
  },
  {
   "cell_type": "code",
   "execution_count": 7,
   "id": "924bbddb",
   "metadata": {},
   "outputs": [
    {
     "name": "stdout",
     "output_type": "stream",
     "text": [
      "E:/Cytation 5/ASV/230117_181135_20230117_SDP4_AI/230117_202513_Plate 1\n",
      "E:/Cytation 5/ASV/230117_181135_20230117_SDP4_AI/SDP4_Output\n"
     ]
    }
   ],
   "source": [
    "#prompt user for the file directory. Will open as a popup window named \"tk\"\n",
    "tk_root = tkinter.Tk()\n",
    "path_input = askdirectory(title='Select Input Folder')  # shows dialog box and return the path\n",
    "print(path_input)\n",
    "tk_root.destroy()\n",
    "\n",
    "tk_root = tkinter.Tk()\n",
    "path_output = askdirectory(title='Select Output Folder')  # shows dialog box and return the path\n",
    "print(path_output)\n",
    "tk_root.destroy()"
   ]
  },
  {
   "cell_type": "code",
   "execution_count": 8,
   "id": "7b070987",
   "metadata": {},
   "outputs": [
    {
     "ename": "KeyboardInterrupt",
     "evalue": "",
     "output_type": "error",
     "traceback": [
      "\u001b[1;31m---------------------------------------------------------------------------\u001b[0m",
      "\u001b[1;31mKeyboardInterrupt\u001b[0m                         Traceback (most recent call last)",
      "Cell \u001b[1;32mIn[8], line 8\u001b[0m\n\u001b[0;32m      6\u001b[0m \u001b[38;5;28;01mtry\u001b[39;00m:\n\u001b[0;32m      7\u001b[0m     image \u001b[38;5;241m=\u001b[39m Image\u001b[38;5;241m.\u001b[39mopen(path_input \u001b[38;5;241m+\u001b[39m \u001b[38;5;124m'\u001b[39m\u001b[38;5;124m/\u001b[39m\u001b[38;5;124m'\u001b[39m \u001b[38;5;241m+\u001b[39m file)\n\u001b[1;32m----> 8\u001b[0m     new_image \u001b[38;5;241m=\u001b[39m \u001b[43mimage\u001b[49m\u001b[38;5;241;43m.\u001b[39;49m\u001b[43mresize\u001b[49m\u001b[43m(\u001b[49m\u001b[43m(\u001b[49m\u001b[38;5;241;43m512\u001b[39;49m\u001b[43m,\u001b[49m\u001b[43m \u001b[49m\u001b[38;5;241;43m512\u001b[39;49m\u001b[43m)\u001b[49m\u001b[43m)\u001b[49m\n\u001b[0;32m      9\u001b[0m     new_image\u001b[38;5;241m.\u001b[39msave(path_output \u001b[38;5;241m+\u001b[39m \u001b[38;5;124m'\u001b[39m\u001b[38;5;124m/\u001b[39m\u001b[38;5;124m'\u001b[39m \u001b[38;5;241m+\u001b[39m file[:\u001b[38;5;241m2\u001b[39m] \u001b[38;5;241m+\u001b[39m \u001b[38;5;124m'\u001b[39m\u001b[38;5;124m/ph1_images/\u001b[39m\u001b[38;5;124m'\u001b[39m \u001b[38;5;241m+\u001b[39m file)\n\u001b[0;32m     10\u001b[0m     \u001b[38;5;66;03m#image.save(path_output + '/' + file[:2] + '/ph1_images/' + file,\u001b[39;00m\n\u001b[0;32m     11\u001b[0m     \u001b[38;5;66;03m#           \"TIFF\",\u001b[39;00m\n\u001b[0;32m     12\u001b[0m     \u001b[38;5;66;03m#           optimize = True,\u001b[39;00m\n\u001b[0;32m     13\u001b[0m     \u001b[38;5;66;03m#           quality = 25)\u001b[39;00m\n",
      "File \u001b[1;32m~\\Anaconda3\\envs\\wound-compute-env\\lib\\site-packages\\PIL\\Image.py:2082\u001b[0m, in \u001b[0;36mImage.resize\u001b[1;34m(self, size, resample, box, reducing_gap)\u001b[0m\n\u001b[0;32m   2074\u001b[0m             \u001b[38;5;28mself\u001b[39m \u001b[38;5;241m=\u001b[39m Image\u001b[38;5;241m.\u001b[39mreduce(\u001b[38;5;28mself\u001b[39m, factor, box\u001b[38;5;241m=\u001b[39mreduce_box)\n\u001b[0;32m   2075\u001b[0m         box \u001b[38;5;241m=\u001b[39m (\n\u001b[0;32m   2076\u001b[0m             (box[\u001b[38;5;241m0\u001b[39m] \u001b[38;5;241m-\u001b[39m reduce_box[\u001b[38;5;241m0\u001b[39m]) \u001b[38;5;241m/\u001b[39m factor_x,\n\u001b[0;32m   2077\u001b[0m             (box[\u001b[38;5;241m1\u001b[39m] \u001b[38;5;241m-\u001b[39m reduce_box[\u001b[38;5;241m1\u001b[39m]) \u001b[38;5;241m/\u001b[39m factor_y,\n\u001b[0;32m   2078\u001b[0m             (box[\u001b[38;5;241m2\u001b[39m] \u001b[38;5;241m-\u001b[39m reduce_box[\u001b[38;5;241m0\u001b[39m]) \u001b[38;5;241m/\u001b[39m factor_x,\n\u001b[0;32m   2079\u001b[0m             (box[\u001b[38;5;241m3\u001b[39m] \u001b[38;5;241m-\u001b[39m reduce_box[\u001b[38;5;241m1\u001b[39m]) \u001b[38;5;241m/\u001b[39m factor_y,\n\u001b[0;32m   2080\u001b[0m         )\n\u001b[1;32m-> 2082\u001b[0m \u001b[38;5;28;01mreturn\u001b[39;00m \u001b[38;5;28mself\u001b[39m\u001b[38;5;241m.\u001b[39m_new(\u001b[38;5;28;43mself\u001b[39;49m\u001b[38;5;241;43m.\u001b[39;49m\u001b[43mim\u001b[49m\u001b[38;5;241;43m.\u001b[39;49m\u001b[43mresize\u001b[49m\u001b[43m(\u001b[49m\u001b[43msize\u001b[49m\u001b[43m,\u001b[49m\u001b[43m \u001b[49m\u001b[43mresample\u001b[49m\u001b[43m,\u001b[49m\u001b[43m \u001b[49m\u001b[43mbox\u001b[49m\u001b[43m)\u001b[49m)\n",
      "\u001b[1;31mKeyboardInterrupt\u001b[0m: "
     ]
    }
   ],
   "source": [
    "#Copy TIF files into folders grouped by plate position\n",
    "for file in os.listdir(path_input):\n",
    "    #Check if position described with only 2 characters\n",
    "    if file[2] == '_':\n",
    "        if os.path.exists(path_output + '/' + file[:2] + '/ph1_images'):\n",
    "            try:\n",
    "                image = Image.open(path_input + '/' + file)\n",
    "                new_image = image.resize((512, 512))\n",
    "                new_image.save(path_output + '/' + file[:2] + '/ph1_images/' + file)\n",
    "                #image.save(path_output + '/' + file[:2] + '/ph1_images/' + file,\n",
    "                #           \"TIFF\",\n",
    "                #           optimize = True,\n",
    "                #           quality = 25)\n",
    "            except OSError as e:\n",
    "                # If it fails, inform the user.\n",
    "                print('Error: %s - %s.' % (e.filename, e.strerror))\n",
    "\n",
    "        else:\n",
    "            try:\n",
    "                os.makedirs(path_output + '/' + file[:2] + '/ph1_images')\n",
    "                shutil.copy('G:/My Drive/Boston University/Chen Lab/Code/Anish/wc_dataset_ph1.yaml',\n",
    "                            path_output + '/' + file[:2] + '/wc_dataset_ph1.yaml')\n",
    "\n",
    "                image = Image.open(path_input + '/' + file)\n",
    "                new_image = image.resize((512, 512))\n",
    "                new_image.save(path_output + '/' + file[:2] + '/ph1_images/' + file)\n",
    "                #image.save(path_output + '/' + file[:2] + '/ph1_images/' + file,\n",
    "                #           \"TIFF\",\n",
    "                #           optimize = True,\n",
    "                #           quality = 25)\n",
    "\n",
    "            except OSError as e:\n",
    "                # If it fails, inform the user.\n",
    "                print('Error: %s - %s.' % (e.filename, e.strerror))\n",
    "\n",
    "    #Otherwise, assume position is described with 3 characters\n",
    "    else:\n",
    "        if os.path.exists(path_output + '/' + file[:3] + '/ph1_images'):\n",
    "            try:\n",
    "                image = Image.open(path_input + '/' + file)\n",
    "                new_image = image.resize((512, 512))\n",
    "                new_image.save(path_output + '/' + file[:3] + '/ph1_images/' + file)\n",
    "                #image.save(path_output + '/' + file[:3] + '/ph1_images/' + file,\n",
    "                #           \"TIFF\",\n",
    "                #           optimize = True,\n",
    "                #           quality = 25)\n",
    "            except OSError as e:\n",
    "                # If it fails, inform the user.\n",
    "                print('Error: %s - %s.' % (e.filename, e.strerror))\n",
    "\n",
    "        else:\n",
    "            try:\n",
    "                os.makedirs(path_output + '/' + file[:3] + '/ph1_images')\n",
    "                shutil.copy('G:/My Drive/Boston University/Chen Lab/Code/Anish/wc_dataset_ph1.yaml',\n",
    "                            path_output + '/' + file[:3] + '/wc_dataset_ph1.yaml')\n",
    "                image = Image.open(path_input + '/' + file)\n",
    "                new_image = image.resize((512, 512))\n",
    "                new_image.save(path_output + '/' + file[:3] + '/ph1_images/' + file)\n",
    "                #image.save(path_output + '/' + file[:3] + '/ph1_images/' + file,\n",
    "                #           \"TIFF\",\n",
    "                #           optimize = True,\n",
    "                #           quality = 25)\n",
    "            except OSError as e:\n",
    "                # If it fails, inform the user.\n",
    "                print('Error: %s - %s.' % (e.filename, e.strerror))"
   ]
  },
  {
   "cell_type": "code",
   "execution_count": 9,
   "id": "724cc4b5",
   "metadata": {},
   "outputs": [
    {
     "name": "stdout",
     "output_type": "stream",
     "text": [
      "Fighting for my life!\n"
     ]
    },
    {
     "ename": "KeyboardInterrupt",
     "evalue": "",
     "output_type": "error",
     "traceback": [
      "\u001b[1;31m---------------------------------------------------------------------------\u001b[0m",
      "\u001b[1;31mKeyboardInterrupt\u001b[0m                         Traceback (most recent call last)",
      "Cell \u001b[1;32mIn[9], line 6\u001b[0m\n\u001b[0;32m      4\u001b[0m \u001b[38;5;28;01mtry\u001b[39;00m:\n\u001b[0;32m      5\u001b[0m     \u001b[38;5;28mprint\u001b[39m(\u001b[38;5;124m\"\u001b[39m\u001b[38;5;124mFighting for my life!\u001b[39m\u001b[38;5;124m\"\u001b[39m)\n\u001b[1;32m----> 6\u001b[0m     time_all, action_all \u001b[38;5;241m=\u001b[39m \u001b[43mia\u001b[49m\u001b[38;5;241;43m.\u001b[39;49m\u001b[43mrun_all\u001b[49m\u001b[43m(\u001b[49m\u001b[43minput_location\u001b[49m\u001b[43m)\u001b[49m\n\u001b[0;32m      7\u001b[0m     \u001b[38;5;28mprint\u001b[39m(\u001b[38;5;124m\"\u001b[39m\u001b[38;5;124mtissue number:\u001b[39m\u001b[38;5;124m\"\u001b[39m, stage_pos, \u001b[38;5;124m\"\u001b[39m\u001b[38;5;124mtime:\u001b[39m\u001b[38;5;124m\"\u001b[39m, time\u001b[38;5;241m.\u001b[39mtime())\n\u001b[0;32m      8\u001b[0m \u001b[38;5;28;01mexcept\u001b[39;00m \u001b[38;5;167;01mException\u001b[39;00m \u001b[38;5;28;01mas\u001b[39;00m ex:\n",
      "File \u001b[1;32mE:\\woundcompute-main\\src\\woundcompute\\image_analysis.py:1609\u001b[0m, in \u001b[0;36mrun_all\u001b[1;34m(folder_path)\u001b[0m\n\u001b[0;32m   1607\u001b[0m thresh_fcn \u001b[38;5;241m=\u001b[39m select_threshold_function(input_dict, \u001b[38;5;28;01mFalse\u001b[39;00m, \u001b[38;5;28;01mFalse\u001b[39;00m, \u001b[38;5;28;01mTrue\u001b[39;00m)\n\u001b[0;32m   1608\u001b[0m \u001b[38;5;66;03m# throw errors here if input_path == None? (future) and/or output dir isn't created\u001b[39;00m\n\u001b[1;32m-> 1609\u001b[0m _, _, _, _, _, _, _, _, _, img_list_ph1, contour_list_ph1, tissue_param_list_ph1, is_broken_list_ph1, is_closed_list_ph1 \u001b[38;5;241m=\u001b[39m \u001b[43mrun_segment\u001b[49m\u001b[43m(\u001b[49m\u001b[43minput_path\u001b[49m\u001b[43m,\u001b[49m\u001b[43m \u001b[49m\u001b[43moutput_path\u001b[49m\u001b[43m,\u001b[49m\u001b[43m \u001b[49m\u001b[43mthresh_fcn\u001b[49m\u001b[43m)\u001b[49m\n\u001b[0;32m   1610\u001b[0m time_all\u001b[38;5;241m.\u001b[39mappend(time\u001b[38;5;241m.\u001b[39mtime())\n\u001b[0;32m   1611\u001b[0m action_all\u001b[38;5;241m.\u001b[39mappend(\u001b[38;5;124m\"\u001b[39m\u001b[38;5;124msegmented ph1\u001b[39m\u001b[38;5;124m\"\u001b[39m)\n",
      "File \u001b[1;32mE:\\woundcompute-main\\src\\woundcompute\\image_analysis.py:1245\u001b[0m, in \u001b[0;36mrun_segment\u001b[1;34m(input_path, output_path, threshold_function_idx)\u001b[0m\n\u001b[0;32m   1243\u001b[0m img_list \u001b[38;5;241m=\u001b[39m read_all_tiff(input_path)\n\u001b[0;32m   1244\u001b[0m \u001b[38;5;66;03m# apply threshold\u001b[39;00m\n\u001b[1;32m-> 1245\u001b[0m thresholded_list \u001b[38;5;241m=\u001b[39m \u001b[43mthreshold_all\u001b[49m\u001b[43m(\u001b[49m\u001b[43mimg_list\u001b[49m\u001b[43m,\u001b[49m\u001b[43m \u001b[49m\u001b[43mthreshold_function_idx\u001b[49m\u001b[43m)\u001b[49m\n\u001b[0;32m   1246\u001b[0m \u001b[38;5;66;03m# masking\u001b[39;00m\n\u001b[0;32m   1247\u001b[0m tissue_mask_list, wound_mask_list, wound_region_list \u001b[38;5;241m=\u001b[39m mask_all(thresholded_list, threshold_function_idx)\n",
      "File \u001b[1;32mE:\\woundcompute-main\\src\\woundcompute\\image_analysis.py:810\u001b[0m, in \u001b[0;36mthreshold_all\u001b[1;34m(img_list, threshold_function_idx)\u001b[0m\n\u001b[0;32m    808\u001b[0m thresholded_list \u001b[38;5;241m=\u001b[39m []\n\u001b[0;32m    809\u001b[0m \u001b[38;5;28;01mfor\u001b[39;00m img \u001b[38;5;129;01min\u001b[39;00m img_list:\n\u001b[1;32m--> 810\u001b[0m     thresh_img \u001b[38;5;241m=\u001b[39m \u001b[43mthreshold_array\u001b[49m\u001b[43m(\u001b[49m\u001b[43mimg\u001b[49m\u001b[43m,\u001b[49m\u001b[43m \u001b[49m\u001b[43mthreshold_function_idx\u001b[49m\u001b[43m)\u001b[49m\n\u001b[0;32m    811\u001b[0m     thresholded_list\u001b[38;5;241m.\u001b[39mappend(thresh_img)\n\u001b[0;32m    812\u001b[0m \u001b[38;5;28;01mreturn\u001b[39;00m thresholded_list\n",
      "File \u001b[1;32mE:\\woundcompute-main\\src\\woundcompute\\image_analysis.py:272\u001b[0m, in \u001b[0;36mthreshold_array\u001b[1;34m(array, selection_idx)\u001b[0m\n\u001b[0;32m    270\u001b[0m \u001b[38;5;28;01melif\u001b[39;00m selection_idx \u001b[38;5;241m==\u001b[39m \u001b[38;5;241m4\u001b[39m:\n\u001b[0;32m    271\u001b[0m     \u001b[38;5;124;03m\"\"\"Given a phase contrast ph1 image array. Will return a binary array where tissue = 0, background = 1.\"\"\"\u001b[39;00m\n\u001b[1;32m--> 272\u001b[0m     gabor_all \u001b[38;5;241m=\u001b[39m \u001b[43mgabor_filter\u001b[49m\u001b[43m(\u001b[49m\u001b[43marray\u001b[49m\u001b[43m)\u001b[49m\n\u001b[0;32m    273\u001b[0m     median_filter_size \u001b[38;5;241m=\u001b[39m \u001b[38;5;241m5\u001b[39m\n\u001b[0;32m    274\u001b[0m     median_applied \u001b[38;5;241m=\u001b[39m apply_median_filter(gabor_all, median_filter_size)\n",
      "File \u001b[1;32mE:\\woundcompute-main\\src\\woundcompute\\image_analysis.py:240\u001b[0m, in \u001b[0;36mgabor_filter\u001b[1;34m(array, theta_range, ff_max, ff_mult)\u001b[0m\n\u001b[0;32m    238\u001b[0m     \u001b[38;5;28;01mfor\u001b[39;00m tt \u001b[38;5;129;01min\u001b[39;00m \u001b[38;5;28mrange\u001b[39m(\u001b[38;5;241m0\u001b[39m, theta_range):\n\u001b[0;32m    239\u001b[0m         theta \u001b[38;5;241m=\u001b[39m tt \u001b[38;5;241m*\u001b[39m np\u001b[38;5;241m.\u001b[39mpi \u001b[38;5;241m/\u001b[39m (theta_range \u001b[38;5;241m-\u001b[39m \u001b[38;5;241m1\u001b[39m)\n\u001b[1;32m--> 240\u001b[0m         filt_real, _ \u001b[38;5;241m=\u001b[39m \u001b[43mgabor\u001b[49m\u001b[43m(\u001b[49m\u001b[43marray\u001b[49m\u001b[43m,\u001b[49m\u001b[43m \u001b[49m\u001b[43mfrequency\u001b[49m\u001b[38;5;241;43m=\u001b[39;49m\u001b[43mfrequency\u001b[49m\u001b[43m,\u001b[49m\u001b[43m \u001b[49m\u001b[43mtheta\u001b[49m\u001b[38;5;241;43m=\u001b[39;49m\u001b[43mtheta\u001b[49m\u001b[43m)\u001b[49m\n\u001b[0;32m    241\u001b[0m         gabor_all \u001b[38;5;241m+\u001b[39m\u001b[38;5;241m=\u001b[39m filt_real\n\u001b[0;32m    242\u001b[0m \u001b[38;5;28;01mreturn\u001b[39;00m gabor_all\n",
      "File \u001b[1;32m~\\Anaconda3\\envs\\wound-compute-env\\lib\\site-packages\\skimage\\filters\\_gabor.py:197\u001b[0m, in \u001b[0;36mgabor\u001b[1;34m(image, frequency, theta, bandwidth, sigma_x, sigma_y, n_stds, offset, mode, cval)\u001b[0m\n\u001b[0;32m    193\u001b[0m g \u001b[38;5;241m=\u001b[39m gabor_kernel(frequency, theta, bandwidth, sigma_x, sigma_y, n_stds,\n\u001b[0;32m    194\u001b[0m                  offset, dtype\u001b[38;5;241m=\u001b[39mkernel_dtype)\n\u001b[0;32m    196\u001b[0m filtered_real \u001b[38;5;241m=\u001b[39m ndi\u001b[38;5;241m.\u001b[39mconvolve(image, np\u001b[38;5;241m.\u001b[39mreal(g), mode\u001b[38;5;241m=\u001b[39mmode, cval\u001b[38;5;241m=\u001b[39mcval)\n\u001b[1;32m--> 197\u001b[0m filtered_imag \u001b[38;5;241m=\u001b[39m \u001b[43mndi\u001b[49m\u001b[38;5;241;43m.\u001b[39;49m\u001b[43mconvolve\u001b[49m\u001b[43m(\u001b[49m\u001b[43mimage\u001b[49m\u001b[43m,\u001b[49m\u001b[43m \u001b[49m\u001b[43mnp\u001b[49m\u001b[38;5;241;43m.\u001b[39;49m\u001b[43mimag\u001b[49m\u001b[43m(\u001b[49m\u001b[43mg\u001b[49m\u001b[43m)\u001b[49m\u001b[43m,\u001b[49m\u001b[43m \u001b[49m\u001b[43mmode\u001b[49m\u001b[38;5;241;43m=\u001b[39;49m\u001b[43mmode\u001b[49m\u001b[43m,\u001b[49m\u001b[43m \u001b[49m\u001b[43mcval\u001b[49m\u001b[38;5;241;43m=\u001b[39;49m\u001b[43mcval\u001b[49m\u001b[43m)\u001b[49m\n\u001b[0;32m    199\u001b[0m \u001b[38;5;28;01mreturn\u001b[39;00m filtered_real, filtered_imag\n",
      "File \u001b[1;32m~\\Anaconda3\\envs\\wound-compute-env\\lib\\site-packages\\scipy\\ndimage\\_filters.py:862\u001b[0m, in \u001b[0;36mconvolve\u001b[1;34m(input, weights, output, mode, cval, origin)\u001b[0m\n\u001b[0;32m    756\u001b[0m \u001b[38;5;129m@_ni_docstrings\u001b[39m\u001b[38;5;241m.\u001b[39mdocfiller\n\u001b[0;32m    757\u001b[0m \u001b[38;5;28;01mdef\u001b[39;00m \u001b[38;5;21mconvolve\u001b[39m(\u001b[38;5;28minput\u001b[39m, weights, output\u001b[38;5;241m=\u001b[39m\u001b[38;5;28;01mNone\u001b[39;00m, mode\u001b[38;5;241m=\u001b[39m\u001b[38;5;124m'\u001b[39m\u001b[38;5;124mreflect\u001b[39m\u001b[38;5;124m'\u001b[39m, cval\u001b[38;5;241m=\u001b[39m\u001b[38;5;241m0.0\u001b[39m,\n\u001b[0;32m    758\u001b[0m              origin\u001b[38;5;241m=\u001b[39m\u001b[38;5;241m0\u001b[39m):\n\u001b[0;32m    759\u001b[0m     \u001b[38;5;124;03m\"\"\"\u001b[39;00m\n\u001b[0;32m    760\u001b[0m \u001b[38;5;124;03m    Multidimensional convolution.\u001b[39;00m\n\u001b[0;32m    761\u001b[0m \n\u001b[1;32m   (...)\u001b[0m\n\u001b[0;32m    860\u001b[0m \n\u001b[0;32m    861\u001b[0m \u001b[38;5;124;03m    \"\"\"\u001b[39;00m\n\u001b[1;32m--> 862\u001b[0m     \u001b[38;5;28;01mreturn\u001b[39;00m \u001b[43m_correlate_or_convolve\u001b[49m\u001b[43m(\u001b[49m\u001b[38;5;28;43minput\u001b[39;49m\u001b[43m,\u001b[49m\u001b[43m \u001b[49m\u001b[43mweights\u001b[49m\u001b[43m,\u001b[49m\u001b[43m \u001b[49m\u001b[43moutput\u001b[49m\u001b[43m,\u001b[49m\u001b[43m \u001b[49m\u001b[43mmode\u001b[49m\u001b[43m,\u001b[49m\u001b[43m \u001b[49m\u001b[43mcval\u001b[49m\u001b[43m,\u001b[49m\n\u001b[0;32m    863\u001b[0m \u001b[43m                                  \u001b[49m\u001b[43morigin\u001b[49m\u001b[43m,\u001b[49m\u001b[43m \u001b[49m\u001b[38;5;28;43;01mTrue\u001b[39;49;00m\u001b[43m)\u001b[49m\n",
      "File \u001b[1;32m~\\Anaconda3\\envs\\wound-compute-env\\lib\\site-packages\\scipy\\ndimage\\_filters.py:686\u001b[0m, in \u001b[0;36m_correlate_or_convolve\u001b[1;34m(input, weights, output, mode, cval, origin, convolution)\u001b[0m\n\u001b[0;32m    684\u001b[0m     \u001b[38;5;28;01mraise\u001b[39;00m \u001b[38;5;167;01mRuntimeError\u001b[39;00m(\u001b[38;5;124m\"\u001b[39m\u001b[38;5;124mA sequence of modes is not supported\u001b[39m\u001b[38;5;124m\"\u001b[39m)\n\u001b[0;32m    685\u001b[0m mode \u001b[38;5;241m=\u001b[39m _ni_support\u001b[38;5;241m.\u001b[39m_extend_mode_to_code(mode)\n\u001b[1;32m--> 686\u001b[0m \u001b[43m_nd_image\u001b[49m\u001b[38;5;241;43m.\u001b[39;49m\u001b[43mcorrelate\u001b[49m\u001b[43m(\u001b[49m\u001b[38;5;28;43minput\u001b[39;49m\u001b[43m,\u001b[49m\u001b[43m \u001b[49m\u001b[43mweights\u001b[49m\u001b[43m,\u001b[49m\u001b[43m \u001b[49m\u001b[43moutput\u001b[49m\u001b[43m,\u001b[49m\u001b[43m \u001b[49m\u001b[43mmode\u001b[49m\u001b[43m,\u001b[49m\u001b[43m \u001b[49m\u001b[43mcval\u001b[49m\u001b[43m,\u001b[49m\u001b[43m \u001b[49m\u001b[43morigins\u001b[49m\u001b[43m)\u001b[49m\n\u001b[0;32m    687\u001b[0m \u001b[38;5;28;01mif\u001b[39;00m temp_needed:\n\u001b[0;32m    688\u001b[0m     temp[\u001b[38;5;241m.\u001b[39m\u001b[38;5;241m.\u001b[39m\u001b[38;5;241m.\u001b[39m] \u001b[38;5;241m=\u001b[39m output\n",
      "\u001b[1;31mKeyboardInterrupt\u001b[0m: "
     ]
    }
   ],
   "source": [
    "#run wound compute code for all plate positions\n",
    "for folder in os.listdir(path_output):\n",
    "    input_location = Path(path_output + '/' + folder)\n",
    "    try:\n",
    "        print(\"Fighting for my life!\")\n",
    "        time_all, action_all = ia.run_all(input_location)\n",
    "        print(\"tissue number:\", stage_pos, \"time:\", time.time())\n",
    "    except Exception as ex:\n",
    "        time_all.append(time.time())\n",
    "        print(\"tissue number:\", stage_pos, \"time:\", time.time())\n",
    "        print(\"---------ERROR OF SOME DESCRIPTION HAS HAPPENED-------\")\n",
    "        print(ex)\n",
    "        print(\"------------------------------------------------------\")"
   ]
  },
  {
   "cell_type": "code",
   "execution_count": null,
   "id": "115df38c",
   "metadata": {},
   "outputs": [],
   "source": []
  }
 ],
 "metadata": {
  "kernelspec": {
   "display_name": "Python 3",
   "language": "python",
   "name": "python3"
  },
  "language_info": {
   "codemirror_mode": {
    "name": "ipython",
    "version": 3
   },
   "file_extension": ".py",
   "mimetype": "text/x-python",
   "name": "python",
   "nbconvert_exporter": "python",
   "pygments_lexer": "ipython3",
   "version": "3.8.5"
  }
 },
 "nbformat": 4,
 "nbformat_minor": 5
}

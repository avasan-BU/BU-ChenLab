{
 "cells": [
  {
   "cell_type": "markdown",
   "metadata": {},
   "source": [
    "Name: run_wc_dataset;\n",
    "\n",
    "Version: 2.0;\n",
    "\n",
    "Author: Anish Vasan;\n",
    "\n",
    "Organization: Chen/Eyckmans Lab, Boston University;\n",
    "\n",
    "Date: 20230509;"
   ]
  },
  {
   "cell_type": "markdown",
   "metadata": {},
   "source": [
    "## IMPORTS ##"
   ]
  },
  {
   "cell_type": "code",
   "execution_count": 1,
   "metadata": {},
   "outputs": [],
   "source": [
    "import os, shutil, fnmatch, tkinter, yaml\n",
    "from tkinter.filedialog import askdirectory\n",
    "from pathlib import Path\n",
    "from woundcompute import image_analysis as ia\n",
    "import time"
   ]
  },
  {
   "cell_type": "markdown",
   "metadata": {},
   "source": [
    "## DEFINITIONS ##\n",
    "## These require user input/changes based on experiments ##"
   ]
  },
  {
   "cell_type": "code",
   "execution_count": 2,
   "metadata": {},
   "outputs": [],
   "source": [
    "image_type = \"ph1\"  #Options:  bf, ph1\n",
    "is_fl = False #Options: True, False\n",
    "is_track = False #Options: True, False"
   ]
  },
  {
   "cell_type": "markdown",
   "metadata": {},
   "source": [
    "## RUN CODE ##\n",
    "\n",
    "**Section 1: Navigate to data folder containing .nd file**"
   ]
  },
  {
   "cell_type": "code",
   "execution_count": 3,
   "metadata": {},
   "outputs": [
    {
     "name": "stdout",
     "output_type": "stream",
     "text": [
      "Current config:\n",
      "Image Type: ph1\n",
      "Fluorescent Images: False\n",
      "Track Images: False\n",
      "Please open the directory that contains your Cyt5 tif files\n",
      "Inputed path: C:/Working Folder/20240428_R5BP10_NHDFneo_P3_dECM/tissue_ai_2/Sorted/tissue_ai_2/2\n"
     ]
    }
   ],
   "source": [
    "print(\"Current config:\")\n",
    "print(\"Image Type:\", image_type)\n",
    "print(\"Fluorescent Images:\", is_fl)\n",
    "print(\"Track Images:\", is_track)\n",
    "\n",
    "#prompt user for the file directory. Will open as a popup window named \"tk\"\n",
    "tk_root = tkinter.Tk()\n",
    "print(\"Please open the directory that contains your Cyt5 tif files\")\n",
    "path_input = askdirectory(title='Select Input Folder with Cyt5 tif files')  # shows dialog box and return the path\n",
    "print(\"Inputed path:\", path_input)\n",
    "tk_root.destroy()"
   ]
  },
  {
   "cell_type": "markdown",
   "metadata": {},
   "source": [
    "**Section 2: Execute woundcompute for all folders in the base folder**"
   ]
  },
  {
   "cell_type": "code",
   "execution_count": 4,
   "metadata": {},
   "outputs": [
    {
     "name": "stdout",
     "output_type": "stream",
     "text": [
      "Starting wound compute for each stage position...\n",
      "tissue number: s16 time: 1721287038.1768982\n",
      "tissue number: s17 time: 1721289119.9985106\n",
      "tissue number: s18 time: 1721291184.2961419\n",
      "tissue number: s19 time: 1721293275.4744873\n",
      "tissue number: s20 time: 1721295339.7954314\n",
      "tissue number: s21 time: 1721297435.0741057\n",
      "tissue number: s22 time: 1721299515.5890186\n",
      "tissue number: s23 time: 1721301507.641609\n",
      "tissue number: s24 time: 1721303449.0305986\n",
      "tissue number: s25 time: 1721305425.1515613\n",
      "tissue number: s26 time: 1721307402.2415435\n",
      "tissue number: s27 time: 1721309552.75526\n",
      "tissue number: s28 time: 1721311709.694758\n",
      "tissue number: s29 time: 1721313860.5761065\n",
      "tissue number: s30 time: 1721316012.6087365\n",
      "Completed! Hurray!\n",
      "Please run extract_dataset to consolidate outputs into an excel file!\n"
     ]
    }
   ],
   "source": [
    "print(\"Starting wound compute for each stage position...\")\n",
    "time_all=[]\n",
    "for folder in os.listdir(path_input):\n",
    "    position = Path(path_input).joinpath(folder)\n",
    "    try:\n",
    "        time_all, action_all = ia.run_all(position)\n",
    "        print(\"tissue number:\", folder, \"time:\", time.time())\n",
    "    except Exception as ex:\n",
    "        time_all.append(time.time())\n",
    "        print(\"tissue number:\", folder, \"time:\", time.time())\n",
    "        print(\"---------ERROR OF SOME DESCRIPTION HAS HAPPENED-------\")\n",
    "        print(ex)\n",
    "        print(\"------------------------------------------------------\")\n",
    "\n",
    "print(\"Completed! Hurray!\")\n",
    "\n",
    "print(\"Please run extract_dataset to consolidate outputs into an excel file!\")"
   ]
  },
  {
   "cell_type": "code",
   "execution_count": null,
   "metadata": {},
   "outputs": [],
   "source": []
  }
 ],
 "metadata": {
  "kernelspec": {
   "display_name": "Python 3 (ipykernel)",
   "language": "python",
   "name": "python3"
  },
  "language_info": {
   "codemirror_mode": {
    "name": "ipython",
    "version": 3
   },
   "file_extension": ".py",
   "mimetype": "text/x-python",
   "name": "python",
   "nbconvert_exporter": "python",
   "pygments_lexer": "ipython3",
   "version": "3.9.19"
  }
 },
 "nbformat": 4,
 "nbformat_minor": 4
}

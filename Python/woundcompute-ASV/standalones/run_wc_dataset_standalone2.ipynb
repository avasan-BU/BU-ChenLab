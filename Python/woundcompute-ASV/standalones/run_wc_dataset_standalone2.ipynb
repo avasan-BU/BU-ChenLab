{
 "cells": [
  {
   "cell_type": "markdown",
   "metadata": {},
   "source": [
    "Name: run_wc_dataset;\n",
    "\n",
    "Version: 2.0;\n",
    "\n",
    "Author: Anish Vasan;\n",
    "\n",
    "Organization: Chen/Eyckmans Lab, Boston University;\n",
    "\n",
    "Date: 20230509;"
   ]
  },
  {
   "cell_type": "markdown",
   "metadata": {},
   "source": [
    "## IMPORTS ##"
   ]
  },
  {
   "cell_type": "code",
   "execution_count": 1,
   "metadata": {},
   "outputs": [],
   "source": [
    "import os, shutil, fnmatch, tkinter, yaml\n",
    "from tkinter.filedialog import askdirectory\n",
    "from pathlib import Path\n",
    "from woundcompute import image_analysis as ia\n",
    "import time"
   ]
  },
  {
   "cell_type": "markdown",
   "metadata": {},
   "source": [
    "## DEFINITIONS ##\n",
    "## These require user input/changes based on experiments ##"
   ]
  },
  {
   "cell_type": "code",
   "execution_count": 2,
   "metadata": {},
   "outputs": [],
   "source": [
    "image_type = \"bf\"  #Options:  bf, ph1\n",
    "is_fl = False #Options: True, False\n",
    "is_track = False #Options: True, False"
   ]
  },
  {
   "cell_type": "markdown",
   "metadata": {},
   "source": [
    "## RUN CODE ##\n",
    "\n",
    "**Section 1: Navigate to data folder containing .nd file**"
   ]
  },
  {
   "cell_type": "code",
   "execution_count": 3,
   "metadata": {},
   "outputs": [
    {
     "name": "stdout",
     "output_type": "stream",
     "text": [
      "Current config:\n",
      "Image Type: bf\n",
      "Fluorescent Images: False\n",
      "Track Images: False\n",
      "Please open the directory that contains your Cyt5 tif files\n",
      "Inputed path: E:/Microscope Images/Cytation5/230419_191710_20230419_NHDFneo_P3_H2O2_Ascorbate/Plate 1/Sorted/2\n"
     ]
    }
   ],
   "source": [
    "print(\"Current config:\")\n",
    "print(\"Image Type:\", image_type)\n",
    "print(\"Fluorescent Images:\", is_fl)\n",
    "print(\"Track Images:\", is_track)\n",
    "\n",
    "#prompt user for the file directory. Will open as a popup window named \"tk\"\n",
    "tk_root = tkinter.Tk()\n",
    "print(\"Please open the directory that contains your Cyt5 tif files\")\n",
    "path_input = askdirectory(title='Select Input Folder with Cyt5 tif files')  # shows dialog box and return the path\n",
    "print(\"Inputed path:\", path_input)\n",
    "tk_root.destroy()"
   ]
  },
  {
   "cell_type": "markdown",
   "metadata": {},
   "source": [
    "**Section 2: Execute woundcompute for all folders in the base folder**"
   ]
  },
  {
   "cell_type": "code",
   "execution_count": 4,
   "metadata": {},
   "outputs": [
    {
     "name": "stdout",
     "output_type": "stream",
     "text": [
      "Starting wound compute for each stage position...\n",
      "tissue number: B08 time: 1683616656.9216018\n",
      "tissue number: B09 time: 1683617545.9317198\n",
      "tissue number: B10 time: 1683618280.4975662\n",
      "tissue number: B12 time: 1683619047.1520796\n",
      "tissue number: C02 time: 1683620083.0238674\n",
      "tissue number: C03 time: 1683620912.2530072\n",
      "tissue number: C04 time: 1683621670.5406864\n",
      "tissue number: C05 time: 1683622551.4630795\n",
      "tissue number: C10 time: 1683623361.3643532\n",
      "tissue number: C11 time: 1683624168.062825\n",
      "tissue number: D01 time: 1683624919.2312317\n",
      "tissue number: D04 time: 1683625718.9467967\n",
      "tissue number: D05 time: 1683626681.738199\n",
      "Completed! Hurray!\n",
      "Please run extract_dataset to consolidate outputs into an excel file!\n"
     ]
    }
   ],
   "source": [
    "print(\"Starting wound compute for each stage position...\")\n",
    "time_all=[]\n",
    "for folder in os.listdir(path_input):\n",
    "    position = Path(path_input).joinpath(folder)\n",
    "    try:\n",
    "        time_all, action_all = ia.run_all(position)\n",
    "        print(\"tissue number:\", folder, \"time:\", time.time())\n",
    "    except Exception as ex:\n",
    "        time_all.append(time.time())\n",
    "        print(\"tissue number:\", folder, \"time:\", time.time())\n",
    "        print(\"---------ERROR OF SOME DESCRIPTION HAS HAPPENED-------\")\n",
    "        print(ex)\n",
    "        print(\"------------------------------------------------------\")\n",
    "\n",
    "print(\"Completed! Hurray!\")\n",
    "\n",
    "print(\"Please run extract_dataset to consolidate outputs into an excel file!\")"
   ]
  },
  {
   "cell_type": "code",
   "execution_count": null,
   "metadata": {},
   "outputs": [],
   "source": []
  }
 ],
 "metadata": {
  "kernelspec": {
   "display_name": "Python 3 (ipykernel)",
   "language": "python",
   "name": "python3"
  },
  "language_info": {
   "codemirror_mode": {
    "name": "ipython",
    "version": 3
   },
   "file_extension": ".py",
   "mimetype": "text/x-python",
   "name": "python",
   "nbconvert_exporter": "python",
   "pygments_lexer": "ipython3",
   "version": "3.9.13"
  }
 },
 "nbformat": 4,
 "nbformat_minor": 1
}

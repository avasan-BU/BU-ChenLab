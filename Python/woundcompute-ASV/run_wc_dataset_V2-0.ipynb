{
 "cells": [
  {
   "cell_type": "markdown",
   "source": [
    "Name: run_wc_dataset\n",
    "Version: 2.0\n",
    "Author: Anish Vasan\n",
    "Organization: Chen/Eyckmans Lab, Boston University\n",
    "Date: 20230403"
   ],
   "metadata": {
    "collapsed": false
   }
  },
  {
   "cell_type": "code",
   "execution_count": null,
   "metadata": {
    "collapsed": true
   },
   "outputs": [],
   "source": [
    "#imports\n",
    "import os, shutil, fnmatch, tkinter, yaml\n",
    "from tkinter.filedialog import askdirectory\n",
    "from pathlib import Path\n",
    "from woundcompute import image_analysis as ia\n",
    "import time"
   ]
  },
  {
   "cell_type": "code",
   "execution_count": null,
   "outputs": [],
   "source": [
    "def create_yaml()"
   ],
   "metadata": {
    "collapsed": false
   }
  },
  {
   "cell_type": "code",
   "execution_count": null,
   "outputs": [],
   "source": [
    "def define_basename_list(path_input: str) -> list:\n",
    "    \"\"\"Given an input path as a string. Will return a list of experiment names in the input folder\"\"\"\n",
    "    basename_list = []\n",
    "    for file in os.listdir(path_input):\n",
    "        if file.endswith('.nd'):\n",
    "            name, ext = os.path.splitext(file)\n",
    "            basename_list.append(name)\n",
    "    return basename_list"
   ],
   "metadata": {
    "collapsed": false
   }
  },
  {
   "cell_type": "code",
   "execution_count": null,
   "outputs": [],
   "source": [
    "def sort_basename_folders(basename_list: list, path_input: str, path_output: str):\n",
    "    \"\"\"Given a list of experiments obtained from the .nd files in the input folder. Given input and out paths as str. Creates an output folder at path_output. Copies and sorts TIFF files in path_input according to basenames in output folder \"\"\"\n",
    "\n",
    "    for basename in basename_list:\n",
    "\n",
    "        #create folders for each expt\n",
    "        os.makedirs(path_output + '/' + basename)\n",
    "\n",
    "        #copy .nd file into respective basename folder\n",
    "        shutil.copy(path_input + '/' + basename + '.nd', path_output + '/' + basename + '/' + basename + '.nd')\n",
    "\n",
    "        #copy TIF files to respective basename folders, excludes thumbnail files\n",
    "        for file in os.listdir(path_input):\n",
    "            if file.startswith(basename + '_') and not fnmatch.fnmatch(file, '*thumb*'):\n",
    "                shutil.copy(path_input + '/' + file, path_output + '/' + basename + '/' + file)"
   ],
   "metadata": {
    "collapsed": false
   }
  },
  {
   "cell_type": "code",
   "execution_count": null,
   "outputs": [],
   "source": [
    "def extract_nd_info(basename_list: list,path_output: str)-> list:\n",
    "    \"\"\"Given a basename list and an output path. Will extract number of stage positions for each list and create position map lists for each basename\"\"\"\n",
    "    stage_positions = []\n",
    "    for basename in basename_list:\n",
    "        with open(path_output + '/' + basename + '/' + basename + '.nd', 'r') as nd_file:\n",
    "            for l_no, line in enumerate(nd_file):\n",
    "                if '\"NStagePositions\"' in line:\n",
    "                    stage_positions.append([int(s) for s in line.split() if s.isdigit()][-1])\n",
    "                    break\n",
    "\n",
    "    return stage_positions"
   ],
   "metadata": {
    "collapsed": false
   }
  },
  {
   "cell_type": "code",
   "execution_count": null,
   "outputs": [],
   "source": [],
   "metadata": {
    "collapsed": false
   }
  }
 ],
 "metadata": {
  "kernelspec": {
   "display_name": "Python 3",
   "language": "python",
   "name": "python3"
  },
  "language_info": {
   "codemirror_mode": {
    "name": "ipython",
    "version": 2
   },
   "file_extension": ".py",
   "mimetype": "text/x-python",
   "name": "python",
   "nbconvert_exporter": "python",
   "pygments_lexer": "ipython2",
   "version": "2.7.6"
  }
 },
 "nbformat": 4,
 "nbformat_minor": 0
}

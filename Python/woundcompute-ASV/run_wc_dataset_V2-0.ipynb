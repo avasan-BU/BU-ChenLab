{
 "cells": [
  {
   "cell_type": "markdown",
   "source": [
    "Name: run_wc_dataset;\n",
    "\n",
    "Version: 2.0;\n",
    "\n",
    "Author: Anish Vasan;\n",
    "\n",
    "Organization: Chen/Eyckmans Lab, Boston University;\n",
    "\n",
    "Date: 20230403;"
   ],
   "metadata": {
    "collapsed": false
   }
  },
  {
   "cell_type": "markdown",
   "source": [
    "## IMPORTS ##"
   ],
   "metadata": {
    "collapsed": false
   }
  },
  {
   "cell_type": "code",
   "execution_count": 79,
   "metadata": {
    "collapsed": true
   },
   "outputs": [],
   "source": [
    "import os, shutil, fnmatch, tkinter, yaml\n",
    "from tkinter.filedialog import askdirectory\n",
    "from pathlib import Path\n",
    "from woundcompute import image_analysis as ia\n",
    "import time\n",
    "import os, shutil, fnmatch, tkinter, yaml\n",
    "from tkinter.filedialog import askdirectory\n",
    "from pathlib import Path\n",
    "from woundcompute import image_analysis as ia\n",
    "import time"
   ]
  },
  {
   "cell_type": "markdown",
   "source": [
    "## DEFINITIONS ##\n",
    "## These require user input/changes based on experiments ##"
   ],
   "metadata": {
    "collapsed": false
   }
  },
  {
   "cell_type": "code",
   "execution_count": 80,
   "outputs": [],
   "source": [
    "image_type = \"ph1\"  #Options:  bf, ph1\n",
    "is_fl = False #Options: True, False\n",
    "is_track = False #Options: True, False"
   ],
   "metadata": {
    "collapsed": false
   }
  },
  {
   "cell_type": "markdown",
   "source": [
    "## FUNCTIONS ##"
   ],
   "metadata": {
    "collapsed": false
   }
  },
  {
   "cell_type": "code",
   "execution_count": 81,
   "outputs": [],
   "source": [
    "def create_yaml(path_output: str, image_type: str):\n",
    "    \"\"\"Given the output path as string. Will create a yaml file in the main output folder. This yaml file will be copied into each subfolder during the sorting function\"\"\"\n",
    "\n",
    "    #Default keys and values stored in yaml file\n",
    "    yaml_input_file = {\n",
    "    'version' : 1.0,\n",
    "    'segment_brightfield' : False,\n",
    "    'seg_bf_version' : 1,\n",
    "    'seg_bf_visualize' : False,\n",
    "    'segment_fluorescent' : False,\n",
    "    'seg_fl_version' : 1,\n",
    "    'seg_fl_visualize' : False,\n",
    "    'segment_ph1' : False, #True,\n",
    "    'seg_ph1_version' : 2,\n",
    "    'seg_ph1_visualize' : False, #True,\n",
    "    'track_brightfield' : False,\n",
    "    'track_bf_version' : 1,\n",
    "    'track_bf_visualize' : False,\n",
    "    'track_ph1' : False,\n",
    "    'track_ph1_version' : 1,\n",
    "    'track_ph1_visualize' : False,\n",
    "    'bf_seg_with_fl_seg_visualize' : False,\n",
    "    'bf_track_with_fl_seg_visualize' : False,\n",
    "    'ph1_seg_with_fl_seg_visualize' : False,\n",
    "    'ph1_track_with_fl_seg_visualize' : False,\n",
    "    }\n",
    "\n",
    "    #Conditionally modify yaml file based on image_type input\n",
    "\n",
    "    for key, value in yaml_input_file.items():\n",
    "        if image_type in key and not \"version\" in key and not \"fl\" in key and not \"track\" in key:\n",
    "            yaml_input_file[key] = True\n",
    "\n",
    "            if is_fl:\n",
    "                if \"fl\" in key and not \"version\" in key:\n",
    "                    yaml_input_file[key] = True\n",
    "\n",
    "            if is_track:\n",
    "                if \"track\" in key and not \"version\" in key:\n",
    "                    yaml_input_file[key] = True\n",
    "\n",
    "    # Write yaml output to path_output\n",
    "    with open(path_output+'/wc_dataset_'+image_type+'.yaml', 'w') as file:\n",
    "        yaml.safe_dump(yaml_input_file, file, sort_keys=False)\n",
    "\n"
   ],
   "metadata": {
    "collapsed": false
   }
  },
  {
   "cell_type": "code",
   "execution_count": 83,
   "outputs": [],
   "source": [
    "def define_basename_list(path_input: str) -> list:\n",
    "    \"\"\"Given an input path as a string. Will return a list of experiment names in the input folder\"\"\"\n",
    "\n",
    "    basename_list = []\n",
    "    for file in os.listdir(path_input):\n",
    "        if file.endswith('.nd'):\n",
    "            name, ext = os.path.splitext(file)\n",
    "            basename_list.append(name)\n",
    "    return basename_list"
   ],
   "metadata": {
    "collapsed": false
   }
  },
  {
   "cell_type": "code",
   "execution_count": 84,
   "outputs": [],
   "source": [
    "def sort_basename_folders(basename_list: list, path_input: str, path_output: str):\n",
    "    \"\"\"Given a list of experiments obtained from the .nd files in the input folder. Given input and out paths as str. Creates an output folder at path_output. Copies and sorts TIFF files in path_input according to basenames in output folder \"\"\"\n",
    "\n",
    "    for basename in basename_list:\n",
    "\n",
    "        #create folders for each expt\n",
    "        os.makedirs(path_output + '/' + basename)\n",
    "\n",
    "        #copy .nd file into respective basename folder\n",
    "        shutil.copy(path_input + '/' + basename + '.nd', path_output + '/' + basename + '/' + basename + '.nd')\n",
    "\n",
    "        #copy TIF files to respective basename folders, excludes thumbnail files\n",
    "        for file in os.listdir(path_input):\n",
    "            if file.startswith(basename + '_') and not fnmatch.fnmatch(file, '*thumb*'):\n",
    "                shutil.copy(path_input + '/' + file, path_output + '/' + basename + '/' + file)"
   ],
   "metadata": {
    "collapsed": false
   }
  },
  {
   "cell_type": "code",
   "execution_count": 85,
   "outputs": [],
   "source": [
    "def extract_nd_info(basename_list: list,path_output: str)-> list:\n",
    "    \"\"\"Given a basename list and an output path. Will extract number of stage positions for each list and create position map lists for each basename\"\"\"\n",
    "\n",
    "    stage_positions = []\n",
    "    for basename in basename_list:\n",
    "        with open(path_output + '/' + basename + '/' + basename + '.nd', 'r') as nd_file:\n",
    "            for l_no, line in enumerate(nd_file):\n",
    "                if '\"NStagePositions\"' in line:\n",
    "                    stage_positions.append([int(s) for s in line.split() if s.isdigit()][-1])\n",
    "                    break\n",
    "\n",
    "    return stage_positions"
   ],
   "metadata": {
    "collapsed": false
   }
  },
  {
   "cell_type": "code",
   "execution_count": 86,
   "outputs": [],
   "source": [
    "def sort_stage_pos_folders(basename_list: list,parent_output: str, stage_pos_nd: list, image_type: str):\n",
    "    \"\"\"Given basename list, parent output folder and number of stage positions list extracted from nd files. Sorts files into stage position folders\"\"\"\n",
    "    #sort images into stage position folders\n",
    "    for index,basename in enumerate(basename_list):\n",
    "\n",
    "        for file in os.listdir(parent_output+'/'+basename):\n",
    "            for stage_pos in range(1,stage_pos_nd[index]+1):\n",
    "\n",
    "                #define input and output paths\n",
    "                path_input  = parent_output + '/' + basename\n",
    "                path_pos_output =  parent_output + '/' + basename + '/' + 's' + f\"{stage_pos:02}\"\n",
    "\n",
    "\n",
    "                #check if file belongs to current stage_pos group\n",
    "                if fnmatch.fnmatch(file, '*s%i' % stage_pos+'_*'):\n",
    "\n",
    "                #rename file for correct stage position sort syntax (_sXX_)\n",
    "                    # check if data has timepoints\n",
    "                    if fnmatch.fnmatch(file, '*_t*'):\n",
    "\n",
    "                        #Isolate the frame number (timepoint)\n",
    "                        file_timepoint = file.split('_t', 1)[-1].split('.', 1)[0]\n",
    "                        # Rename file for correct time and stage position sort syntax (_sXX_ and _tXXX.)\n",
    "                        file_newname = 's' + f\"{stage_pos:02}\" +'_t'+f\"{int(file_timepoint):03}\"+'.TIF'\n",
    "\n",
    "                    else:\n",
    "\n",
    "                        #If data does not have timepoints, rename stage positions only for correct sort syntax\n",
    "                        file_newname = 's' + f\"{stage_pos:02}\" + '.TIF'\n",
    "\n",
    "                    #check if stage position directory already exists and move file into this folder if it does\n",
    "                    if os.path.exists(path_pos_output + '/' + image_type+ '_images/'):\n",
    "                        try:\n",
    "                            shutil.move(path_input + '/' + file, path_pos_output + '/' + image_type+ '_images/'+ file_newname)\n",
    "                        except OSError as e:\n",
    "                            # If it fails, inform the user.\n",
    "                            print('Error: %s - %s.' % (e.filename, e.strerror))\n",
    "                    #otherwise, create folder and move file into this folder. Also copy parent yaml file into this folder.\n",
    "                    else:\n",
    "                        try:\n",
    "                            os.makedirs(path_pos_output + '/' + image_type+ '_images/')\n",
    "                            shutil.copy(parent_output + '/wc_dataset_'+image_type+'.yaml', path_pos_output + '/wc_dataset_'+image_type+'.yaml')\n",
    "                            shutil.move(path_input + '/' + file, path_pos_output + '/' + image_type+ '_images/'+ file_newname)\n",
    "\n",
    "\n",
    "                        except OSError as e:\n",
    "                            # If it fails, inform the user.\n",
    "                            print('Error: %s - %s.' % (e.filename, e.strerror))\n"
   ],
   "metadata": {
    "collapsed": false
   }
  },
  {
   "cell_type": "markdown",
   "source": [
    "## RUN CODE ##\n",
    "\n",
    "**Section 1: Navigate to data folder containing .nd file**"
   ],
   "metadata": {
    "collapsed": false
   }
  },
  {
   "cell_type": "code",
   "execution_count": 87,
   "outputs": [
    {
     "name": "stdout",
     "output_type": "stream",
     "text": [
      "Please open the directory that contains your .nd file\n",
      "Inputed path: C:/Users/anish/Desktop/Clutter/NHDFneo_GDC_Rapa_LY294/20220404_NHDFneo_LY294_GDC_2\n"
     ]
    }
   ],
   "source": [
    "print(\"Current config:\")\n",
    "print(\"Image Type:\", image_type)\n",
    "print(\"Fluorescent Images:\", is_fl)\n",
    "print(\"Track Images:\", is_track)\n",
    "\n",
    "#prompt user for the file directory. Will open as a popup window named \"tk\"\n",
    "tk_root = tkinter.Tk()\n",
    "print(\"Please open the directory that contains your .nd file\")\n",
    "path_input = askdirectory(title='Select Input Folder with .nd file')  # shows dialog box and return the path\n",
    "print(\"Inputed path:\", path_input)\n",
    "tk_root.destroy()\n",
    "path_output = path_input + '/Sorted'\n",
    "\n",
    "if os.path.exists(path_output):\n",
    "    path_out_new = input('Enter new output folder name')\n",
    "    path_output = path_input + '/' + path_out_new\n",
    "    os.makedirs(path_output)\n",
    "#create a new  output directory\n",
    "else:\n",
    "    os.makedirs(path_output)"
   ],
   "metadata": {
    "collapsed": false
   }
  },
  {
   "cell_type": "markdown",
   "source": [
    "**Section 2: Execute functions to prepare folder structure for woundcompute**"
   ],
   "metadata": {
    "collapsed": false
   }
  },
  {
   "cell_type": "code",
   "execution_count": 88,
   "outputs": [],
   "source": [
    "# Create yaml file for image type\n",
    "create_yaml(path_output, image_type)\n",
    "print(\"Created .yaml file\")\n",
    "# Create list of .nd files/experiments in the input folder\n",
    "basename_list = define_basename_list(path_input)\n",
    "print(\"Created basename list:\", basename_list)\n",
    "\n",
    "print(\"Sorting images into corresponding basename folders...\")\n",
    "# Sort images in input folder into Sorted/basename folder\n",
    "sort_basename_folders(basename_list, path_input, path_output)\n",
    "print(\"Completed!\")\n",
    "\n",
    "# Extract stage position information from .nd file\n",
    "stage_pos_nd = extract_nd_info(basename_list,path_output)\n",
    "print(\"Extracted stage position information from .nd files\")\n",
    "\n",
    "print(\"Sorting images in each basename folder into their corresponding stage position folders...\")\n",
    "#  Sort images in each basename folder into their corresponding stage position folders\n",
    "sort_stage_pos_folders(basename_list,path_output, stage_pos_nd, image_type)\n",
    "print(\"Completed\")\n"
   ],
   "metadata": {
    "collapsed": false
   }
  },
  {
   "cell_type": "markdown",
   "source": [
    "**Section 3: Execute woundcompute for all basename folders in the Sorted folder**"
   ],
   "metadata": {
    "collapsed": false
   }
  },
  {
   "cell_type": "code",
   "execution_count": 89,
   "outputs": [
    {
     "ename": "KeyboardInterrupt",
     "evalue": "",
     "output_type": "error",
     "traceback": [
      "\u001B[1;31m---------------------------------------------------------------------------\u001B[0m",
      "\u001B[1;31mKeyboardInterrupt\u001B[0m                         Traceback (most recent call last)",
      "Cell \u001B[1;32mIn[89], line 6\u001B[0m\n\u001B[0;32m      4\u001B[0m input_location \u001B[38;5;241m=\u001B[39m Path(path_output\u001B[38;5;241m+\u001B[39m\u001B[38;5;124m'\u001B[39m\u001B[38;5;124m/\u001B[39m\u001B[38;5;124m'\u001B[39m\u001B[38;5;241m+\u001B[39mbasename\u001B[38;5;241m+\u001B[39m\u001B[38;5;124m'\u001B[39m\u001B[38;5;124m/\u001B[39m\u001B[38;5;124m'\u001B[39m\u001B[38;5;241m+\u001B[39m\u001B[38;5;124m'\u001B[39m\u001B[38;5;124ms\u001B[39m\u001B[38;5;124m'\u001B[39m \u001B[38;5;241m+\u001B[39m \u001B[38;5;124mf\u001B[39m\u001B[38;5;124m\"\u001B[39m\u001B[38;5;132;01m{\u001B[39;00mstage_pos\u001B[38;5;132;01m:\u001B[39;00m\u001B[38;5;124m02\u001B[39m\u001B[38;5;132;01m}\u001B[39;00m\u001B[38;5;124m\"\u001B[39m)\n\u001B[0;32m      5\u001B[0m \u001B[38;5;28;01mtry\u001B[39;00m:\n\u001B[1;32m----> 6\u001B[0m     time_all, action_all \u001B[38;5;241m=\u001B[39m \u001B[43mia\u001B[49m\u001B[38;5;241;43m.\u001B[39;49m\u001B[43mrun_all\u001B[49m\u001B[43m(\u001B[49m\u001B[43minput_location\u001B[49m\u001B[43m)\u001B[49m\n\u001B[0;32m      7\u001B[0m     \u001B[38;5;28mprint\u001B[39m(\u001B[38;5;124m\"\u001B[39m\u001B[38;5;124mtissue number:\u001B[39m\u001B[38;5;124m\"\u001B[39m, stage_pos, \u001B[38;5;124m\"\u001B[39m\u001B[38;5;124mtime:\u001B[39m\u001B[38;5;124m\"\u001B[39m, time\u001B[38;5;241m.\u001B[39mtime())\n\u001B[0;32m      8\u001B[0m \u001B[38;5;28;01mexcept\u001B[39;00m \u001B[38;5;167;01mException\u001B[39;00m \u001B[38;5;28;01mas\u001B[39;00m ex:\n",
      "File \u001B[1;32m~\\Downloads\\woundcompute-main(1)\\woundcompute-main\\src\\woundcompute\\image_analysis.py:1609\u001B[0m, in \u001B[0;36mrun_all\u001B[1;34m(folder_path)\u001B[0m\n\u001B[0;32m   1607\u001B[0m thresh_fcn \u001B[38;5;241m=\u001B[39m select_threshold_function(input_dict, \u001B[38;5;28;01mFalse\u001B[39;00m, \u001B[38;5;28;01mFalse\u001B[39;00m, \u001B[38;5;28;01mTrue\u001B[39;00m)\n\u001B[0;32m   1608\u001B[0m \u001B[38;5;66;03m# throw errors here if input_path == None? (future) and/or output dir isn't created\u001B[39;00m\n\u001B[1;32m-> 1609\u001B[0m _, _, _, _, _, _, _, _, _, img_list_ph1, contour_list_ph1, tissue_param_list_ph1, is_broken_list_ph1, is_closed_list_ph1 \u001B[38;5;241m=\u001B[39m \u001B[43mrun_segment\u001B[49m\u001B[43m(\u001B[49m\u001B[43minput_path\u001B[49m\u001B[43m,\u001B[49m\u001B[43m \u001B[49m\u001B[43moutput_path\u001B[49m\u001B[43m,\u001B[49m\u001B[43m \u001B[49m\u001B[43mthresh_fcn\u001B[49m\u001B[43m)\u001B[49m\n\u001B[0;32m   1610\u001B[0m time_all\u001B[38;5;241m.\u001B[39mappend(time\u001B[38;5;241m.\u001B[39mtime())\n\u001B[0;32m   1611\u001B[0m action_all\u001B[38;5;241m.\u001B[39mappend(\u001B[38;5;124m\"\u001B[39m\u001B[38;5;124msegmented ph1\u001B[39m\u001B[38;5;124m\"\u001B[39m)\n",
      "File \u001B[1;32m~\\Downloads\\woundcompute-main(1)\\woundcompute-main\\src\\woundcompute\\image_analysis.py:1245\u001B[0m, in \u001B[0;36mrun_segment\u001B[1;34m(input_path, output_path, threshold_function_idx)\u001B[0m\n\u001B[0;32m   1243\u001B[0m img_list \u001B[38;5;241m=\u001B[39m read_all_tiff(input_path)\n\u001B[0;32m   1244\u001B[0m \u001B[38;5;66;03m# apply threshold\u001B[39;00m\n\u001B[1;32m-> 1245\u001B[0m thresholded_list \u001B[38;5;241m=\u001B[39m \u001B[43mthreshold_all\u001B[49m\u001B[43m(\u001B[49m\u001B[43mimg_list\u001B[49m\u001B[43m,\u001B[49m\u001B[43m \u001B[49m\u001B[43mthreshold_function_idx\u001B[49m\u001B[43m)\u001B[49m\n\u001B[0;32m   1246\u001B[0m \u001B[38;5;66;03m# masking\u001B[39;00m\n\u001B[0;32m   1247\u001B[0m tissue_mask_list, wound_mask_list, wound_region_list \u001B[38;5;241m=\u001B[39m mask_all(thresholded_list, threshold_function_idx)\n",
      "File \u001B[1;32m~\\Downloads\\woundcompute-main(1)\\woundcompute-main\\src\\woundcompute\\image_analysis.py:810\u001B[0m, in \u001B[0;36mthreshold_all\u001B[1;34m(img_list, threshold_function_idx)\u001B[0m\n\u001B[0;32m    808\u001B[0m thresholded_list \u001B[38;5;241m=\u001B[39m []\n\u001B[0;32m    809\u001B[0m \u001B[38;5;28;01mfor\u001B[39;00m img \u001B[38;5;129;01min\u001B[39;00m img_list:\n\u001B[1;32m--> 810\u001B[0m     thresh_img \u001B[38;5;241m=\u001B[39m \u001B[43mthreshold_array\u001B[49m\u001B[43m(\u001B[49m\u001B[43mimg\u001B[49m\u001B[43m,\u001B[49m\u001B[43m \u001B[49m\u001B[43mthreshold_function_idx\u001B[49m\u001B[43m)\u001B[49m\n\u001B[0;32m    811\u001B[0m     thresholded_list\u001B[38;5;241m.\u001B[39mappend(thresh_img)\n\u001B[0;32m    812\u001B[0m \u001B[38;5;28;01mreturn\u001B[39;00m thresholded_list\n",
      "File \u001B[1;32m~\\Downloads\\woundcompute-main(1)\\woundcompute-main\\src\\woundcompute\\image_analysis.py:272\u001B[0m, in \u001B[0;36mthreshold_array\u001B[1;34m(array, selection_idx)\u001B[0m\n\u001B[0;32m    270\u001B[0m \u001B[38;5;28;01melif\u001B[39;00m selection_idx \u001B[38;5;241m==\u001B[39m \u001B[38;5;241m4\u001B[39m:\n\u001B[0;32m    271\u001B[0m     \u001B[38;5;124;03m\"\"\"Given a phase contrast ph1 image array. Will return a binary array where tissue = 0, background = 1.\"\"\"\u001B[39;00m\n\u001B[1;32m--> 272\u001B[0m     gabor_all \u001B[38;5;241m=\u001B[39m \u001B[43mgabor_filter\u001B[49m\u001B[43m(\u001B[49m\u001B[43marray\u001B[49m\u001B[43m)\u001B[49m\n\u001B[0;32m    273\u001B[0m     median_filter_size \u001B[38;5;241m=\u001B[39m \u001B[38;5;241m5\u001B[39m\n\u001B[0;32m    274\u001B[0m     median_applied \u001B[38;5;241m=\u001B[39m apply_median_filter(gabor_all, median_filter_size)\n",
      "File \u001B[1;32m~\\Downloads\\woundcompute-main(1)\\woundcompute-main\\src\\woundcompute\\image_analysis.py:240\u001B[0m, in \u001B[0;36mgabor_filter\u001B[1;34m(array, theta_range, ff_max, ff_mult)\u001B[0m\n\u001B[0;32m    238\u001B[0m     \u001B[38;5;28;01mfor\u001B[39;00m tt \u001B[38;5;129;01min\u001B[39;00m \u001B[38;5;28mrange\u001B[39m(\u001B[38;5;241m0\u001B[39m, theta_range):\n\u001B[0;32m    239\u001B[0m         theta \u001B[38;5;241m=\u001B[39m tt \u001B[38;5;241m*\u001B[39m np\u001B[38;5;241m.\u001B[39mpi \u001B[38;5;241m/\u001B[39m (theta_range \u001B[38;5;241m-\u001B[39m \u001B[38;5;241m1\u001B[39m)\n\u001B[1;32m--> 240\u001B[0m         filt_real, _ \u001B[38;5;241m=\u001B[39m \u001B[43mgabor\u001B[49m\u001B[43m(\u001B[49m\u001B[43marray\u001B[49m\u001B[43m,\u001B[49m\u001B[43m \u001B[49m\u001B[43mfrequency\u001B[49m\u001B[38;5;241;43m=\u001B[39;49m\u001B[43mfrequency\u001B[49m\u001B[43m,\u001B[49m\u001B[43m \u001B[49m\u001B[43mtheta\u001B[49m\u001B[38;5;241;43m=\u001B[39;49m\u001B[43mtheta\u001B[49m\u001B[43m)\u001B[49m\n\u001B[0;32m    241\u001B[0m         gabor_all \u001B[38;5;241m+\u001B[39m\u001B[38;5;241m=\u001B[39m filt_real\n\u001B[0;32m    242\u001B[0m \u001B[38;5;28;01mreturn\u001B[39;00m gabor_all\n",
      "File \u001B[1;32m~\\anaconda3\\envs\\wound-compute-env\\lib\\site-packages\\skimage\\filters\\_gabor.py:196\u001B[0m, in \u001B[0;36mgabor\u001B[1;34m(image, frequency, theta, bandwidth, sigma_x, sigma_y, n_stds, offset, mode, cval)\u001B[0m\n\u001B[0;32m    191\u001B[0m     kernel_dtype \u001B[38;5;241m=\u001B[39m np\u001B[38;5;241m.\u001B[39mcomplex128\n\u001B[0;32m    193\u001B[0m g \u001B[38;5;241m=\u001B[39m gabor_kernel(frequency, theta, bandwidth, sigma_x, sigma_y, n_stds,\n\u001B[0;32m    194\u001B[0m                  offset, dtype\u001B[38;5;241m=\u001B[39mkernel_dtype)\n\u001B[1;32m--> 196\u001B[0m filtered_real \u001B[38;5;241m=\u001B[39m \u001B[43mndi\u001B[49m\u001B[38;5;241;43m.\u001B[39;49m\u001B[43mconvolve\u001B[49m\u001B[43m(\u001B[49m\u001B[43mimage\u001B[49m\u001B[43m,\u001B[49m\u001B[43m \u001B[49m\u001B[43mnp\u001B[49m\u001B[38;5;241;43m.\u001B[39;49m\u001B[43mreal\u001B[49m\u001B[43m(\u001B[49m\u001B[43mg\u001B[49m\u001B[43m)\u001B[49m\u001B[43m,\u001B[49m\u001B[43m \u001B[49m\u001B[43mmode\u001B[49m\u001B[38;5;241;43m=\u001B[39;49m\u001B[43mmode\u001B[49m\u001B[43m,\u001B[49m\u001B[43m \u001B[49m\u001B[43mcval\u001B[49m\u001B[38;5;241;43m=\u001B[39;49m\u001B[43mcval\u001B[49m\u001B[43m)\u001B[49m\n\u001B[0;32m    197\u001B[0m filtered_imag \u001B[38;5;241m=\u001B[39m ndi\u001B[38;5;241m.\u001B[39mconvolve(image, np\u001B[38;5;241m.\u001B[39mimag(g), mode\u001B[38;5;241m=\u001B[39mmode, cval\u001B[38;5;241m=\u001B[39mcval)\n\u001B[0;32m    199\u001B[0m \u001B[38;5;28;01mreturn\u001B[39;00m filtered_real, filtered_imag\n",
      "File \u001B[1;32m~\\anaconda3\\envs\\wound-compute-env\\lib\\site-packages\\scipy\\ndimage\\_filters.py:862\u001B[0m, in \u001B[0;36mconvolve\u001B[1;34m(input, weights, output, mode, cval, origin)\u001B[0m\n\u001B[0;32m    756\u001B[0m \u001B[38;5;129m@_ni_docstrings\u001B[39m\u001B[38;5;241m.\u001B[39mdocfiller\n\u001B[0;32m    757\u001B[0m \u001B[38;5;28;01mdef\u001B[39;00m \u001B[38;5;21mconvolve\u001B[39m(\u001B[38;5;28minput\u001B[39m, weights, output\u001B[38;5;241m=\u001B[39m\u001B[38;5;28;01mNone\u001B[39;00m, mode\u001B[38;5;241m=\u001B[39m\u001B[38;5;124m'\u001B[39m\u001B[38;5;124mreflect\u001B[39m\u001B[38;5;124m'\u001B[39m, cval\u001B[38;5;241m=\u001B[39m\u001B[38;5;241m0.0\u001B[39m,\n\u001B[0;32m    758\u001B[0m              origin\u001B[38;5;241m=\u001B[39m\u001B[38;5;241m0\u001B[39m):\n\u001B[0;32m    759\u001B[0m     \u001B[38;5;124;03m\"\"\"\u001B[39;00m\n\u001B[0;32m    760\u001B[0m \u001B[38;5;124;03m    Multidimensional convolution.\u001B[39;00m\n\u001B[0;32m    761\u001B[0m \n\u001B[1;32m   (...)\u001B[0m\n\u001B[0;32m    860\u001B[0m \n\u001B[0;32m    861\u001B[0m \u001B[38;5;124;03m    \"\"\"\u001B[39;00m\n\u001B[1;32m--> 862\u001B[0m     \u001B[38;5;28;01mreturn\u001B[39;00m \u001B[43m_correlate_or_convolve\u001B[49m\u001B[43m(\u001B[49m\u001B[38;5;28;43minput\u001B[39;49m\u001B[43m,\u001B[49m\u001B[43m \u001B[49m\u001B[43mweights\u001B[49m\u001B[43m,\u001B[49m\u001B[43m \u001B[49m\u001B[43moutput\u001B[49m\u001B[43m,\u001B[49m\u001B[43m \u001B[49m\u001B[43mmode\u001B[49m\u001B[43m,\u001B[49m\u001B[43m \u001B[49m\u001B[43mcval\u001B[49m\u001B[43m,\u001B[49m\n\u001B[0;32m    863\u001B[0m \u001B[43m                                  \u001B[49m\u001B[43morigin\u001B[49m\u001B[43m,\u001B[49m\u001B[43m \u001B[49m\u001B[38;5;28;43;01mTrue\u001B[39;49;00m\u001B[43m)\u001B[49m\n",
      "File \u001B[1;32m~\\anaconda3\\envs\\wound-compute-env\\lib\\site-packages\\scipy\\ndimage\\_filters.py:686\u001B[0m, in \u001B[0;36m_correlate_or_convolve\u001B[1;34m(input, weights, output, mode, cval, origin, convolution)\u001B[0m\n\u001B[0;32m    684\u001B[0m     \u001B[38;5;28;01mraise\u001B[39;00m \u001B[38;5;167;01mRuntimeError\u001B[39;00m(\u001B[38;5;124m\"\u001B[39m\u001B[38;5;124mA sequence of modes is not supported\u001B[39m\u001B[38;5;124m\"\u001B[39m)\n\u001B[0;32m    685\u001B[0m mode \u001B[38;5;241m=\u001B[39m _ni_support\u001B[38;5;241m.\u001B[39m_extend_mode_to_code(mode)\n\u001B[1;32m--> 686\u001B[0m \u001B[43m_nd_image\u001B[49m\u001B[38;5;241;43m.\u001B[39;49m\u001B[43mcorrelate\u001B[49m\u001B[43m(\u001B[49m\u001B[38;5;28;43minput\u001B[39;49m\u001B[43m,\u001B[49m\u001B[43m \u001B[49m\u001B[43mweights\u001B[49m\u001B[43m,\u001B[49m\u001B[43m \u001B[49m\u001B[43moutput\u001B[49m\u001B[43m,\u001B[49m\u001B[43m \u001B[49m\u001B[43mmode\u001B[49m\u001B[43m,\u001B[49m\u001B[43m \u001B[49m\u001B[43mcval\u001B[49m\u001B[43m,\u001B[49m\u001B[43m \u001B[49m\u001B[43morigins\u001B[49m\u001B[43m)\u001B[49m\n\u001B[0;32m    687\u001B[0m \u001B[38;5;28;01mif\u001B[39;00m temp_needed:\n\u001B[0;32m    688\u001B[0m     temp[\u001B[38;5;241m.\u001B[39m\u001B[38;5;241m.\u001B[39m\u001B[38;5;241m.\u001B[39m] \u001B[38;5;241m=\u001B[39m output\n",
      "\u001B[1;31mKeyboardInterrupt\u001B[0m: "
     ]
    }
   ],
   "source": [
    "print(\"Starting wound compute for each stage position...\")\n",
    "for index, basename in enumerate(basename_list):\n",
    "\n",
    "    for stage_pos in range(1, stage_pos_nd[index]+1):\n",
    "        input_location = Path(path_output+'/'+basename+'/'+'s' + f\"{stage_pos:02}\")\n",
    "        try:\n",
    "            time_all, action_all = ia.run_all(input_location)\n",
    "            print(\"tissue number:\", stage_pos, \"time:\", time.time())\n",
    "        except Exception as ex:\n",
    "            time_all.append(time.time())\n",
    "            print(\"tissue number:\", stage_pos, \"time:\", time.time())\n",
    "            print(\"---------ERROR OF SOME DESCRIPTION HAS HAPPENED-------\")\n",
    "            print(ex)\n",
    "            print(\"------------------------------------------------------\")\n",
    "\n",
    "print(\"Completed! Hurray!\")\n",
    "\n",
    "print(\"Please run extract_dataset to consolidate outputs into an excel file!\")"
   ],
   "metadata": {
    "collapsed": false
   }
  }
 ],
 "metadata": {
  "kernelspec": {
   "display_name": "Python 3",
   "language": "python",
   "name": "python3"
  },
  "language_info": {
   "codemirror_mode": {
    "name": "ipython",
    "version": 2
   },
   "file_extension": ".py",
   "mimetype": "text/x-python",
   "name": "python",
   "nbconvert_exporter": "python",
   "pygments_lexer": "ipython2",
   "version": "2.7.6"
  }
 },
 "nbformat": 4,
 "nbformat_minor": 0
}

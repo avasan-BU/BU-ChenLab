{
 "cells": [
  {
   "cell_type": "markdown",
   "source": [
    "Name: run_wc_dataset\n",
    "Version: 2.0\n",
    "Author: Anish Vasan\n",
    "Organization: Chen/Eyckmans Lab, Boston University\n",
    "Date: 20230403"
   ],
   "metadata": {
    "collapsed": false
   }
  },
  {
   "cell_type": "code",
   "execution_count": null,
   "metadata": {
    "collapsed": true
   },
   "outputs": [],
   "source": [
    "#imports\n",
    "import os, shutil, fnmatch, tkinter\n",
    "from tkinter.filedialog import askdirectory\n",
    "from pathlib import Path\n",
    "from woundcompute import image_analysis as ia\n",
    "import time"
   ]
  },
  {
   "cell_type": "code",
   "execution_count": null,
   "outputs": [],
   "source": [
    "def define_basename_list():\n",
    "\n",
    "basename_list = []\n",
    "for file in os.listdir(path):\n",
    "    if file.endswith('.nd'):\n",
    "        name, ext = os.path.splitext(file)\n",
    "        basename_list.append(name)\n",
    "        #create folders for each expt\n",
    "        os.makedirs(path_output + '/' + name)\n",
    "    return(basename_list)"
   ],
   "metadata": {
    "collapsed": false
   }
  }
 ],
 "metadata": {
  "kernelspec": {
   "display_name": "Python 3",
   "language": "python",
   "name": "python3"
  },
  "language_info": {
   "codemirror_mode": {
    "name": "ipython",
    "version": 2
   },
   "file_extension": ".py",
   "mimetype": "text/x-python",
   "name": "python",
   "nbconvert_exporter": "python",
   "pygments_lexer": "ipython2",
   "version": "2.7.6"
  }
 },
 "nbformat": 4,
 "nbformat_minor": 0
}

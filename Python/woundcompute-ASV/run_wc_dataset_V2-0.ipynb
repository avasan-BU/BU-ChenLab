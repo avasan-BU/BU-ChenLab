{
 "cells": [
  {
   "cell_type": "markdown",
   "source": [
    "Name: run_wc_dataset;\n",
    "\n",
    "Version: 2.0;\n",
    "\n",
    "Author: Anish Vasan;\n",
    "\n",
    "Organization: Chen/Eyckmans Lab, Boston University;\n",
    "\n",
    "Date: 20230403;"
   ],
   "metadata": {
    "collapsed": false
   }
  },
  {
   "cell_type": "markdown",
   "source": [
    "## IMPORTS ##"
   ],
   "metadata": {
    "collapsed": false
   }
  },
  {
   "cell_type": "code",
   "execution_count": 79,
   "metadata": {
    "collapsed": true
   },
   "outputs": [],
   "source": [
    "import os, shutil, fnmatch, tkinter, yaml\n",
    "from tkinter.filedialog import askdirectory\n",
    "from pathlib import Path\n",
    "from woundcompute import image_analysis as ia\n",
    "import time"
   ]
  },
  {
   "cell_type": "markdown",
   "source": [
    "## DEFINITIONS ##\n",
    "## These require user input/changes based on experiments ##"
   ],
   "metadata": {
    "collapsed": false
   }
  },
  {
   "cell_type": "code",
   "execution_count": 80,
   "outputs": [],
   "source": [
    "image_type = \"ph1\"  #Options:  bf, ph1\n",
    "is_fl = False #Options: True, False\n",
    "is_track = False #Options: True, False"
   ],
   "metadata": {
    "collapsed": false
   }
  },
  {
   "cell_type": "markdown",
   "source": [
    "## FUNCTIONS ##"
   ],
   "metadata": {
    "collapsed": false
   }
  },
  {
   "cell_type": "code",
   "execution_count": 81,
   "outputs": [],
   "source": [
    "def create_yaml(path: str, image_type_in: str):\n",
    "    \"\"\"Given the output path as string. Will create a yaml file in the main output folder. This yaml file will be copied into each subfolder during the sorting function\"\"\"\n",
    "\n",
    "    #Default keys and values stored in yaml file\n",
    "    yaml_input_file = {\n",
    "    'version' : 1.0,\n",
    "    'segment_brightfield' : False,\n",
    "    'seg_bf_version' : 1,\n",
    "    'seg_bf_visualize' : False,\n",
    "    'segment_fluorescent' : False,\n",
    "    'seg_fl_version' : 1,\n",
    "    'seg_fl_visualize' : False,\n",
    "    'segment_ph1' : False, #True,\n",
    "    'seg_ph1_version' : 2,\n",
    "    'seg_ph1_visualize' : False, #True,\n",
    "    'track_brightfield' : False,\n",
    "    'track_bf_version' : 1,\n",
    "    'track_bf_visualize' : False,\n",
    "    'track_ph1' : False,\n",
    "    'track_ph1_version' : 1,\n",
    "    'track_ph1_visualize' : False,\n",
    "    'bf_seg_with_fl_seg_visualize' : False,\n",
    "    'bf_track_with_fl_seg_visualize' : False,\n",
    "    'ph1_seg_with_fl_seg_visualize' : False,\n",
    "    'ph1_track_with_fl_seg_visualize' : False,\n",
    "    }\n",
    "\n",
    "    #Conditionally modify yaml file based on image_type input\n",
    "\n",
    "    for key, value in yaml_input_file.items():\n",
    "        if image_type in key and not \"version\" in key and not \"fl\" in key and not \"track\" in key:\n",
    "            yaml_input_file[key] = True\n",
    "\n",
    "            if is_fl:\n",
    "                if \"fl\" in key and not \"version\" in key:\n",
    "                    yaml_input_file[key] = True\n",
    "\n",
    "            if is_track:\n",
    "                if \"track\" in key and not \"version\" in key:\n",
    "                    yaml_input_file[key] = True\n",
    "\n",
    "    # Write yaml output to path_output\n",
    "    with open(path+'/wc_dataset_'+image_type_in+'.yaml', 'w') as file:\n",
    "        yaml.safe_dump(yaml_input_file, file, sort_keys=False)\n",
    "\n"
   ],
   "metadata": {
    "collapsed": false
   }
  },
  {
   "cell_type": "code",
   "execution_count": 83,
   "outputs": [],
   "source": [
    "def define_basename_list(path_input_fn: str) -> list:\n",
    "    \"\"\"Given an input path as a string. Will return a list of experiment names in the input folder\"\"\"\n",
    "\n",
    "    basename_list_fn = []\n",
    "    for file in os.listdir(path_input_fn):\n",
    "        if file.endswith('.nd'):\n",
    "            name, ext = os.path.splitext(file)\n",
    "            basename_list_fn.append(name)\n",
    "    return basename_list_fn"
   ],
   "metadata": {
    "collapsed": false
   }
  },
  {
   "cell_type": "code",
   "execution_count": 84,
   "outputs": [],
   "source": [
    "def sort_basename_folders(basename_list_fn: list, path_input_fn: str, path_output_fn: str):\n",
    "    \"\"\"Given a list of experiments obtained from the .nd files in the input folder. Given input and out paths as str. Creates an output folder at path_output. Copies and sorts TIFF files in path_input according to basenames in output folder \"\"\"\n",
    "\n",
    "    for basename_fn in basename_list_fn:\n",
    "\n",
    "        #create folders for each expt\n",
    "        os.makedirs(path_output_fn + '/' + basename_fn)\n",
    "\n",
    "        #copy .nd file into respective basename folder\n",
    "        shutil.copy(path_input_fn + '/' + basename_fn + '.nd', path_output_fn + '/' + basename_fn + '/' + basename_fn + '.nd')\n",
    "\n",
    "        #copy TIF files to respective basename folders, excludes thumbnail files\n",
    "        for file in os.listdir(path_input_fn):\n",
    "            if file.startswith(basename_fn + '_') and not fnmatch.fnmatch(file, '*thumb*'):\n",
    "                shutil.copy(path_input_fn + '/' + file, path_output_fn + '/' + basename_fn + '/' + file)"
   ],
   "metadata": {
    "collapsed": false
   }
  },
  {
   "cell_type": "code",
   "execution_count": 85,
   "outputs": [],
   "source": [
    "def extract_nd_info(basename_list_fn: list,path_output_fn: str)-> list:\n",
    "    \"\"\"Given a basename list and an output path. Will extract number of stage positions for each list and create position map lists for each basename\"\"\"\n",
    "\n",
    "    stage_positions = []\n",
    "    stage_pos_maps = []\n",
    "    for index_fn, basename_fn in basename_list_fn:\n",
    "        with open(path_output_fn + '/' + basename_fn + '/' + basename_fn + '.nd', 'r') as nd_file:\n",
    "            for l_no, line in enumerate(nd_file):\n",
    "                if '\"NStagePositions\"' in line:\n",
    "                    stage_positions[index_fn].append([int(s) for s in line.split() if s.isdigit()][-1])\n",
    "                    break\n",
    "\n",
    "\n",
    "    return stage_positions"
   ],
   "metadata": {
    "collapsed": false
   }
  },
  {
   "cell_type": "code",
   "execution_count": 86,
   "outputs": [],
   "source": [
    "def sort_stage_pos_folders(basename_list_fn: list,parent_output_fn: str, stage_pos_nd_fn: list, image_type_fn: str):\n",
    "    \"\"\"Given basename list, parent output folder and number of stage positions list extracted from nd files. Sorts files into stage position folders\"\"\"\n",
    "    #sort images into stage position folders\n",
    "    for index_fn,basename_fn in enumerate(basename_list_fn):\n",
    "\n",
    "        for file in os.listdir(parent_output_fn+'/'+basename_fn):\n",
    "            for stage_pos_fn in range(1,stage_pos_nd_fn[index_fn]+1):\n",
    "\n",
    "                #define input and output paths\n",
    "                path_input_fn  = parent_output_fn + '/' + basename_fn\n",
    "                path_pos_output_fn =  parent_output_fn + '/' + basename_fn + '/' + 's' + f\"{stage_pos_fn:02}\"\n",
    "\n",
    "\n",
    "                #check if file belongs to current stage_pos group\n",
    "                if fnmatch.fnmatch(file, '*s%i' % stage_pos_fn+'_*'):\n",
    "\n",
    "                #rename file for correct stage position sort syntax (_sXX_)\n",
    "\n",
    "                    #Isolate the frame number (timepoint)\n",
    "                    file_timepoint = file.split('_t', 1)[-1].split('.', 1)[0]\n",
    "                    # Rename file for correct time and stage position sort syntax (_sXX_ and _tXXX.)\n",
    "                    file_newname = 's' + f\"{stage_pos:02}\" +'_t'+f\"{int(file_timepoint):03}\"+'.TIF'\n",
    "\n",
    "                elif fnmatch.fnmatch(file, '*s%i' % stage_pos+'.TIF'):\n",
    "\n",
    "                    #If data does not have timepoints, rename stage positions only for correct sort syntax\n",
    "                    file_newname = 's' + f\"{stage_pos:02}\" + '.TIF'\n",
    "\n",
    "                #check if stage position directory already exists and move file into this folder if it does\n",
    "                if os.path.exists(path_pos_output_fn + '/' + image_type_fn+ '_images/'):\n",
    "                    try:\n",
    "                        shutil.move(path_input_fn + '/' + file, path_pos_output_fn + '/' + image_type_fn+ '_images/'+ file_newname)\n",
    "                    except OSError as e:\n",
    "                        # If it fails, inform the user.\n",
    "                        print('Error: %s - %s.' % (e.filename, e.strerror))\n",
    "                #otherwise, create folder and move file into this folder. Also copy parent yaml file into this folder.\n",
    "                else:\n",
    "                    try:\n",
    "                        os.makedirs(path_pos_output_fn + '/' + image_type_fn+ '_images/')\n",
    "                        shutil.copy(parent_output_fn + '/wc_dataset_'+image_type_fn+'.yaml', path_pos_output_fn + '/wc_dataset_'+image_type_fn+'.yaml')\n",
    "                        shutil.move(path_input_fn + '/' + file, path_pos_output_fn + '/' + image_type_fn+ '_images/'+ file_newname)\n",
    "\n",
    "\n",
    "                    except OSError as e:\n",
    "                        # If it fails, inform the user.\n",
    "                        print('Error: %s - %s.' % (e.filename, e.strerror))\n"
   ],
   "metadata": {
    "collapsed": false
   }
  },
  {
   "cell_type": "markdown",
   "source": [
    "## RUN CODE ##\n",
    "\n",
    "**Section 1: Navigate to data folder containing .nd file**"
   ],
   "metadata": {
    "collapsed": false
   }
  },
  {
   "cell_type": "code",
   "execution_count": 87,
   "outputs": [
    {
     "name": "stdout",
     "output_type": "stream",
     "text": [
      "Please open the directory that contains your .nd file\n",
      "Inputed path: C:/Users/anish/Desktop/Clutter/NHDFneo_GDC_Rapa_LY294/20220404_NHDFneo_LY294_GDC_2\n"
     ]
    }
   ],
   "source": [
    "print(\"Current config:\")\n",
    "print(\"Image Type:\", image_type)\n",
    "print(\"Fluorescent Images:\", is_fl)\n",
    "print(\"Track Images:\", is_track)\n",
    "\n",
    "#prompt user for the file directory. Will open as a popup window named \"tk\"\n",
    "tk_root = tkinter.Tk()\n",
    "print(\"Please open the directory that contains your .nd file\")\n",
    "path_input = askdirectory(title='Select Input Folder with .nd file')  # shows dialog box and return the path\n",
    "print(\"Inputed path:\", path_input)\n",
    "tk_root.destroy()\n",
    "path_output = path_input + '/Sorted'\n",
    "\n",
    "if os.path.exists(path_output):\n",
    "    path_out_new = input('Enter new output folder name')\n",
    "    path_output = path_input + '/' + path_out_new\n",
    "    os.makedirs(path_output)\n",
    "#create a new  output directory\n",
    "else:\n",
    "    os.makedirs(path_output)"
   ],
   "metadata": {
    "collapsed": false
   }
  },
  {
   "cell_type": "markdown",
   "source": [
    "**Section 2: Execute functions to prepare folder structure for woundcompute**"
   ],
   "metadata": {
    "collapsed": false
   }
  },
  {
   "cell_type": "code",
   "execution_count": 88,
   "outputs": [],
   "source": [
    "# Create yaml file for image type\n",
    "create_yaml(path_output, image_type)\n",
    "print(\"Created .yaml file\")\n",
    "# Create list of .nd files/experiments in the input folder\n",
    "basename_list = define_basename_list(path_input)\n",
    "print(\"Created basename list:\", basename_list)\n",
    "\n",
    "print(\"Sorting images into corresponding basename folders...\")\n",
    "# Sort images in input folder into Sorted/basename folder\n",
    "sort_basename_folders(basename_list, path_input, path_output)\n",
    "print(\"Completed!\")\n",
    "\n",
    "# Extract stage position information from .nd file\n",
    "stage_pos_nd = extract_nd_info(basename_list,path_output)\n",
    "print(\"Extracted stage position information from .nd files\")\n",
    "\n",
    "print(\"Sorting images in each basename folder into their corresponding stage position folders...\")\n",
    "#  Sort images in each basename folder into their corresponding stage position folders\n",
    "sort_stage_pos_folders(basename_list,path_output, stage_pos_nd, image_type)\n",
    "print(\"Completed\")\n"
   ],
   "metadata": {
    "collapsed": false
   }
  },
  {
   "cell_type": "markdown",
   "source": [
    "**Section 3: Execute woundcompute for all basename folders in the Sorted folder**"
   ],
   "metadata": {
    "collapsed": false
   }
  },
  {
   "cell_type": "code",
   "execution_count": 1,
   "outputs": [
    {
     "ename": "IndentationError",
     "evalue": "expected an indented block (1888129370.py, line 3)",
     "output_type": "error",
     "traceback": [
      "\u001B[1;36m  Cell \u001B[1;32mIn[1], line 3\u001B[1;36m\u001B[0m\n\u001B[1;33m    time_all[]\u001B[0m\n\u001B[1;37m    ^\u001B[0m\n\u001B[1;31mIndentationError\u001B[0m\u001B[1;31m:\u001B[0m expected an indented block\n"
     ]
    }
   ],
   "source": [
    "print(\"Starting wound compute for each stage position...\")\n",
    "for index, basename in enumerate(basename_list):\n",
    "    time_all=[]\n",
    "    for stage_pos in range(1, stage_pos_nd[index]+1):\n",
    "        input_location = Path(path_output+'/'+basename+'/'+'s' + f\"{stage_pos:02}\")\n",
    "        try:\n",
    "            time_all, action_all = ia.run_all(input_location)\n",
    "            print(\"tissue number:\", stage_pos, \"time:\", time.time())\n",
    "        except Exception as ex:\n",
    "            time_all.append(time.time())\n",
    "            print(\"tissue number:\", stage_pos, \"time:\", time.time())\n",
    "            print(\"---------ERROR OF SOME DESCRIPTION HAS HAPPENED-------\")\n",
    "            print(ex)\n",
    "            print(\"------------------------------------------------------\")\n",
    "\n",
    "print(\"Completed! Hurray!\")\n",
    "\n",
    "print(\"Please run extract_dataset to consolidate outputs into an excel file!\")"
   ],
   "metadata": {
    "collapsed": false
   }
  }
 ],
 "metadata": {
  "kernelspec": {
   "display_name": "Python 3",
   "language": "python",
   "name": "python3"
  },
  "language_info": {
   "codemirror_mode": {
    "name": "ipython",
    "version": 2
   },
   "file_extension": ".py",
   "mimetype": "text/x-python",
   "name": "python",
   "nbconvert_exporter": "python",
   "pygments_lexer": "ipython2",
   "version": "2.7.6"
  }
 },
 "nbformat": 4,
 "nbformat_minor": 0
}

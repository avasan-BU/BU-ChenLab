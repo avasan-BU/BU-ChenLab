{
 "cells": [
  {
   "cell_type": "code",
   "execution_count": 15,
   "id": "7efe0d21",
   "metadata": {},
   "outputs": [],
   "source": [
    "#imports\n",
    "import os, shutil, time, tkinter\n",
    "from tkinter.filedialog import askdirectory\n",
    "from pathlib import Path\n",
    "from woundcompute import image_analysis as ia\n"
   ]
  },
  {
   "cell_type": "code",
   "execution_count": 24,
   "id": "924bbddb",
   "metadata": {},
   "outputs": [
    {
     "name": "stdout",
     "output_type": "stream",
     "text": [
      "C:/Data/Microscope Images/Cytation5/SDP4\n",
      "C:/Data/Microscope Images/Cytation5/SDP4_Output\n"
     ]
    }
   ],
   "source": [
    "#prompt user for the file directory. Will open as a popup window named \"tk\"\n",
    "tk_root = tkinter.Tk()\n",
    "path_input = askdirectory(title='Select Input Folder')  # shows dialog box and return the path\n",
    "print(path_input)\n",
    "tk_root.destroy()\n",
    "\n",
    "tk_root = tkinter.Tk()\n",
    "path_output = askdirectory(title='Select Output Folder')  # shows dialog box and return the path\n",
    "print(path_output)\n",
    "tk_root.destroy()"
   ]
  },
  {
   "cell_type": "code",
   "execution_count": 25,
   "outputs": [],
   "source": [
    "#Copy TIF files into folders grouped by plate position\n",
    "for file in os.listdir(path_input):\n",
    "    #Check if position described with only 2 characters\n",
    "    if file[2] == '_':\n",
    "        if os.path.exists(path_output + '/' + file[:2] + '/ph1_images'):\n",
    "            try:\n",
    "                shutil.copy(path_input + '/' + file, path_output + '/' + file[:2] + '/ph1_images/' + file)\n",
    "            except OSError as e:\n",
    "                # If it fails, inform the user.\n",
    "                print('Error: %s - %s.' % (e.filename, e.strerror))\n",
    "\n",
    "        else:\n",
    "            try:\n",
    "                os.makedirs(path_output + '/' + file[:2] + '/ph1_images')\n",
    "                shutil.copy('G:/My Drive/Boston University/Chen Lab/Code/Anish/wc_dataset_ph1.yaml',\n",
    "                            path_output + '/' + file[:2] + '/wc_dataset_ph1.yaml')\n",
    "                shutil.copy(path_input + '/' + file, path_output + '/' + file[:2] + '/ph1_images/' + file)\n",
    "\n",
    "            except OSError as e:\n",
    "                # If it fails, inform the user.\n",
    "                print('Error: %s - %s.' % (e.filename, e.strerror))\n",
    "\n",
    "    #Otherwise, assume position is described with 3 characters\n",
    "    else:\n",
    "        if os.path.exists(path_output + '/' + file[:3] + '/ph1_images'):\n",
    "            try:\n",
    "                shutil.copy(path_input + '/' + file, path_output + '/' + file[:3] + '/ph1_images/' + file)\n",
    "            except OSError as e:\n",
    "                # If it fails, inform the user.\n",
    "                print('Error: %s - %s.' % (e.filename, e.strerror))\n",
    "\n",
    "        else:\n",
    "            try:\n",
    "                os.makedirs(path_output + '/' + file[:3] + '/ph1_images')\n",
    "                shutil.copy('G:/My Drive/Boston University/Chen Lab/Code/Anish/wc_dataset_ph1.yaml',\n",
    "                            path_output + '/' + file[:3] + '/ph1_images/wc_dataset_ph1.yaml')\n",
    "                shutil.copy(path_input + '/' + file, path_output + '/' + file[:3] + '/ph1_images/' + file)\n",
    "\n",
    "            except OSError as e:\n",
    "                # If it fails, inform the user.\n",
    "                print('Error: %s - %s.' % (e.filename, e.strerror))"
   ],
   "metadata": {
    "collapsed": false
   }
  },
  {
   "cell_type": "code",
   "execution_count": 26,
   "id": "724cc4b5",
   "metadata": {},
   "outputs": [
    {
     "ename": "KeyboardInterrupt",
     "evalue": "",
     "output_type": "error",
     "traceback": [
      "\u001B[1;31m---------------------------------------------------------------------------\u001B[0m",
      "\u001B[1;31mKeyboardInterrupt\u001B[0m                         Traceback (most recent call last)",
      "Cell \u001B[1;32mIn[26], line 5\u001B[0m\n\u001B[0;32m      3\u001B[0m input_location \u001B[38;5;241m=\u001B[39m Path(path_output \u001B[38;5;241m+\u001B[39m \u001B[38;5;124m'\u001B[39m\u001B[38;5;124m/\u001B[39m\u001B[38;5;124m'\u001B[39m \u001B[38;5;241m+\u001B[39m folder)\n\u001B[0;32m      4\u001B[0m \u001B[38;5;28;01mtry\u001B[39;00m:\n\u001B[1;32m----> 5\u001B[0m     time_all, action_all \u001B[38;5;241m=\u001B[39m \u001B[43mia\u001B[49m\u001B[38;5;241;43m.\u001B[39;49m\u001B[43mrun_all\u001B[49m\u001B[43m(\u001B[49m\u001B[43minput_location\u001B[49m\u001B[43m)\u001B[49m\n\u001B[0;32m      6\u001B[0m     \u001B[38;5;28mprint\u001B[39m(\u001B[38;5;124m\"\u001B[39m\u001B[38;5;124mtissue number:\u001B[39m\u001B[38;5;124m\"\u001B[39m, stage_pos, \u001B[38;5;124m\"\u001B[39m\u001B[38;5;124mtime:\u001B[39m\u001B[38;5;124m\"\u001B[39m, time\u001B[38;5;241m.\u001B[39mtime())\n\u001B[0;32m      7\u001B[0m \u001B[38;5;28;01mexcept\u001B[39;00m \u001B[38;5;167;01mException\u001B[39;00m \u001B[38;5;28;01mas\u001B[39;00m ex:\n",
      "File \u001B[1;32m~\\Downloads\\woundcompute-main(1)\\woundcompute-main\\src\\woundcompute\\image_analysis.py:1609\u001B[0m, in \u001B[0;36mrun_all\u001B[1;34m(folder_path)\u001B[0m\n\u001B[0;32m   1607\u001B[0m thresh_fcn \u001B[38;5;241m=\u001B[39m select_threshold_function(input_dict, \u001B[38;5;28;01mFalse\u001B[39;00m, \u001B[38;5;28;01mFalse\u001B[39;00m, \u001B[38;5;28;01mTrue\u001B[39;00m)\n\u001B[0;32m   1608\u001B[0m \u001B[38;5;66;03m# throw errors here if input_path == None? (future) and/or output dir isn't created\u001B[39;00m\n\u001B[1;32m-> 1609\u001B[0m _, _, _, _, _, _, _, _, _, img_list_ph1, contour_list_ph1, tissue_param_list_ph1, is_broken_list_ph1, is_closed_list_ph1 \u001B[38;5;241m=\u001B[39m \u001B[43mrun_segment\u001B[49m\u001B[43m(\u001B[49m\u001B[43minput_path\u001B[49m\u001B[43m,\u001B[49m\u001B[43m \u001B[49m\u001B[43moutput_path\u001B[49m\u001B[43m,\u001B[49m\u001B[43m \u001B[49m\u001B[43mthresh_fcn\u001B[49m\u001B[43m)\u001B[49m\n\u001B[0;32m   1610\u001B[0m time_all\u001B[38;5;241m.\u001B[39mappend(time\u001B[38;5;241m.\u001B[39mtime())\n\u001B[0;32m   1611\u001B[0m action_all\u001B[38;5;241m.\u001B[39mappend(\u001B[38;5;124m\"\u001B[39m\u001B[38;5;124msegmented ph1\u001B[39m\u001B[38;5;124m\"\u001B[39m)\n",
      "File \u001B[1;32m~\\Downloads\\woundcompute-main(1)\\woundcompute-main\\src\\woundcompute\\image_analysis.py:1253\u001B[0m, in \u001B[0;36mrun_segment\u001B[1;34m(input_path, output_path, threshold_function_idx)\u001B[0m\n\u001B[0;32m   1251\u001B[0m area_list, axis_major_length_list, axis_minor_length_list \u001B[38;5;241m=\u001B[39m wound_parameters_all(wound_region_list)\n\u001B[0;32m   1252\u001B[0m \u001B[38;5;66;03m# tissue parameters\u001B[39;00m\n\u001B[1;32m-> 1253\u001B[0m tissue_parameters_list \u001B[38;5;241m=\u001B[39m \u001B[43mtissue_parameters_all\u001B[49m\u001B[43m(\u001B[49m\u001B[43mtissue_mask_list\u001B[49m\u001B[43m,\u001B[49m\u001B[43m \u001B[49m\u001B[43mwound_mask_list\u001B[49m\u001B[43m)\u001B[49m\n\u001B[0;32m   1254\u001B[0m \u001B[38;5;66;03m# save numpy arrays\u001B[39;00m\n\u001B[0;32m   1255\u001B[0m wound_name_list \u001B[38;5;241m=\u001B[39m save_all_numpy(output_path, \u001B[38;5;124m\"\u001B[39m\u001B[38;5;124mwound_mask\u001B[39m\u001B[38;5;124m\"\u001B[39m, wound_mask_list)\n",
      "File \u001B[1;32m~\\Downloads\\woundcompute-main(1)\\woundcompute-main\\src\\woundcompute\\image_analysis.py:1234\u001B[0m, in \u001B[0;36mtissue_parameters_all\u001B[1;34m(tissue_mask_list, wound_mask_list)\u001B[0m\n\u001B[0;32m   1232\u001B[0m parameter_list \u001B[38;5;241m=\u001B[39m []\n\u001B[0;32m   1233\u001B[0m \u001B[38;5;28;01mfor\u001B[39;00m kk \u001B[38;5;129;01min\u001B[39;00m \u001B[38;5;28mrange\u001B[39m(\u001B[38;5;241m0\u001B[39m, \u001B[38;5;28mlen\u001B[39m(tissue_mask_list)):\n\u001B[1;32m-> 1234\u001B[0m     width, area, kappa_1, kappa_2, pt1_0, pt1_1, pt2_0, pt2_1, _ \u001B[38;5;241m=\u001B[39m \u001B[43mtissue_parameters\u001B[49m\u001B[43m(\u001B[49m\u001B[43mtissue_mask_list\u001B[49m\u001B[43m[\u001B[49m\u001B[43mkk\u001B[49m\u001B[43m]\u001B[49m\u001B[43m,\u001B[49m\u001B[43m \u001B[49m\u001B[43mwound_mask_list\u001B[49m\u001B[43m[\u001B[49m\u001B[43mkk\u001B[49m\u001B[43m]\u001B[49m\u001B[43m)\u001B[49m\n\u001B[0;32m   1235\u001B[0m     param \u001B[38;5;241m=\u001B[39m [area, pt1_0, pt1_1, pt2_0, pt2_1, width, kappa_1, kappa_2]\n\u001B[0;32m   1236\u001B[0m     parameter_list\u001B[38;5;241m.\u001B[39mappend(param)\n",
      "File \u001B[1;32m~\\Downloads\\woundcompute-main(1)\\woundcompute-main\\src\\woundcompute\\image_analysis.py:1187\u001B[0m, in \u001B[0;36mtissue_parameters\u001B[1;34m(tissue_mask, wound_mask)\u001B[0m\n\u001B[0;32m   1185\u001B[0m tissue_region \u001B[38;5;241m=\u001B[39m get_largest_regions(tissue_regions_all, \u001B[38;5;241m1\u001B[39m)[\u001B[38;5;241m0\u001B[39m]\n\u001B[0;32m   1186\u001B[0m _, tissue_axis_major_length, tissue_axis_minor_length, centroid_row, centroid_col, _, _, orientation \u001B[38;5;241m=\u001B[39m extract_region_props(tissue_region)\n\u001B[1;32m-> 1187\u001B[0m width, contour_idx_0, contour_idx_1 \u001B[38;5;241m=\u001B[39m \u001B[43mget_contour_width\u001B[49m\u001B[43m(\u001B[49m\u001B[43mtissue_contour\u001B[49m\u001B[43m,\u001B[49m\u001B[43m \u001B[49m\u001B[43mcentroid_row\u001B[49m\u001B[43m,\u001B[49m\u001B[43m \u001B[49m\u001B[43mcentroid_col\u001B[49m\u001B[43m,\u001B[49m\u001B[43m \u001B[49m\u001B[43mtissue_axis_major_length\u001B[49m\u001B[43m,\u001B[49m\u001B[43m \u001B[49m\u001B[43mtissue_axis_minor_length\u001B[49m\u001B[43m,\u001B[49m\u001B[43m \u001B[49m\u001B[43morientation\u001B[49m\u001B[43m)\u001B[49m\n\u001B[0;32m   1188\u001B[0m sample_dist \u001B[38;5;241m=\u001B[39m np\u001B[38;5;241m.\u001B[39mmin([\u001B[38;5;241m100\u001B[39m, tissue_contour\u001B[38;5;241m.\u001B[39mshape[\u001B[38;5;241m0\u001B[39m] \u001B[38;5;241m*\u001B[39m \u001B[38;5;241m0.1\u001B[39m])\n\u001B[0;32m   1189\u001B[0m kappa_1 \u001B[38;5;241m=\u001B[39m get_local_curvature(tissue_contour, tissue_mask_robust, contour_idx_0, sample_dist)\n",
      "File \u001B[1;32m~\\Downloads\\woundcompute-main(1)\\woundcompute-main\\src\\woundcompute\\image_analysis.py:1086\u001B[0m, in \u001B[0;36mget_contour_width\u001B[1;34m(contour, centroid_row, centroid_col, tissue_axis_major_length, tissue_axis_minor_length, orientation)\u001B[0m\n\u001B[0;32m   1081\u001B[0m include_idx \u001B[38;5;241m=\u001B[39m include_points_contour(contour, centroid_row, centroid_col, tissue_axis_major_length, tissue_axis_minor_length)\n\u001B[0;32m   1082\u001B[0m \u001B[38;5;66;03m# contour_clipped_0 = clip_contour(contour, centroid_row, centroid_col, orientation, tissue_axis_major_length, tissue_axis_minor_length)\u001B[39;00m\n\u001B[0;32m   1083\u001B[0m \u001B[38;5;66;03m# contour_clipped = clip_contour(contour_clipped_0, centroid_row, centroid_col, orientation + np.pi / 2.0, tissue_axis_major_length, tissue_axis_minor_length)\u001B[39;00m\n\u001B[0;32m   1084\u001B[0m \u001B[38;5;66;03m# contour_clipped_penalized = get_penalized(contour, contour_clipped)\u001B[39;00m\n\u001B[0;32m   1085\u001B[0m \u001B[38;5;66;03m# distance_all, ix_all = get_contour_distance_across_all(contour_clipped_penalized)\u001B[39;00m\n\u001B[1;32m-> 1086\u001B[0m distance_all, ix_all \u001B[38;5;241m=\u001B[39m \u001B[43mget_contour_distance_across_all\u001B[49m\u001B[43m(\u001B[49m\u001B[43mcontour\u001B[49m\u001B[43m,\u001B[49m\u001B[43m \u001B[49m\u001B[43minclude_idx\u001B[49m\u001B[43m)\u001B[49m\n\u001B[0;32m   1087\u001B[0m idx_a \u001B[38;5;241m=\u001B[39m np\u001B[38;5;241m.\u001B[39margmin(distance_all)\n\u001B[0;32m   1088\u001B[0m width \u001B[38;5;241m=\u001B[39m distance_all[idx_a]\n",
      "File \u001B[1;32m~\\Downloads\\woundcompute-main(1)\\woundcompute-main\\src\\woundcompute\\image_analysis.py:930\u001B[0m, in \u001B[0;36mget_contour_distance_across_all\u001B[1;34m(contour, include_idx)\u001B[0m\n\u001B[0;32m    928\u001B[0m \u001B[38;5;28;01mfor\u001B[39;00m kk \u001B[38;5;129;01min\u001B[39;00m \u001B[38;5;28mrange\u001B[39m(\u001B[38;5;241m0\u001B[39m, num_pts_contour):\n\u001B[0;32m    929\u001B[0m     \u001B[38;5;28;01mif\u001B[39;00m kk \u001B[38;5;129;01min\u001B[39;00m include_idx:\n\u001B[1;32m--> 930\u001B[0m         dist, ix \u001B[38;5;241m=\u001B[39m \u001B[43mget_contour_distance_across\u001B[49m\u001B[43m(\u001B[49m\u001B[43mkk\u001B[49m\u001B[43m,\u001B[49m\u001B[43m \u001B[49m\u001B[43mcontour\u001B[49m\u001B[43m,\u001B[49m\u001B[43m \u001B[49m\u001B[43mnum_pts_contour\u001B[49m\u001B[43m,\u001B[49m\u001B[43m \u001B[49m\u001B[43minclude_idx\u001B[49m\u001B[43m,\u001B[49m\u001B[43m \u001B[49m\u001B[43mtolerence_check\u001B[49m\u001B[43m)\u001B[49m\n\u001B[0;32m    931\u001B[0m     \u001B[38;5;28;01melse\u001B[39;00m:\n\u001B[0;32m    932\u001B[0m         dist \u001B[38;5;241m=\u001B[39m math\u001B[38;5;241m.\u001B[39minf\n",
      "File \u001B[1;32m~\\Downloads\\woundcompute-main(1)\\woundcompute-main\\src\\woundcompute\\image_analysis.py:897\u001B[0m, in \u001B[0;36mget_contour_distance_across\u001B[1;34m(c_idx, contour, num_pts_contour, include_idx, tolerence_check)\u001B[0m\n\u001B[0;32m    895\u001B[0m         dist_list\u001B[38;5;241m.\u001B[39mappend(dist)\n\u001B[0;32m    896\u001B[0m     \u001B[38;5;28;01melse\u001B[39;00m:\n\u001B[1;32m--> 897\u001B[0m         dist_list\u001B[38;5;241m.\u001B[39mappend(\u001B[43mmath\u001B[49m\u001B[38;5;241m.\u001B[39minf)\n\u001B[0;32m    898\u001B[0m dist_array \u001B[38;5;241m=\u001B[39m np\u001B[38;5;241m.\u001B[39masarray(dist_list)\n\u001B[0;32m    899\u001B[0m ix \u001B[38;5;241m=\u001B[39m np\u001B[38;5;241m.\u001B[39margmin(dist_array)\n",
      "\u001B[1;31mKeyboardInterrupt\u001B[0m: "
     ]
    }
   ],
   "source": [
    "#run wound compute code for all plate positions\n",
    "for folder in os.listdir(path_output):\n",
    "    input_location = Path(path_output + '/' + folder)\n",
    "    try:\n",
    "        time_all, action_all = ia.run_all(input_location)\n",
    "        print(\"tissue number:\", stage_pos, \"time:\", time.time())\n",
    "    except Exception as ex:\n",
    "        time_all.append(time.time())\n",
    "        print(\"tissue number:\", stage_pos, \"time:\", time.time())\n",
    "        print(\"---------ERROR OF SOME DESCRIPTION HAS HAPPENED-------\")\n",
    "        print(ex)\n",
    "        print(\"------------------------------------------------------\")"
   ]
  }
 ],
 "metadata": {
  "kernelspec": {
   "display_name": "Python 3",
   "language": "python",
   "name": "python3"
  },
  "language_info": {
   "codemirror_mode": {
    "name": "ipython",
    "version": 3
   },
   "file_extension": ".py",
   "mimetype": "text/x-python",
   "name": "python",
   "nbconvert_exporter": "python",
   "pygments_lexer": "ipython3",
   "version": "3.7.10"
  }
 },
 "nbformat": 4,
 "nbformat_minor": 5
}

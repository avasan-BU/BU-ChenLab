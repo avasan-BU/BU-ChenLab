{
 "cells": [
  {
   "cell_type": "code",
   "execution_count": 1,
   "metadata": {
    "collapsed": true
   },
   "outputs": [],
   "source": [
    "import os, shutil, fnmatch, time, tkinter\n",
    "from tkinter.filedialog import askdirectory\n",
    "import pandas as pd"
   ]
  },
  {
   "cell_type": "code",
   "execution_count": 2,
   "outputs": [
    {
     "name": "stdout",
     "output_type": "stream",
     "text": [
      "H:/Microscope Images/Widefield - Spectra - Nikon Eclipse Ti 2/20230517_NHDF-SHDF-P3_AA2P/003/Sorted\n"
     ]
    }
   ],
   "source": [
    "#prompt user for the file directory. Will open as a popup window named \"tk\"\n",
    "tk_root = tkinter.Tk()\n",
    "path_input = askdirectory(title='Select Folder')  # shows dialog box and return the path\n",
    "print(path_input)\n",
    "tk_root.destroy()"
   ],
   "metadata": {
    "collapsed": false
   }
  },
  {
   "cell_type": "code",
   "execution_count": 5,
   "outputs": [
    {
     "data": {
      "text/plain": "    Frame     A10     B02     B03     B06     B08     B09     B10     B11  \\\n0       1  5625.0  2588.0  4307.0  5138.0  8217.0  7469.0  5872.0  6707.0   \n1       2  6011.0  2635.0  4626.0  5887.0  8470.0  7646.0  6487.0  7404.0   \n2       3  5638.0  2884.0  4729.0  6583.0  8443.0  7568.0  6439.0  7384.0   \n3       4  5846.0  3175.0  4835.0  6530.0  8543.0  7358.0  6586.0  7421.0   \n4       5  5968.0  3301.0  4847.0  6340.0  8440.0  7073.0  6731.0  7155.0   \n..    ...     ...     ...     ...     ...     ...     ...     ...     ...   \n72     73   158.0  1973.0  2264.0  2294.0  2902.0  2037.0   282.0   104.0   \n73     74   197.0  2300.0   151.0  2464.0   309.0  1732.0  3186.0   227.0   \n74     75  3084.0   734.0  1491.0  2865.0   225.0  2007.0   155.0   144.0   \n75     76   227.0  2431.0  2008.0  2692.0  2782.0  2019.0  2592.0   125.0   \n76     77   356.0  2634.0  1673.0  2671.0  2690.0   843.0  2834.0    96.0   \n\n       B12  ...     G09     G12     H01     H04     H05     H06     H07  \\\n0   6809.0  ...  7982.0  4934.0  3358.0  2989.0  3185.0  5845.0  4034.0   \n1   7489.0  ...  8788.0  5340.0  3289.0  2835.0  3220.0  6071.0  4463.0   \n2   7913.0  ...  8394.0  5804.0  3416.0  3087.0  3218.0  6471.0  4604.0   \n3   8477.0  ...  8408.0  5866.0  3678.0  3327.0  3395.0  6630.0  4915.0   \n4   8578.0  ...  8385.0  6072.0  3752.0  3546.0  3513.0  6887.0  4731.0   \n..     ...  ...     ...     ...     ...     ...     ...     ...     ...   \n72  3980.0  ...  3738.0   354.0  1657.0   299.0  1106.0   731.0   761.0   \n73   285.0  ...   110.0  1914.0  1369.0   416.0   755.0   548.0   996.0   \n74   377.0  ...   114.0  1732.0  1164.0   537.0   967.0   819.0   177.0   \n75   105.0  ...   125.0  3616.0  1244.0   222.0  1346.0  1544.0  1662.0   \n76   272.0  ...    60.0  2171.0  1733.0   248.0  1431.0  2265.0   479.0   \n\n        H09      H10     H11  \n0    8381.0   8335.0  4733.0  \n1    9392.0   9198.0  4939.0  \n2    9576.0   9715.0  4994.0  \n3    9619.0   9886.0  5067.0  \n4   10007.0  10057.0  5074.0  \n..      ...      ...     ...  \n72   1491.0   1973.0   767.0  \n73   1457.0   2009.0   842.0  \n74   2171.0   1774.0  1663.0  \n75    833.0   1676.0  1643.0  \n76   1886.0   1806.0  1028.0  \n\n[77 rows x 60 columns]",
      "text/html": "<div>\n<style scoped>\n    .dataframe tbody tr th:only-of-type {\n        vertical-align: middle;\n    }\n\n    .dataframe tbody tr th {\n        vertical-align: top;\n    }\n\n    .dataframe thead th {\n        text-align: right;\n    }\n</style>\n<table border=\"1\" class=\"dataframe\">\n  <thead>\n    <tr style=\"text-align: right;\">\n      <th></th>\n      <th>Frame</th>\n      <th>A10</th>\n      <th>B02</th>\n      <th>B03</th>\n      <th>B06</th>\n      <th>B08</th>\n      <th>B09</th>\n      <th>B10</th>\n      <th>B11</th>\n      <th>B12</th>\n      <th>...</th>\n      <th>G09</th>\n      <th>G12</th>\n      <th>H01</th>\n      <th>H04</th>\n      <th>H05</th>\n      <th>H06</th>\n      <th>H07</th>\n      <th>H09</th>\n      <th>H10</th>\n      <th>H11</th>\n    </tr>\n  </thead>\n  <tbody>\n    <tr>\n      <th>0</th>\n      <td>1</td>\n      <td>5625.0</td>\n      <td>2588.0</td>\n      <td>4307.0</td>\n      <td>5138.0</td>\n      <td>8217.0</td>\n      <td>7469.0</td>\n      <td>5872.0</td>\n      <td>6707.0</td>\n      <td>6809.0</td>\n      <td>...</td>\n      <td>7982.0</td>\n      <td>4934.0</td>\n      <td>3358.0</td>\n      <td>2989.0</td>\n      <td>3185.0</td>\n      <td>5845.0</td>\n      <td>4034.0</td>\n      <td>8381.0</td>\n      <td>8335.0</td>\n      <td>4733.0</td>\n    </tr>\n    <tr>\n      <th>1</th>\n      <td>2</td>\n      <td>6011.0</td>\n      <td>2635.0</td>\n      <td>4626.0</td>\n      <td>5887.0</td>\n      <td>8470.0</td>\n      <td>7646.0</td>\n      <td>6487.0</td>\n      <td>7404.0</td>\n      <td>7489.0</td>\n      <td>...</td>\n      <td>8788.0</td>\n      <td>5340.0</td>\n      <td>3289.0</td>\n      <td>2835.0</td>\n      <td>3220.0</td>\n      <td>6071.0</td>\n      <td>4463.0</td>\n      <td>9392.0</td>\n      <td>9198.0</td>\n      <td>4939.0</td>\n    </tr>\n    <tr>\n      <th>2</th>\n      <td>3</td>\n      <td>5638.0</td>\n      <td>2884.0</td>\n      <td>4729.0</td>\n      <td>6583.0</td>\n      <td>8443.0</td>\n      <td>7568.0</td>\n      <td>6439.0</td>\n      <td>7384.0</td>\n      <td>7913.0</td>\n      <td>...</td>\n      <td>8394.0</td>\n      <td>5804.0</td>\n      <td>3416.0</td>\n      <td>3087.0</td>\n      <td>3218.0</td>\n      <td>6471.0</td>\n      <td>4604.0</td>\n      <td>9576.0</td>\n      <td>9715.0</td>\n      <td>4994.0</td>\n    </tr>\n    <tr>\n      <th>3</th>\n      <td>4</td>\n      <td>5846.0</td>\n      <td>3175.0</td>\n      <td>4835.0</td>\n      <td>6530.0</td>\n      <td>8543.0</td>\n      <td>7358.0</td>\n      <td>6586.0</td>\n      <td>7421.0</td>\n      <td>8477.0</td>\n      <td>...</td>\n      <td>8408.0</td>\n      <td>5866.0</td>\n      <td>3678.0</td>\n      <td>3327.0</td>\n      <td>3395.0</td>\n      <td>6630.0</td>\n      <td>4915.0</td>\n      <td>9619.0</td>\n      <td>9886.0</td>\n      <td>5067.0</td>\n    </tr>\n    <tr>\n      <th>4</th>\n      <td>5</td>\n      <td>5968.0</td>\n      <td>3301.0</td>\n      <td>4847.0</td>\n      <td>6340.0</td>\n      <td>8440.0</td>\n      <td>7073.0</td>\n      <td>6731.0</td>\n      <td>7155.0</td>\n      <td>8578.0</td>\n      <td>...</td>\n      <td>8385.0</td>\n      <td>6072.0</td>\n      <td>3752.0</td>\n      <td>3546.0</td>\n      <td>3513.0</td>\n      <td>6887.0</td>\n      <td>4731.0</td>\n      <td>10007.0</td>\n      <td>10057.0</td>\n      <td>5074.0</td>\n    </tr>\n    <tr>\n      <th>...</th>\n      <td>...</td>\n      <td>...</td>\n      <td>...</td>\n      <td>...</td>\n      <td>...</td>\n      <td>...</td>\n      <td>...</td>\n      <td>...</td>\n      <td>...</td>\n      <td>...</td>\n      <td>...</td>\n      <td>...</td>\n      <td>...</td>\n      <td>...</td>\n      <td>...</td>\n      <td>...</td>\n      <td>...</td>\n      <td>...</td>\n      <td>...</td>\n      <td>...</td>\n      <td>...</td>\n    </tr>\n    <tr>\n      <th>72</th>\n      <td>73</td>\n      <td>158.0</td>\n      <td>1973.0</td>\n      <td>2264.0</td>\n      <td>2294.0</td>\n      <td>2902.0</td>\n      <td>2037.0</td>\n      <td>282.0</td>\n      <td>104.0</td>\n      <td>3980.0</td>\n      <td>...</td>\n      <td>3738.0</td>\n      <td>354.0</td>\n      <td>1657.0</td>\n      <td>299.0</td>\n      <td>1106.0</td>\n      <td>731.0</td>\n      <td>761.0</td>\n      <td>1491.0</td>\n      <td>1973.0</td>\n      <td>767.0</td>\n    </tr>\n    <tr>\n      <th>73</th>\n      <td>74</td>\n      <td>197.0</td>\n      <td>2300.0</td>\n      <td>151.0</td>\n      <td>2464.0</td>\n      <td>309.0</td>\n      <td>1732.0</td>\n      <td>3186.0</td>\n      <td>227.0</td>\n      <td>285.0</td>\n      <td>...</td>\n      <td>110.0</td>\n      <td>1914.0</td>\n      <td>1369.0</td>\n      <td>416.0</td>\n      <td>755.0</td>\n      <td>548.0</td>\n      <td>996.0</td>\n      <td>1457.0</td>\n      <td>2009.0</td>\n      <td>842.0</td>\n    </tr>\n    <tr>\n      <th>74</th>\n      <td>75</td>\n      <td>3084.0</td>\n      <td>734.0</td>\n      <td>1491.0</td>\n      <td>2865.0</td>\n      <td>225.0</td>\n      <td>2007.0</td>\n      <td>155.0</td>\n      <td>144.0</td>\n      <td>377.0</td>\n      <td>...</td>\n      <td>114.0</td>\n      <td>1732.0</td>\n      <td>1164.0</td>\n      <td>537.0</td>\n      <td>967.0</td>\n      <td>819.0</td>\n      <td>177.0</td>\n      <td>2171.0</td>\n      <td>1774.0</td>\n      <td>1663.0</td>\n    </tr>\n    <tr>\n      <th>75</th>\n      <td>76</td>\n      <td>227.0</td>\n      <td>2431.0</td>\n      <td>2008.0</td>\n      <td>2692.0</td>\n      <td>2782.0</td>\n      <td>2019.0</td>\n      <td>2592.0</td>\n      <td>125.0</td>\n      <td>105.0</td>\n      <td>...</td>\n      <td>125.0</td>\n      <td>3616.0</td>\n      <td>1244.0</td>\n      <td>222.0</td>\n      <td>1346.0</td>\n      <td>1544.0</td>\n      <td>1662.0</td>\n      <td>833.0</td>\n      <td>1676.0</td>\n      <td>1643.0</td>\n    </tr>\n    <tr>\n      <th>76</th>\n      <td>77</td>\n      <td>356.0</td>\n      <td>2634.0</td>\n      <td>1673.0</td>\n      <td>2671.0</td>\n      <td>2690.0</td>\n      <td>843.0</td>\n      <td>2834.0</td>\n      <td>96.0</td>\n      <td>272.0</td>\n      <td>...</td>\n      <td>60.0</td>\n      <td>2171.0</td>\n      <td>1733.0</td>\n      <td>248.0</td>\n      <td>1431.0</td>\n      <td>2265.0</td>\n      <td>479.0</td>\n      <td>1886.0</td>\n      <td>1806.0</td>\n      <td>1028.0</td>\n    </tr>\n  </tbody>\n</table>\n<p>77 rows × 60 columns</p>\n</div>"
     },
     "metadata": {},
     "output_type": "display_data"
    }
   ],
   "source": [
    "list_pos= []\n",
    "frames = len(os.listdir(path_input+'/A02/ph1_images'))\n",
    "wa_df = pd.DataFrame({'Frame': range(1,frames+1)})\n",
    "for folder in os.listdir(path_input):\n",
    "    list_pos.append(folder)\n",
    "    wa_df[folder] = pd.read_table(path_input+'/'+folder+'/segment_ph1/wound_area_vs_frame.txt',header = None)\n",
    "\n",
    "display(wa_df)\n",
    "\n",
    "def append_to_excel(fpath, df, sheet_name):\n",
    "    with pd.ExcelWriter(fpath, mode=\"a\") as f:\n",
    "        df.to_excel(f, sheet_name=sheet_name)\n",
    "\n",
    "xls_name = \"20230517\"\n",
    "append_to_excel('H:\\\\Microscope Images\\\\Widefield - Spectra - Nikon Eclipse Ti 2\\\\20230517_NHDF-SHDF-P3_AA2P\\\\wound_area.xlsx', wa_df,xls_name+\"_cl\")\n",
    "\n",
    "\n"
   ],
   "metadata": {
    "collapsed": false
   }
  },
  {
   "cell_type": "code",
   "execution_count": null,
   "outputs": [],
   "source": [],
   "metadata": {
    "collapsed": false
   }
  }
 ],
 "metadata": {
  "kernelspec": {
   "display_name": "Python 3",
   "language": "python",
   "name": "python3"
  },
  "language_info": {
   "codemirror_mode": {
    "name": "ipython",
    "version": 2
   },
   "file_extension": ".py",
   "mimetype": "text/x-python",
   "name": "python",
   "nbconvert_exporter": "python",
   "pygments_lexer": "ipython2",
   "version": "2.7.6"
  }
 },
 "nbformat": 4,
 "nbformat_minor": 0
}

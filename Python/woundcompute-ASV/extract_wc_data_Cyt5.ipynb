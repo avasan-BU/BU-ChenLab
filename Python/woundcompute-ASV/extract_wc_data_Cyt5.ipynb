{
 "cells": [
  {
   "cell_type": "code",
   "execution_count": 2,
   "metadata": {
    "collapsed": true
   },
   "outputs": [],
   "source": [
    "import os, shutil, fnmatch, time, tkinter\n",
    "from tkinter.filedialog import askdirectory\n",
    "import pandas as pd"
   ]
  },
  {
   "cell_type": "code",
   "execution_count": 3,
   "outputs": [
    {
     "name": "stdout",
     "output_type": "stream",
     "text": [
      "E:/Cytation 5/ASV/230117_181135_20230117_SDP4_AI/202301017_SDP4_Output\n"
     ]
    }
   ],
   "source": [
    "#prompt user for the file directory. Will open as a popup window named \"tk\"\n",
    "tk_root = tkinter.Tk()\n",
    "path_input = askdirectory(title='Select Folder')  # shows dialog box and return the path\n",
    "print(path_input)\n",
    "tk_root.destroy()"
   ],
   "metadata": {
    "collapsed": false
   }
  },
  {
   "cell_type": "code",
   "execution_count": 7,
   "outputs": [
    {
     "data": {
      "text/plain": "    Frame      A1     A10     A11      A3      A5      A7      A9      B1  \\\n0       1  7147.0  3465.0  4448.0   650.0  1535.0  4786.0  6150.0  4904.0   \n1       2  5006.0  2984.0  5798.0   204.0  1654.0  4601.0  7254.0  4761.0   \n2       3  4818.0  3395.0  5333.0  1496.0  1571.0  3971.0  7092.0  4829.0   \n3       4  3278.0  3046.0  5676.0   907.0  1587.0  3828.0  7249.0  4790.0   \n4       5  3986.0  3816.0  5634.0  7574.0  1798.0  3980.0  7525.0  4859.0   \n..    ...     ...     ...     ...     ...     ...     ...     ...     ...   \n78     79   950.0  2608.0    68.0   285.0   336.0  3616.0    30.0    44.0   \n79     80   107.0  2574.0    41.0   735.0   528.0  3959.0    54.0    64.0   \n80     81   301.0  2528.0    38.0   435.0   709.0  3598.0    34.0    31.0   \n81     82    44.0  2552.0    65.0   819.0   791.0  3816.0    17.0    73.0   \n82     83    15.0  2503.0    12.0   297.0   499.0  3747.0    69.0   332.0   \n\n         B10  ...       G1     G12       G2      G3      G5      G6      G9  \\\n0     2051.0  ...    134.0  2221.0   2547.0  8520.0  1564.0   949.0  3694.0   \n1     3536.0  ...     50.0  2507.0   2578.0  9592.0  2020.0  1262.0  4255.0   \n2     2947.0  ...     47.0  2930.0   2705.0  9425.0  2452.0  2378.0  4590.0   \n3     3280.0  ...     88.0  2832.0    776.0  8443.0  2723.0  1573.0  4880.0   \n4     3491.0  ...    137.0  2932.0   3276.0  7357.0  1357.0  1560.0  5000.0   \n..       ...  ...      ...     ...      ...     ...     ...     ...     ...   \n78  116377.0  ...    417.0    36.0  16890.0  7294.0   163.0    50.0  1103.0   \n79  115934.0  ...  11469.0    60.0  16877.0   224.0   103.0   184.0  1202.0   \n80  115567.0  ...  11379.0    46.0  17207.0  6766.0   158.0   152.0  1543.0   \n81  112864.0  ...   1522.0    42.0  16987.0    79.0   182.0    85.0  1688.0   \n82  116730.0  ...   1689.0    37.0  16588.0  6637.0    90.0   174.0  1687.0   \n\n        H1      H6      H9  \n0     74.0  3170.0  1103.0  \n1    172.0  3339.0   579.0  \n2    328.0  3634.0   199.0  \n3    128.0  3847.0   310.0  \n4     44.0  4157.0   687.0  \n..     ...     ...     ...  \n78   211.0    64.0   161.0  \n79  1002.0    67.0   393.0  \n80   106.0    47.0   115.0  \n81   196.0   172.0   340.0  \n82   208.0   144.0   319.0  \n\n[83 rows x 54 columns]",
      "text/html": "<div>\n<style scoped>\n    .dataframe tbody tr th:only-of-type {\n        vertical-align: middle;\n    }\n\n    .dataframe tbody tr th {\n        vertical-align: top;\n    }\n\n    .dataframe thead th {\n        text-align: right;\n    }\n</style>\n<table border=\"1\" class=\"dataframe\">\n  <thead>\n    <tr style=\"text-align: right;\">\n      <th></th>\n      <th>Frame</th>\n      <th>A1</th>\n      <th>A10</th>\n      <th>A11</th>\n      <th>A3</th>\n      <th>A5</th>\n      <th>A7</th>\n      <th>A9</th>\n      <th>B1</th>\n      <th>B10</th>\n      <th>...</th>\n      <th>G1</th>\n      <th>G12</th>\n      <th>G2</th>\n      <th>G3</th>\n      <th>G5</th>\n      <th>G6</th>\n      <th>G9</th>\n      <th>H1</th>\n      <th>H6</th>\n      <th>H9</th>\n    </tr>\n  </thead>\n  <tbody>\n    <tr>\n      <th>0</th>\n      <td>1</td>\n      <td>7147.0</td>\n      <td>3465.0</td>\n      <td>4448.0</td>\n      <td>650.0</td>\n      <td>1535.0</td>\n      <td>4786.0</td>\n      <td>6150.0</td>\n      <td>4904.0</td>\n      <td>2051.0</td>\n      <td>...</td>\n      <td>134.0</td>\n      <td>2221.0</td>\n      <td>2547.0</td>\n      <td>8520.0</td>\n      <td>1564.0</td>\n      <td>949.0</td>\n      <td>3694.0</td>\n      <td>74.0</td>\n      <td>3170.0</td>\n      <td>1103.0</td>\n    </tr>\n    <tr>\n      <th>1</th>\n      <td>2</td>\n      <td>5006.0</td>\n      <td>2984.0</td>\n      <td>5798.0</td>\n      <td>204.0</td>\n      <td>1654.0</td>\n      <td>4601.0</td>\n      <td>7254.0</td>\n      <td>4761.0</td>\n      <td>3536.0</td>\n      <td>...</td>\n      <td>50.0</td>\n      <td>2507.0</td>\n      <td>2578.0</td>\n      <td>9592.0</td>\n      <td>2020.0</td>\n      <td>1262.0</td>\n      <td>4255.0</td>\n      <td>172.0</td>\n      <td>3339.0</td>\n      <td>579.0</td>\n    </tr>\n    <tr>\n      <th>2</th>\n      <td>3</td>\n      <td>4818.0</td>\n      <td>3395.0</td>\n      <td>5333.0</td>\n      <td>1496.0</td>\n      <td>1571.0</td>\n      <td>3971.0</td>\n      <td>7092.0</td>\n      <td>4829.0</td>\n      <td>2947.0</td>\n      <td>...</td>\n      <td>47.0</td>\n      <td>2930.0</td>\n      <td>2705.0</td>\n      <td>9425.0</td>\n      <td>2452.0</td>\n      <td>2378.0</td>\n      <td>4590.0</td>\n      <td>328.0</td>\n      <td>3634.0</td>\n      <td>199.0</td>\n    </tr>\n    <tr>\n      <th>3</th>\n      <td>4</td>\n      <td>3278.0</td>\n      <td>3046.0</td>\n      <td>5676.0</td>\n      <td>907.0</td>\n      <td>1587.0</td>\n      <td>3828.0</td>\n      <td>7249.0</td>\n      <td>4790.0</td>\n      <td>3280.0</td>\n      <td>...</td>\n      <td>88.0</td>\n      <td>2832.0</td>\n      <td>776.0</td>\n      <td>8443.0</td>\n      <td>2723.0</td>\n      <td>1573.0</td>\n      <td>4880.0</td>\n      <td>128.0</td>\n      <td>3847.0</td>\n      <td>310.0</td>\n    </tr>\n    <tr>\n      <th>4</th>\n      <td>5</td>\n      <td>3986.0</td>\n      <td>3816.0</td>\n      <td>5634.0</td>\n      <td>7574.0</td>\n      <td>1798.0</td>\n      <td>3980.0</td>\n      <td>7525.0</td>\n      <td>4859.0</td>\n      <td>3491.0</td>\n      <td>...</td>\n      <td>137.0</td>\n      <td>2932.0</td>\n      <td>3276.0</td>\n      <td>7357.0</td>\n      <td>1357.0</td>\n      <td>1560.0</td>\n      <td>5000.0</td>\n      <td>44.0</td>\n      <td>4157.0</td>\n      <td>687.0</td>\n    </tr>\n    <tr>\n      <th>...</th>\n      <td>...</td>\n      <td>...</td>\n      <td>...</td>\n      <td>...</td>\n      <td>...</td>\n      <td>...</td>\n      <td>...</td>\n      <td>...</td>\n      <td>...</td>\n      <td>...</td>\n      <td>...</td>\n      <td>...</td>\n      <td>...</td>\n      <td>...</td>\n      <td>...</td>\n      <td>...</td>\n      <td>...</td>\n      <td>...</td>\n      <td>...</td>\n      <td>...</td>\n      <td>...</td>\n    </tr>\n    <tr>\n      <th>78</th>\n      <td>79</td>\n      <td>950.0</td>\n      <td>2608.0</td>\n      <td>68.0</td>\n      <td>285.0</td>\n      <td>336.0</td>\n      <td>3616.0</td>\n      <td>30.0</td>\n      <td>44.0</td>\n      <td>116377.0</td>\n      <td>...</td>\n      <td>417.0</td>\n      <td>36.0</td>\n      <td>16890.0</td>\n      <td>7294.0</td>\n      <td>163.0</td>\n      <td>50.0</td>\n      <td>1103.0</td>\n      <td>211.0</td>\n      <td>64.0</td>\n      <td>161.0</td>\n    </tr>\n    <tr>\n      <th>79</th>\n      <td>80</td>\n      <td>107.0</td>\n      <td>2574.0</td>\n      <td>41.0</td>\n      <td>735.0</td>\n      <td>528.0</td>\n      <td>3959.0</td>\n      <td>54.0</td>\n      <td>64.0</td>\n      <td>115934.0</td>\n      <td>...</td>\n      <td>11469.0</td>\n      <td>60.0</td>\n      <td>16877.0</td>\n      <td>224.0</td>\n      <td>103.0</td>\n      <td>184.0</td>\n      <td>1202.0</td>\n      <td>1002.0</td>\n      <td>67.0</td>\n      <td>393.0</td>\n    </tr>\n    <tr>\n      <th>80</th>\n      <td>81</td>\n      <td>301.0</td>\n      <td>2528.0</td>\n      <td>38.0</td>\n      <td>435.0</td>\n      <td>709.0</td>\n      <td>3598.0</td>\n      <td>34.0</td>\n      <td>31.0</td>\n      <td>115567.0</td>\n      <td>...</td>\n      <td>11379.0</td>\n      <td>46.0</td>\n      <td>17207.0</td>\n      <td>6766.0</td>\n      <td>158.0</td>\n      <td>152.0</td>\n      <td>1543.0</td>\n      <td>106.0</td>\n      <td>47.0</td>\n      <td>115.0</td>\n    </tr>\n    <tr>\n      <th>81</th>\n      <td>82</td>\n      <td>44.0</td>\n      <td>2552.0</td>\n      <td>65.0</td>\n      <td>819.0</td>\n      <td>791.0</td>\n      <td>3816.0</td>\n      <td>17.0</td>\n      <td>73.0</td>\n      <td>112864.0</td>\n      <td>...</td>\n      <td>1522.0</td>\n      <td>42.0</td>\n      <td>16987.0</td>\n      <td>79.0</td>\n      <td>182.0</td>\n      <td>85.0</td>\n      <td>1688.0</td>\n      <td>196.0</td>\n      <td>172.0</td>\n      <td>340.0</td>\n    </tr>\n    <tr>\n      <th>82</th>\n      <td>83</td>\n      <td>15.0</td>\n      <td>2503.0</td>\n      <td>12.0</td>\n      <td>297.0</td>\n      <td>499.0</td>\n      <td>3747.0</td>\n      <td>69.0</td>\n      <td>332.0</td>\n      <td>116730.0</td>\n      <td>...</td>\n      <td>1689.0</td>\n      <td>37.0</td>\n      <td>16588.0</td>\n      <td>6637.0</td>\n      <td>90.0</td>\n      <td>174.0</td>\n      <td>1687.0</td>\n      <td>208.0</td>\n      <td>144.0</td>\n      <td>319.0</td>\n    </tr>\n  </tbody>\n</table>\n<p>83 rows × 54 columns</p>\n</div>"
     },
     "metadata": {},
     "output_type": "display_data"
    }
   ],
   "source": [
    "list_pos= []\n",
    "frames = len(os.listdir(path_input+'/A1/ph1_images'))\n",
    "wa_df = pd.DataFrame({'Frame': range(1,frames+1)})\n",
    "for folder in os.listdir(path_input):\n",
    "    list_pos.append(folder)\n",
    "    wa_df[folder] = pd.read_table(path_input+'/'+folder+'/segment_ph1/wound_area_vs_frame.txt',header = None)\n",
    "\n",
    "display(wa_df)\n",
    "\n",
    "def append_to_excel(fpath, df, sheet_name):\n",
    "    with pd.ExcelWriter(fpath, mode=\"a\") as f:\n",
    "        df.to_excel(f, sheet_name=sheet_name)\n",
    "\n",
    "xls_name = \"202301017_SDP4_Output\"\n",
    "append_to_excel('F:/Microscope Images/Code_processed_eclipse_data/Wound_area_code_output.xlsx', wa_df,xls_name+\"_cl\")\n",
    "\n",
    "\n"
   ],
   "metadata": {
    "collapsed": false
   }
  },
  {
   "cell_type": "code",
   "execution_count": 6,
   "outputs": [
    {
     "name": "stderr",
     "output_type": "stream",
     "text": [
      "C:\\Users\\avasan\\Anaconda3\\envs\\wound-compute-env\\lib\\site-packages\\openpyxl\\workbook\\child.py:99: UserWarning: Title is more than 31 characters. Some applications may not be able to read the file\n",
      "  warnings.warn(\"Title is more than 31 characters. Some applications may not be able to read the file\")\n"
     ]
    }
   ],
   "source": [],
   "metadata": {
    "collapsed": false
   }
  }
 ],
 "metadata": {
  "kernelspec": {
   "display_name": "Python 3",
   "language": "python",
   "name": "python3"
  },
  "language_info": {
   "codemirror_mode": {
    "name": "ipython",
    "version": 2
   },
   "file_extension": ".py",
   "mimetype": "text/x-python",
   "name": "python",
   "nbconvert_exporter": "python",
   "pygments_lexer": "ipython2",
   "version": "2.7.6"
  }
 },
 "nbformat": 4,
 "nbformat_minor": 0
}

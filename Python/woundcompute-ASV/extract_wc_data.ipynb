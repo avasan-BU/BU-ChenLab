{
 "cells": [
  {
   "cell_type": "code",
   "execution_count": 209,
   "metadata": {
    "collapsed": true
   },
   "outputs": [],
   "source": [
    "#imports\n",
    "import os, shutil, fnmatch, time, tkinter\n",
    "from tkinter.filedialog import askdirectory\n",
    "from pathlib import Path"
   ]
  },
  {
   "cell_type": "code",
   "execution_count": 210,
   "outputs": [
    {
     "name": "stdout",
     "output_type": "stream",
     "text": [
      "E:/Microscope Images/Code_processed_eclipse_data/20220404_NHDFneo_LY294_GDC_2/Sorted/tissue_ai\n"
     ]
    }
   ],
   "source": [
    "#prompt user for the file directory. Will open as a popup window named \"tk\"\n",
    "tk_root = tkinter.Tk()\n",
    "path_input = askdirectory(title='Select Folder')  # shows dialog box and return the path\n",
    "print(path_input)\n",
    "tk_root.destroy()"
   ],
   "metadata": {
    "collapsed": false
   }
  },
  {
   "cell_type": "code",
   "execution_count": 211,
   "outputs": [],
   "source": [
    "stage_pos_chars = []\n",
    "for file in os.listdir(path_input):\n",
    "    if file.endswith('.nd'):\n",
    "        basename = file.split('.',1)[0]\n",
    "        with open(path_input + '/' +file, 'r') as nd_file:\n",
    "            for l_no, line in enumerate(nd_file):\n",
    "                if '\"NStagePositions\"' in line:\n",
    "                    stage_pos_nd = [int(s) for s in line.split() if s.isdigit()][-1]\n",
    "                if '\"NTimePoints\"' in line:\n",
    "                    timepoints_nd = [int(s) for s in line.split() if s.isdigit()][-1]\n",
    "                if '\"Stage' in line:\n",
    "                    spc = line.split(', \"')[-1]\n",
    "                    stage_pos_chars.append(spc[0:len(spc)-2])\n"
   ],
   "metadata": {
    "collapsed": false
   }
  },
  {
   "cell_type": "code",
   "execution_count": 212,
   "outputs": [],
   "source": [
    "for file in os.listdir(path_input):\n",
    "    if os.path.isdir(path_input + '/' + file):\n",
    "        #rename file for correct sort syntax\n",
    "                folder = file.split('s', 1)[-1]\n",
    "\n",
    "                for num in range(2-len(folder)):\n",
    "                    folder = '0'+folder\n",
    "                newfile = 's'+folder\n",
    "                os.rename(path_input + '/' + file, path_input + '/' + newfile)\n"
   ],
   "metadata": {
    "collapsed": false
   }
  },
  {
   "cell_type": "code",
   "execution_count": 212,
   "outputs": [],
   "source": [],
   "metadata": {
    "collapsed": false
   }
  },
  {
   "cell_type": "code",
   "execution_count": 213,
   "outputs": [
    {
     "data": {
      "text/plain": "   Frame  Time     s01     s02     s03     s04     s05     s06     s07  \\\n       t Hours      A1      A2      A4      A5      A7      A8      A9   \n0      1   0.5  3940.0  2772.0  3112.0  4570.0  1506.0   722.0  3119.0   \n1      2   1.0  4534.0   856.0   914.0  4595.0  1064.0   699.0  3746.0   \n2      3   1.5  2703.0   873.0  2383.0  5068.0   962.0  1407.0  4112.0   \n3      4   2.0  2930.0   802.0   930.0  5123.0   892.0  1528.0  4250.0   \n4      5   2.5  2978.0   839.0  2264.0  5204.0   833.0  1686.0  4224.0   \n..   ...   ...     ...     ...     ...     ...     ...     ...     ...   \n73    74  37.0  2490.0  3467.0   878.0  5140.0  2750.0  5235.0  3292.0   \n74    75  37.5  2670.0  3394.0   961.0  4844.0  2632.0  5238.0  3195.0   \n75    76  38.0  2414.0  3509.0   967.0  4855.0  1634.0  5111.0  3169.0   \n76    77  38.5  2778.0  3450.0   967.0  4793.0  4500.0  5049.0  3105.0   \n77    78  39.0  2439.0  3440.0  1065.0  5100.0  2577.0  5034.0  2980.0   \n\n       s08  ...     s58     s59     s60     s61     s62    s63     s64  \\\n       A11  ...      G5      G6      G7      G8      G9    G10      H8   \n0   6036.0  ...  2914.0  1955.0  1675.0  3413.0  4241.0  171.0   770.0   \n1   6220.0  ...  2511.0  1936.0  1688.0  3732.0  4746.0  163.0  2273.0   \n2   6921.0  ...  1864.0  2792.0  2227.0  5142.0  6058.0  325.0  1545.0   \n3   7027.0  ...  2253.0  3413.0  2853.0  6122.0  6875.0  692.0  2129.0   \n4   7011.0  ...  2625.0  3568.0  3292.0  6716.0  7365.0  994.0  1629.0   \n..     ...  ...     ...     ...     ...     ...     ...    ...     ...   \n73  7738.0  ...  1488.0   121.0   103.0    73.0   332.0  570.0    99.0   \n74  7657.0  ...  1544.0   330.0   120.0    73.0   214.0  515.0   177.0   \n75  7514.0  ...   833.0   495.0    69.0    99.0   284.0  195.0   183.0   \n76  7473.0  ...   392.0   680.0    65.0    29.0   372.0  335.0   249.0   \n77  7375.0  ...   378.0   291.0    55.0    38.0   316.0  395.0   159.0   \n\n       s65     s66     s67  \n        H4      H2      H1  \n0   5431.0  2786.0  1173.0  \n1   4894.0  3357.0  1898.0  \n2   7121.0  4106.0  2440.0  \n3   8713.0  4823.0  2851.0  \n4   9712.0  5226.0  3112.0  \n..     ...     ...     ...  \n73    77.0   367.0   337.0  \n74   490.0   442.0   326.0  \n75   219.0   416.0   162.0  \n76  1029.0   226.0   192.0  \n77    72.0   426.0   151.0  \n\n[78 rows x 69 columns]",
      "text/html": "<div>\n<style scoped>\n    .dataframe tbody tr th:only-of-type {\n        vertical-align: middle;\n    }\n\n    .dataframe tbody tr th {\n        vertical-align: top;\n    }\n\n    .dataframe thead tr th {\n        text-align: left;\n    }\n</style>\n<table border=\"1\" class=\"dataframe\">\n  <thead>\n    <tr>\n      <th></th>\n      <th>Frame</th>\n      <th>Time</th>\n      <th>s01</th>\n      <th>s02</th>\n      <th>s03</th>\n      <th>s04</th>\n      <th>s05</th>\n      <th>s06</th>\n      <th>s07</th>\n      <th>s08</th>\n      <th>...</th>\n      <th>s58</th>\n      <th>s59</th>\n      <th>s60</th>\n      <th>s61</th>\n      <th>s62</th>\n      <th>s63</th>\n      <th>s64</th>\n      <th>s65</th>\n      <th>s66</th>\n      <th>s67</th>\n    </tr>\n    <tr>\n      <th></th>\n      <th>t</th>\n      <th>Hours</th>\n      <th>A1</th>\n      <th>A2</th>\n      <th>A4</th>\n      <th>A5</th>\n      <th>A7</th>\n      <th>A8</th>\n      <th>A9</th>\n      <th>A11</th>\n      <th>...</th>\n      <th>G5</th>\n      <th>G6</th>\n      <th>G7</th>\n      <th>G8</th>\n      <th>G9</th>\n      <th>G10</th>\n      <th>H8</th>\n      <th>H4</th>\n      <th>H2</th>\n      <th>H1</th>\n    </tr>\n  </thead>\n  <tbody>\n    <tr>\n      <th>0</th>\n      <td>1</td>\n      <td>0.5</td>\n      <td>3940.0</td>\n      <td>2772.0</td>\n      <td>3112.0</td>\n      <td>4570.0</td>\n      <td>1506.0</td>\n      <td>722.0</td>\n      <td>3119.0</td>\n      <td>6036.0</td>\n      <td>...</td>\n      <td>2914.0</td>\n      <td>1955.0</td>\n      <td>1675.0</td>\n      <td>3413.0</td>\n      <td>4241.0</td>\n      <td>171.0</td>\n      <td>770.0</td>\n      <td>5431.0</td>\n      <td>2786.0</td>\n      <td>1173.0</td>\n    </tr>\n    <tr>\n      <th>1</th>\n      <td>2</td>\n      <td>1.0</td>\n      <td>4534.0</td>\n      <td>856.0</td>\n      <td>914.0</td>\n      <td>4595.0</td>\n      <td>1064.0</td>\n      <td>699.0</td>\n      <td>3746.0</td>\n      <td>6220.0</td>\n      <td>...</td>\n      <td>2511.0</td>\n      <td>1936.0</td>\n      <td>1688.0</td>\n      <td>3732.0</td>\n      <td>4746.0</td>\n      <td>163.0</td>\n      <td>2273.0</td>\n      <td>4894.0</td>\n      <td>3357.0</td>\n      <td>1898.0</td>\n    </tr>\n    <tr>\n      <th>2</th>\n      <td>3</td>\n      <td>1.5</td>\n      <td>2703.0</td>\n      <td>873.0</td>\n      <td>2383.0</td>\n      <td>5068.0</td>\n      <td>962.0</td>\n      <td>1407.0</td>\n      <td>4112.0</td>\n      <td>6921.0</td>\n      <td>...</td>\n      <td>1864.0</td>\n      <td>2792.0</td>\n      <td>2227.0</td>\n      <td>5142.0</td>\n      <td>6058.0</td>\n      <td>325.0</td>\n      <td>1545.0</td>\n      <td>7121.0</td>\n      <td>4106.0</td>\n      <td>2440.0</td>\n    </tr>\n    <tr>\n      <th>3</th>\n      <td>4</td>\n      <td>2.0</td>\n      <td>2930.0</td>\n      <td>802.0</td>\n      <td>930.0</td>\n      <td>5123.0</td>\n      <td>892.0</td>\n      <td>1528.0</td>\n      <td>4250.0</td>\n      <td>7027.0</td>\n      <td>...</td>\n      <td>2253.0</td>\n      <td>3413.0</td>\n      <td>2853.0</td>\n      <td>6122.0</td>\n      <td>6875.0</td>\n      <td>692.0</td>\n      <td>2129.0</td>\n      <td>8713.0</td>\n      <td>4823.0</td>\n      <td>2851.0</td>\n    </tr>\n    <tr>\n      <th>4</th>\n      <td>5</td>\n      <td>2.5</td>\n      <td>2978.0</td>\n      <td>839.0</td>\n      <td>2264.0</td>\n      <td>5204.0</td>\n      <td>833.0</td>\n      <td>1686.0</td>\n      <td>4224.0</td>\n      <td>7011.0</td>\n      <td>...</td>\n      <td>2625.0</td>\n      <td>3568.0</td>\n      <td>3292.0</td>\n      <td>6716.0</td>\n      <td>7365.0</td>\n      <td>994.0</td>\n      <td>1629.0</td>\n      <td>9712.0</td>\n      <td>5226.0</td>\n      <td>3112.0</td>\n    </tr>\n    <tr>\n      <th>...</th>\n      <td>...</td>\n      <td>...</td>\n      <td>...</td>\n      <td>...</td>\n      <td>...</td>\n      <td>...</td>\n      <td>...</td>\n      <td>...</td>\n      <td>...</td>\n      <td>...</td>\n      <td>...</td>\n      <td>...</td>\n      <td>...</td>\n      <td>...</td>\n      <td>...</td>\n      <td>...</td>\n      <td>...</td>\n      <td>...</td>\n      <td>...</td>\n      <td>...</td>\n      <td>...</td>\n    </tr>\n    <tr>\n      <th>73</th>\n      <td>74</td>\n      <td>37.0</td>\n      <td>2490.0</td>\n      <td>3467.0</td>\n      <td>878.0</td>\n      <td>5140.0</td>\n      <td>2750.0</td>\n      <td>5235.0</td>\n      <td>3292.0</td>\n      <td>7738.0</td>\n      <td>...</td>\n      <td>1488.0</td>\n      <td>121.0</td>\n      <td>103.0</td>\n      <td>73.0</td>\n      <td>332.0</td>\n      <td>570.0</td>\n      <td>99.0</td>\n      <td>77.0</td>\n      <td>367.0</td>\n      <td>337.0</td>\n    </tr>\n    <tr>\n      <th>74</th>\n      <td>75</td>\n      <td>37.5</td>\n      <td>2670.0</td>\n      <td>3394.0</td>\n      <td>961.0</td>\n      <td>4844.0</td>\n      <td>2632.0</td>\n      <td>5238.0</td>\n      <td>3195.0</td>\n      <td>7657.0</td>\n      <td>...</td>\n      <td>1544.0</td>\n      <td>330.0</td>\n      <td>120.0</td>\n      <td>73.0</td>\n      <td>214.0</td>\n      <td>515.0</td>\n      <td>177.0</td>\n      <td>490.0</td>\n      <td>442.0</td>\n      <td>326.0</td>\n    </tr>\n    <tr>\n      <th>75</th>\n      <td>76</td>\n      <td>38.0</td>\n      <td>2414.0</td>\n      <td>3509.0</td>\n      <td>967.0</td>\n      <td>4855.0</td>\n      <td>1634.0</td>\n      <td>5111.0</td>\n      <td>3169.0</td>\n      <td>7514.0</td>\n      <td>...</td>\n      <td>833.0</td>\n      <td>495.0</td>\n      <td>69.0</td>\n      <td>99.0</td>\n      <td>284.0</td>\n      <td>195.0</td>\n      <td>183.0</td>\n      <td>219.0</td>\n      <td>416.0</td>\n      <td>162.0</td>\n    </tr>\n    <tr>\n      <th>76</th>\n      <td>77</td>\n      <td>38.5</td>\n      <td>2778.0</td>\n      <td>3450.0</td>\n      <td>967.0</td>\n      <td>4793.0</td>\n      <td>4500.0</td>\n      <td>5049.0</td>\n      <td>3105.0</td>\n      <td>7473.0</td>\n      <td>...</td>\n      <td>392.0</td>\n      <td>680.0</td>\n      <td>65.0</td>\n      <td>29.0</td>\n      <td>372.0</td>\n      <td>335.0</td>\n      <td>249.0</td>\n      <td>1029.0</td>\n      <td>226.0</td>\n      <td>192.0</td>\n    </tr>\n    <tr>\n      <th>77</th>\n      <td>78</td>\n      <td>39.0</td>\n      <td>2439.0</td>\n      <td>3440.0</td>\n      <td>1065.0</td>\n      <td>5100.0</td>\n      <td>2577.0</td>\n      <td>5034.0</td>\n      <td>2980.0</td>\n      <td>7375.0</td>\n      <td>...</td>\n      <td>378.0</td>\n      <td>291.0</td>\n      <td>55.0</td>\n      <td>38.0</td>\n      <td>316.0</td>\n      <td>395.0</td>\n      <td>159.0</td>\n      <td>72.0</td>\n      <td>426.0</td>\n      <td>151.0</td>\n    </tr>\n  </tbody>\n</table>\n<p>78 rows × 69 columns</p>\n</div>"
     },
     "metadata": {},
     "output_type": "display_data"
    },
    {
     "name": "stderr",
     "output_type": "stream",
     "text": [
      "C:\\Users\\anish\\anaconda3\\envs\\wound-compute-env\\lib\\site-packages\\openpyxl\\workbook\\child.py:99: UserWarning: Title is more than 31 characters. Some applications may not be able to read the file\n",
      "  warnings.warn(\"Title is more than 31 characters. Some applications may not be able to read the file\")\n"
     ]
    }
   ],
   "source": [
    "import pandas as pd\n",
    "list_pos= []\n",
    "tlist = [T*0.5 for T in range(1,timepoints_nd+1)]\n",
    "wa_df = pd.DataFrame({'Frame': range(1,timepoints_nd+1),\n",
    "                      'Time':  tlist})\n",
    "for file in os.listdir(path_input):\n",
    "    if os.path.isdir(path_input+'/'+file):\n",
    "\n",
    "        list_pos.append(file)\n",
    "        wa_df[file] = pd.read_table(path_input+'/'+file+'/segment_ph1/wound_area_vs_frame.txt',header = None)\n",
    "\n",
    "header1 = wa_df.columns\n",
    "header2 = ['t','Hours']+ stage_pos_chars\n",
    "wa_df.columns = [header1, header2]\n",
    "display(wa_df)\n",
    "\n",
    "xls_name = path_input.split('Code_processed_eclipse_data/',1)[-1].split('/',1)[0]\n",
    "#wa_df.to_excel(r'E:/Microscope Images/Code_processed_eclipse_data/Wound_area_code_output.xlsx', sheet_name=xls_name+'_'+ basename)\n",
    "\n",
    "def append_to_excel(fpath, df, sheet_name):\n",
    "    with pd.ExcelWriter(fpath, mode=\"a\") as f:\n",
    "        df.to_excel(f, sheet_name=sheet_name)\n",
    "\n",
    "append_to_excel('E:/Microscope Images/Code_processed_eclipse_data/Wound_area_code_output.xlsx', wa_df,xls_name)\n"
   ],
   "metadata": {
    "collapsed": false
   }
  },
  {
   "cell_type": "code",
   "execution_count": 213,
   "outputs": [],
   "source": [],
   "metadata": {
    "collapsed": false
   }
  }
 ],
 "metadata": {
  "kernelspec": {
   "display_name": "Python 3",
   "language": "python",
   "name": "python3"
  },
  "language_info": {
   "codemirror_mode": {
    "name": "ipython",
    "version": 2
   },
   "file_extension": ".py",
   "mimetype": "text/x-python",
   "name": "python",
   "nbconvert_exporter": "python",
   "pygments_lexer": "ipython2",
   "version": "2.7.6"
  }
 },
 "nbformat": 4,
 "nbformat_minor": 0
}

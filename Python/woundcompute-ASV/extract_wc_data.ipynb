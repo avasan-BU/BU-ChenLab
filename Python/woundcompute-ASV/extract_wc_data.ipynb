{
 "cells": [
  {
   "cell_type": "code",
   "execution_count": 26,
   "metadata": {
    "collapsed": true
   },
   "outputs": [],
   "source": [
    "#imports\n",
    "import os, shutil, fnmatch, time, tkinter\n",
    "from tkinter.filedialog import askdirectory\n",
    "from pathlib import Path"
   ]
  },
  {
   "cell_type": "code",
   "execution_count": 27,
   "metadata": {},
   "outputs": [
    {
     "name": "stdout",
     "output_type": "stream",
     "text": [
      "C:/Working Folder/20240428_R5BP10_NHDFneo_P3_dECM/tissue_ai/Sorted/tissue_ai/Leftover/LOs\n"
     ]
    }
   ],
   "source": [
    "#prompt user for the file directory. Will open as a popup window named \"tk\"\n",
    "tk_root = tkinter.Tk()\n",
    "path_input = askdirectory(title='Select Folder')  # shows dialog box and return the path\n",
    "print(path_input)\n",
    "tk_root.destroy()"
   ]
  },
  {
   "cell_type": "code",
   "execution_count": 28,
   "metadata": {},
   "outputs": [
    {
     "name": "stdout",
     "output_type": "stream",
     "text": [
      "[60]\n"
     ]
    }
   ],
   "source": [
    "stage_pos_nd = [60]\n",
    "for file in os.listdir(path_input):\n",
    "    if file.endswith('.nd'):\n",
    "        basename = file.split('.',1)[0]\n",
    "        print(basename)\n",
    "        with open(path_input + '/' +file, 'r') as nd_file:\n",
    "            for l_no, line in enumerate(nd_file):\n",
    "                if '\"NStagePositions\"' in line:\n",
    "                    stage_pos_nd = [int(s) for s in line.split() if s.isdigit()][-1]\n",
    "                if '\"NTimePoints\"' in line:\n",
    "                    timepoints_nd = [int(s) for s in line.split() if s.isdigit()][-1]\n",
    "                if '\"Stage' in line:\n",
    "                    spc = line.split(', \"')[0].split('Stage')[-1]\n",
    "                    #stage_pos_chars.append(spc[0:len(spc)-2])\n",
    "                    print(spc)\n",
    "\n",
    "print(stage_pos_nd)"
   ]
  },
  {
   "cell_type": "code",
   "execution_count": 29,
   "metadata": {},
   "outputs": [],
   "source": [
    "for file in os.listdir(path_input):\n",
    "    if os.path.isdir(path_input + '/' + file):\n",
    "        #rename file for correct sort syntax\n",
    "                folder = file.split('s', 1)[-1]\n",
    "\n",
    "                for num in range(2-len(folder)):\n",
    "                    folder = '0'+folder\n",
    "                newfile = 's'+folder\n",
    "                os.rename(path_input + '/' + file, path_input + '/' + newfile)\n"
   ]
  },
  {
   "cell_type": "code",
   "execution_count": 29,
   "metadata": {},
   "outputs": [],
   "source": []
  },
  {
   "cell_type": "code",
   "execution_count": 31,
   "metadata": {},
   "outputs": [
    {
     "data": {
      "text/plain": "    Frame  Time      s13     s14     s15      s28    s29      s30      s43  \\\n0       1   0.5    389.0  2330.0  2096.0  29763.0  161.0  20349.0   1121.0   \n1       2   1.0    526.0  3876.0   150.0  31256.0   42.0  30266.0   2211.0   \n2       3   1.5  10585.0  5973.0    45.0  35675.0   64.0  38423.0   1674.0   \n3       4   2.0  11689.0  6600.0  1011.0  38498.0  235.0  41199.0   1961.0   \n4       5   2.5  12992.0  7777.0    64.0  43521.0  405.0  45759.0   1468.0   \n..    ...   ...      ...     ...     ...      ...    ...      ...      ...   \n88     89  44.5     78.0  2723.0    36.0  67295.0   30.0  20728.0  15938.0   \n89     90  45.0     23.0  3775.0    25.0  68871.0   34.0  20774.0  14231.0   \n90     91  45.5    103.0  2891.0    45.0  69868.0   44.0  17560.0  16259.0   \n91     92  46.0     48.0   836.0    11.0  68449.0   29.0  16996.0  14273.0   \n92     93  46.5    280.0  1078.0   257.0  65020.0   23.0  16233.0  15489.0   \n\n        s44     s45      s58      s59      s60  \n0    7026.0    40.0   2159.0  21034.0   4830.0  \n1   11625.0   144.0   4787.0  29180.0   7596.0  \n2   11752.0    58.0   5781.0  36667.0  12284.0  \n3   26004.0   279.0   6615.0  39971.0  11696.0  \n4   26680.0     5.0   6915.0  44221.0  12329.0  \n..      ...     ...      ...      ...      ...  \n88  84573.0   166.0  12728.0   2669.0  24885.0  \n89  82425.0   532.0  13731.0   1239.0  27094.0  \n90  85269.0  1530.0  13328.0    456.0  24753.0  \n91  83952.0   198.0  13791.0   1693.0  25997.0  \n92  84125.0    84.0  13196.0   2101.0  25832.0  \n\n[93 rows x 14 columns]",
      "text/html": "<div>\n<style scoped>\n    .dataframe tbody tr th:only-of-type {\n        vertical-align: middle;\n    }\n\n    .dataframe tbody tr th {\n        vertical-align: top;\n    }\n\n    .dataframe thead th {\n        text-align: right;\n    }\n</style>\n<table border=\"1\" class=\"dataframe\">\n  <thead>\n    <tr style=\"text-align: right;\">\n      <th></th>\n      <th>Frame</th>\n      <th>Time</th>\n      <th>s13</th>\n      <th>s14</th>\n      <th>s15</th>\n      <th>s28</th>\n      <th>s29</th>\n      <th>s30</th>\n      <th>s43</th>\n      <th>s44</th>\n      <th>s45</th>\n      <th>s58</th>\n      <th>s59</th>\n      <th>s60</th>\n    </tr>\n  </thead>\n  <tbody>\n    <tr>\n      <th>0</th>\n      <td>1</td>\n      <td>0.5</td>\n      <td>389.0</td>\n      <td>2330.0</td>\n      <td>2096.0</td>\n      <td>29763.0</td>\n      <td>161.0</td>\n      <td>20349.0</td>\n      <td>1121.0</td>\n      <td>7026.0</td>\n      <td>40.0</td>\n      <td>2159.0</td>\n      <td>21034.0</td>\n      <td>4830.0</td>\n    </tr>\n    <tr>\n      <th>1</th>\n      <td>2</td>\n      <td>1.0</td>\n      <td>526.0</td>\n      <td>3876.0</td>\n      <td>150.0</td>\n      <td>31256.0</td>\n      <td>42.0</td>\n      <td>30266.0</td>\n      <td>2211.0</td>\n      <td>11625.0</td>\n      <td>144.0</td>\n      <td>4787.0</td>\n      <td>29180.0</td>\n      <td>7596.0</td>\n    </tr>\n    <tr>\n      <th>2</th>\n      <td>3</td>\n      <td>1.5</td>\n      <td>10585.0</td>\n      <td>5973.0</td>\n      <td>45.0</td>\n      <td>35675.0</td>\n      <td>64.0</td>\n      <td>38423.0</td>\n      <td>1674.0</td>\n      <td>11752.0</td>\n      <td>58.0</td>\n      <td>5781.0</td>\n      <td>36667.0</td>\n      <td>12284.0</td>\n    </tr>\n    <tr>\n      <th>3</th>\n      <td>4</td>\n      <td>2.0</td>\n      <td>11689.0</td>\n      <td>6600.0</td>\n      <td>1011.0</td>\n      <td>38498.0</td>\n      <td>235.0</td>\n      <td>41199.0</td>\n      <td>1961.0</td>\n      <td>26004.0</td>\n      <td>279.0</td>\n      <td>6615.0</td>\n      <td>39971.0</td>\n      <td>11696.0</td>\n    </tr>\n    <tr>\n      <th>4</th>\n      <td>5</td>\n      <td>2.5</td>\n      <td>12992.0</td>\n      <td>7777.0</td>\n      <td>64.0</td>\n      <td>43521.0</td>\n      <td>405.0</td>\n      <td>45759.0</td>\n      <td>1468.0</td>\n      <td>26680.0</td>\n      <td>5.0</td>\n      <td>6915.0</td>\n      <td>44221.0</td>\n      <td>12329.0</td>\n    </tr>\n    <tr>\n      <th>...</th>\n      <td>...</td>\n      <td>...</td>\n      <td>...</td>\n      <td>...</td>\n      <td>...</td>\n      <td>...</td>\n      <td>...</td>\n      <td>...</td>\n      <td>...</td>\n      <td>...</td>\n      <td>...</td>\n      <td>...</td>\n      <td>...</td>\n      <td>...</td>\n    </tr>\n    <tr>\n      <th>88</th>\n      <td>89</td>\n      <td>44.5</td>\n      <td>78.0</td>\n      <td>2723.0</td>\n      <td>36.0</td>\n      <td>67295.0</td>\n      <td>30.0</td>\n      <td>20728.0</td>\n      <td>15938.0</td>\n      <td>84573.0</td>\n      <td>166.0</td>\n      <td>12728.0</td>\n      <td>2669.0</td>\n      <td>24885.0</td>\n    </tr>\n    <tr>\n      <th>89</th>\n      <td>90</td>\n      <td>45.0</td>\n      <td>23.0</td>\n      <td>3775.0</td>\n      <td>25.0</td>\n      <td>68871.0</td>\n      <td>34.0</td>\n      <td>20774.0</td>\n      <td>14231.0</td>\n      <td>82425.0</td>\n      <td>532.0</td>\n      <td>13731.0</td>\n      <td>1239.0</td>\n      <td>27094.0</td>\n    </tr>\n    <tr>\n      <th>90</th>\n      <td>91</td>\n      <td>45.5</td>\n      <td>103.0</td>\n      <td>2891.0</td>\n      <td>45.0</td>\n      <td>69868.0</td>\n      <td>44.0</td>\n      <td>17560.0</td>\n      <td>16259.0</td>\n      <td>85269.0</td>\n      <td>1530.0</td>\n      <td>13328.0</td>\n      <td>456.0</td>\n      <td>24753.0</td>\n    </tr>\n    <tr>\n      <th>91</th>\n      <td>92</td>\n      <td>46.0</td>\n      <td>48.0</td>\n      <td>836.0</td>\n      <td>11.0</td>\n      <td>68449.0</td>\n      <td>29.0</td>\n      <td>16996.0</td>\n      <td>14273.0</td>\n      <td>83952.0</td>\n      <td>198.0</td>\n      <td>13791.0</td>\n      <td>1693.0</td>\n      <td>25997.0</td>\n    </tr>\n    <tr>\n      <th>92</th>\n      <td>93</td>\n      <td>46.5</td>\n      <td>280.0</td>\n      <td>1078.0</td>\n      <td>257.0</td>\n      <td>65020.0</td>\n      <td>23.0</td>\n      <td>16233.0</td>\n      <td>15489.0</td>\n      <td>84125.0</td>\n      <td>84.0</td>\n      <td>13196.0</td>\n      <td>2101.0</td>\n      <td>25832.0</td>\n    </tr>\n  </tbody>\n</table>\n<p>93 rows × 14 columns</p>\n</div>"
     },
     "metadata": {},
     "output_type": "display_data"
    },
    {
     "name": "stderr",
     "output_type": "stream",
     "text": [
      "C:\\Users\\anish\\.conda\\envs\\wound-compute-env\\lib\\site-packages\\openpyxl\\worksheet\\_reader.py:329: UserWarning: Sparkline Group extension is not supported and will be removed\n",
      "  warn(msg)\n"
     ]
    }
   ],
   "source": [
    "import pandas as pd\n",
    "list_pos= []\n",
    "tlist = [T*0.5 for T in range(1,timepoints_nd+1)]\n",
    "wa_df = pd.DataFrame({'Frame': range(1,timepoints_nd+1),\n",
    "                      'Time':  tlist})\n",
    "for file in os.listdir(path_input):\n",
    "    if os.path.isdir(path_input+'/'+file):\n",
    "\n",
    "        list_pos.append(file)\n",
    "        wa_df[file] = pd.read_table(path_input+'/'+file+'/segment_ph1/wound_area_vs_frame.txt',header = None)\n",
    "\n",
    "#header1 = wa_df.columns\n",
    "#header2 = ['t','Hours']+ stage_pos_chars\n",
    "#wa_df.columns = [header1, header2]\n",
    "display(wa_df)\n",
    "\n",
    "xls_name = '20230921'\n",
    "#wa_df.to_excel(r'D:/20230922_NHDFneo_P4_Fluor-FN-Col1/BF/Sorted/Wound_area_code_output.xlsx', sheet_name=\"isbroken\")\n",
    "\n",
    "def append_to_excel(fpath, df, sheet_name):\n",
    "    with pd.ExcelWriter(fpath, mode=\"a\") as f:\n",
    "        df.to_excel(f, sheet_name=sheet_name)\n",
    "\n",
    "append_to_excel('C:/Working Folder/Wound_area_code_output.xlsx',wa_df, \"wound_area-20240428_rerun_lo\")# \"isclosed\")\n"
   ]
  },
  {
   "cell_type": "code",
   "execution_count": null,
   "metadata": {},
   "outputs": [],
   "source": []
  },
  {
   "cell_type": "code",
   "execution_count": null,
   "outputs": [],
   "source": [],
   "metadata": {
    "collapsed": false
   }
  },
  {
   "cell_type": "code",
   "execution_count": null,
   "outputs": [],
   "source": [],
   "metadata": {
    "collapsed": false
   }
  }
 ],
 "metadata": {
  "kernelspec": {
   "display_name": "Python 3",
   "language": "python",
   "name": "python3"
  },
  "language_info": {
   "codemirror_mode": {
    "name": "ipython",
    "version": 3
   },
   "file_extension": ".py",
   "mimetype": "text/x-python",
   "name": "python",
   "nbconvert_exporter": "python",
   "pygments_lexer": "ipython3",
   "version": "3.8.5"
  }
 },
 "nbformat": 4,
 "nbformat_minor": 1
}

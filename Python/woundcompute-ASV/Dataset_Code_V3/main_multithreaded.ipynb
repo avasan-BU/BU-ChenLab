{
 "cells": [
  {
   "cell_type": "markdown",
   "source": [
    "Name: Main_multithreader\n",
    "\n",
    "Version: 1.0\n",
    "\n",
    "Author: Anish Vasan\n",
    "\n",
    "Organization: Chen/Eyckmans Lab, Boston University\n",
    "\n",
    "Date: 20240815"
   ],
   "metadata": {
    "collapsed": false
   }
  },
  {
   "cell_type": "markdown",
   "source": [
    "## IMPORTS ##"
   ],
   "metadata": {
    "collapsed": false
   }
  },
  {
   "cell_type": "code",
   "execution_count": 1,
   "metadata": {
    "collapsed": true
   },
   "outputs": [
    {
     "name": "stderr",
     "output_type": "stream",
     "text": [
      "C:\\Users\\anish\\.conda\\envs\\wound-compute-env\\lib\\site-packages\\scipy\\__init__.py:155: UserWarning: A NumPy version >=1.18.5 and <1.25.0 is required for this version of SciPy (detected version 1.26.4\n",
      "  warnings.warn(f\"A NumPy version >={np_minversion} and <{np_maxversion}\"\n"
     ]
    }
   ],
   "source": [
    "import threading\n",
    "import subprocess\n",
    "from humanfriendly import format_timespan\n",
    "from pathlib import Path\n",
    "from woundcompute import image_analysis as ia\n",
    "from wc_function_2_1 import *\n",
    "import time"
   ]
  },
  {
   "cell_type": "markdown",
   "source": [
    "## DEFINITIONS ##\n",
    "## These require user input/changes based on experiments ##"
   ],
   "metadata": {
    "collapsed": false
   }
  },
  {
   "cell_type": "code",
   "execution_count": 2,
   "outputs": [],
   "source": [
    "image_type, is_pillars, parallels = yaml_input_gui()\n",
    "is_pillars = bool(is_pillars)\n",
    "is_fl = False #Options: True, False"
   ],
   "metadata": {
    "collapsed": false
   }
  },
  {
   "cell_type": "markdown",
   "source": [
    "## RUN CODE ##\n",
    "\n",
    "**Section 1: Navigate to data folder containing .nd file**"
   ],
   "metadata": {
    "collapsed": false
   }
  },
  {
   "cell_type": "code",
   "execution_count": 9,
   "outputs": [
    {
     "name": "stdout",
     "output_type": "stream",
     "text": [
      "Current config:\n",
      "Image Type: Ph1\n",
      "Fluorescent Images: False\n",
      "Track Pillars: True\n",
      "Please open the directory that contains your .nd file\n",
      "Inputed path: \n"
     ]
    },
    {
     "ename": "PermissionError",
     "evalue": "[WinError 5] Access is denied: '/'",
     "output_type": "error",
     "traceback": [
      "\u001B[1;31m---------------------------------------------------------------------------\u001B[0m",
      "\u001B[1;31mPermissionError\u001B[0m                           Traceback (most recent call last)",
      "Cell \u001B[1;32mIn[9], line 6\u001B[0m\n\u001B[0;32m      3\u001B[0m \u001B[38;5;28mprint\u001B[39m(\u001B[38;5;124m\"\u001B[39m\u001B[38;5;124mFluorescent Images:\u001B[39m\u001B[38;5;124m\"\u001B[39m, is_fl)\n\u001B[0;32m      4\u001B[0m \u001B[38;5;28mprint\u001B[39m(\u001B[38;5;124m\"\u001B[39m\u001B[38;5;124mTrack Pillars:\u001B[39m\u001B[38;5;124m\"\u001B[39m, \u001B[38;5;28mbool\u001B[39m(is_pillars))\n\u001B[1;32m----> 6\u001B[0m path_input, path_output \u001B[38;5;241m=\u001B[39m \u001B[43mio_function\u001B[49m\u001B[43m(\u001B[49m\u001B[43m)\u001B[49m\n",
      "File \u001B[1;32mE:\\Code\\GitHub\\BU-ChenLab\\Python\\woundcompute-ASV\\Dataset_Code_V3\\wc_function_2_1.py:23\u001B[0m, in \u001B[0;36mio_function\u001B[1;34m()\u001B[0m\n\u001B[0;32m     21\u001B[0m     path_out_new \u001B[38;5;241m=\u001B[39m \u001B[38;5;28minput\u001B[39m(\u001B[38;5;124m'\u001B[39m\u001B[38;5;124mEnter new output folder name\u001B[39m\u001B[38;5;124m'\u001B[39m)\n\u001B[0;32m     22\u001B[0m     path_output \u001B[38;5;241m=\u001B[39m path_input \u001B[38;5;241m+\u001B[39m \u001B[38;5;124m'\u001B[39m\u001B[38;5;124m/\u001B[39m\u001B[38;5;124m'\u001B[39m \u001B[38;5;241m+\u001B[39m path_out_new\n\u001B[1;32m---> 23\u001B[0m     \u001B[43mos\u001B[49m\u001B[38;5;241;43m.\u001B[39;49m\u001B[43mmakedirs\u001B[49m\u001B[43m(\u001B[49m\u001B[43mpath_output\u001B[49m\u001B[43m)\u001B[49m\n\u001B[0;32m     24\u001B[0m \u001B[38;5;66;03m# create a new  output directory\u001B[39;00m\n\u001B[0;32m     25\u001B[0m \u001B[38;5;28;01melse\u001B[39;00m:\n\u001B[0;32m     26\u001B[0m     os\u001B[38;5;241m.\u001B[39mmakedirs(path_output)\n",
      "File \u001B[1;32m~\\.conda\\envs\\wound-compute-env\\lib\\os.py:225\u001B[0m, in \u001B[0;36mmakedirs\u001B[1;34m(name, mode, exist_ok)\u001B[0m\n\u001B[0;32m    223\u001B[0m         \u001B[38;5;28;01mreturn\u001B[39;00m\n\u001B[0;32m    224\u001B[0m \u001B[38;5;28;01mtry\u001B[39;00m:\n\u001B[1;32m--> 225\u001B[0m     \u001B[43mmkdir\u001B[49m\u001B[43m(\u001B[49m\u001B[43mname\u001B[49m\u001B[43m,\u001B[49m\u001B[43m \u001B[49m\u001B[43mmode\u001B[49m\u001B[43m)\u001B[49m\n\u001B[0;32m    226\u001B[0m \u001B[38;5;28;01mexcept\u001B[39;00m \u001B[38;5;167;01mOSError\u001B[39;00m:\n\u001B[0;32m    227\u001B[0m     \u001B[38;5;66;03m# Cannot rely on checking for EEXIST, since the operating system\u001B[39;00m\n\u001B[0;32m    228\u001B[0m     \u001B[38;5;66;03m# could give priority to other errors like EACCES or EROFS\u001B[39;00m\n\u001B[0;32m    229\u001B[0m     \u001B[38;5;28;01mif\u001B[39;00m \u001B[38;5;129;01mnot\u001B[39;00m exist_ok \u001B[38;5;129;01mor\u001B[39;00m \u001B[38;5;129;01mnot\u001B[39;00m path\u001B[38;5;241m.\u001B[39misdir(name):\n",
      "\u001B[1;31mPermissionError\u001B[0m: [WinError 5] Access is denied: '/'"
     ]
    }
   ],
   "source": [
    "print(\"Current config:\")\n",
    "print(\"Image Type:\", image_type)\n",
    "print(\"Fluorescent Images:\", is_fl)\n",
    "print(\"Track Pillars:\", is_pillars)\n",
    "\n",
    "path_input, path_output = io_function()"
   ],
   "metadata": {
    "collapsed": false
   }
  },
  {
   "cell_type": "markdown",
   "source": [
    "**Section 2: Execute functions to prepare folder structure for woundcompute**"
   ],
   "metadata": {
    "collapsed": false
   }
  },
  {
   "cell_type": "code",
   "execution_count": 4,
   "outputs": [
    {
     "name": "stdout",
     "output_type": "stream",
     "text": [
      "ph1\n",
      "Created .yaml file\n",
      "Created basename list: ['tissue_ai', 'tissue_ai1', 'tissue_bi']\n",
      "Sorting images into corresponding basename folders...\n",
      "Completed!\n",
      "Extracted stage position information from .nd files\n",
      "Sorting images in each basename folder into their corresponding stage position folders...\n",
      "Dividing tissue folders into processing subfolders to maximize multicore performance...\n",
      "Error: C:/Working Folder/20240713_R5BP14_FUNCAT/S2/tissue_ai/s06 - No such file or directory.\n",
      "Error: C:/Working Folder/20240713_R5BP14_FUNCAT/S2/tissue_ai/s07 - No such file or directory.\n",
      "Error: C:/Working Folder/20240713_R5BP14_FUNCAT/S2/tissue_ai/s08 - No such file or directory.\n",
      "Error: C:/Working Folder/20240713_R5BP14_FUNCAT/S2/tissue_ai/s09 - No such file or directory.\n",
      "Error: C:/Working Folder/20240713_R5BP14_FUNCAT/S2/tissue_ai/s10 - No such file or directory.\n",
      "Error: C:/Working Folder/20240713_R5BP14_FUNCAT/S2/tissue_ai/s11 - No such file or directory.\n",
      "Error: C:/Working Folder/20240713_R5BP14_FUNCAT/S2/tissue_ai/s12 - No such file or directory.\n",
      "Error: C:/Working Folder/20240713_R5BP14_FUNCAT/S2/tissue_ai/s13 - No such file or directory.\n",
      "Error: C:/Working Folder/20240713_R5BP14_FUNCAT/S2/tissue_ai/s14 - No such file or directory.\n",
      "Error: C:/Working Folder/20240713_R5BP14_FUNCAT/S2/tissue_ai/s15 - No such file or directory.\n",
      "Error: C:/Working Folder/20240713_R5BP14_FUNCAT/S2/tissue_ai/s16 - No such file or directory.\n",
      "Error: C:/Working Folder/20240713_R5BP14_FUNCAT/S2/tissue_ai/s17 - No such file or directory.\n",
      "Error: C:/Working Folder/20240713_R5BP14_FUNCAT/S2/tissue_ai/s18 - No such file or directory.\n",
      "Error: C:/Working Folder/20240713_R5BP14_FUNCAT/S2/tissue_ai/s19 - No such file or directory.\n",
      "Error: C:/Working Folder/20240713_R5BP14_FUNCAT/S2/tissue_ai/s20 - No such file or directory.\n",
      "Error: C:/Working Folder/20240713_R5BP14_FUNCAT/S2/tissue_ai/s21 - No such file or directory.\n",
      "Error: C:/Working Folder/20240713_R5BP14_FUNCAT/S2/tissue_ai/s22 - No such file or directory.\n",
      "Error: C:/Working Folder/20240713_R5BP14_FUNCAT/S2/tissue_ai/s23 - No such file or directory.\n",
      "Error: C:/Working Folder/20240713_R5BP14_FUNCAT/S2/tissue_ai/s24 - No such file or directory.\n",
      "Error: C:/Working Folder/20240713_R5BP14_FUNCAT/S2/tissue_ai/s25 - No such file or directory.\n",
      "Error: C:/Working Folder/20240713_R5BP14_FUNCAT/S2/tissue_ai/s26 - No such file or directory.\n",
      "Error: C:/Working Folder/20240713_R5BP14_FUNCAT/S2/tissue_ai/s27 - No such file or directory.\n",
      "Error: C:/Working Folder/20240713_R5BP14_FUNCAT/S2/tissue_ai/s28 - No such file or directory.\n",
      "Error: C:/Working Folder/20240713_R5BP14_FUNCAT/S2/tissue_bi/s27 - No such file or directory.\n",
      "Error: C:/Working Folder/20240713_R5BP14_FUNCAT/S2/tissue_bi/s28 - No such file or directory.\n",
      "Completed\n"
     ]
    }
   ],
   "source": [
    "print(image_type)\n",
    "# Create yaml file for image type\n",
    "create_yaml(path_output, image_type, is_fl, is_pillars)\n",
    "print(\"Created .yaml file\")\n",
    "# Create list of .nd files/experiments in the input folder\n",
    "basename_list = define_basename_list(path_input)\n",
    "print(\"Created basename list:\", basename_list)\n",
    "\n",
    "print(\"Sorting images into corresponding basename folders...\")\n",
    "# Sort images in input folder into Sorted/basename folder\n",
    "sort_basename_folders(basename_list, path_input, path_output)\n",
    "print(\"Completed!\")\n",
    "\n",
    "# Extract stage position information from .nd file\n",
    "stage_pos_nd = extract_nd_info(basename_list,path_output)\n",
    "print(\"Extracted stage position information from .nd files\")\n",
    "\n",
    "print(\"Sorting images in each basename folder into their corresponding stage position folders...\")\n",
    "#  Sort images in each basename folder into their corresponding stage position folders\n",
    "sort_stage_pos_folders(basename_list,path_output, stage_pos_nd, image_type)\n",
    "\n",
    "print(\"Dividing tissue folders into processing subfolders to maximize multicore performance...\")\n",
    "#Divide tissue folders into processing groups to maximize processing power\n",
    "sort_parallel_processes(basename_list, path_output, stage_pos_nd, image_type, parallels)\n",
    "\n",
    "print(\"Completed\")"
   ],
   "metadata": {
    "collapsed": false
   }
  },
  {
   "cell_type": "markdown",
   "source": [
    "**Section 3: Execute woundcompute for all basename folders in the Sorted folder**"
   ],
   "metadata": {
    "collapsed": false
   }
  },
  {
   "cell_type": "code",
   "execution_count": null,
   "outputs": [],
   "source": [
    "print(\"Starting wound compute for each stage position...\")\n",
    "print(\"Start time:\",time.ctime())\n",
    "start = time.time()\n",
    "for index, basename in enumerate(basename_list):\n",
    "    time_all=[]\n",
    "    for stage_pos in range(1, stage_pos_nd[index]+1):\n",
    "        current = time.time()\n",
    "        input_location = Path(path_output+'/'+basename+'/'+'s' + f\"{stage_pos:02}\")\n",
    "        try:\n",
    "            time_all, action_all = ia.run_all(input_location)\n",
    "            secondsPassed = time.time()-current\n",
    "            print(\"tissue number:\", stage_pos, \"time:\", format_timespan(secondsPassed))\n",
    "        except Exception as ex:\n",
    "            time_all.append(time.time())\n",
    "            print(\"tissue number:\", stage_pos, \"time:\", time.ctime())\n",
    "            print(\"---------ERROR OF SOME DESCRIPTION HAS HAPPENED-------\")\n",
    "            print(ex)\n",
    "            print(\"------------------------------------------------------\")\n",
    "\n",
    "print(\"Completed! Hurray!\")\n",
    "print(\"End time:\",time.ctime())\n",
    "print(\"Total time taken:\", format_timespan(time.time()-start))\n",
    "\n",
    "print(\"Please run extract_dataset to consolidate outputs into an excel file!\")"
   ],
   "metadata": {
    "collapsed": false
   }
  }
 ],
 "metadata": {
  "kernelspec": {
   "display_name": "Python 3",
   "language": "python",
   "name": "python3"
  },
  "language_info": {
   "codemirror_mode": {
    "name": "ipython",
    "version": 2
   },
   "file_extension": ".py",
   "mimetype": "text/x-python",
   "name": "python",
   "nbconvert_exporter": "python",
   "pygments_lexer": "ipython2",
   "version": "2.7.6"
  }
 },
 "nbformat": 4,
 "nbformat_minor": 0
}

{
 "cells": [
  {
   "cell_type": "markdown",
   "source": [
    "Name: run_wc_dataset;\n",
    "\n",
    "Version: 2.0;\n",
    "\n",
    "Author: Anish Vasan;\n",
    "\n",
    "Organization: Chen/Eyckmans Lab, Boston University;\n",
    "\n",
    "Date: 20230509;"
   ],
   "metadata": {
    "collapsed": false
   }
  },
  {
   "cell_type": "markdown",
   "source": [
    "## IMPORTS ##"
   ],
   "metadata": {
    "collapsed": false
   }
  },
  {
   "cell_type": "code",
   "execution_count": 33,
   "metadata": {
    "collapsed": true
   },
   "outputs": [],
   "source": [
    "import os, shutil, fnmatch, tkinter, yaml\n",
    "from tkinter.filedialog import askdirectory\n",
    "from pathlib import Path\n",
    "from woundcompute import image_analysis as ia\n",
    "import time"
   ]
  },
  {
   "cell_type": "markdown",
   "source": [
    "## DEFINITIONS ##\n",
    "## These require user input/changes based on experiments ##"
   ],
   "metadata": {
    "collapsed": false
   }
  },
  {
   "cell_type": "code",
   "execution_count": 34,
   "outputs": [],
   "source": [
    "image_type = \"ph1\"  #Options:  brightfield, ph1\n",
    "is_fl = False #Options: True, False\n",
    "is_track = False #Options: True, False"
   ],
   "metadata": {
    "collapsed": false
   }
  },
  {
   "cell_type": "markdown",
   "source": [
    "## FUNCTIONS ##"
   ],
   "metadata": {
    "collapsed": false
   }
  },
  {
   "cell_type": "code",
   "execution_count": 35,
   "outputs": [],
   "source": [
    "def create_yaml(path: str, image_type_in: str):\n",
    "    \"\"\"Given the output path as string. Will create a yaml file in the main output folder. This yaml file will be copied into each subfolder during the sorting function\"\"\"\n",
    "\n",
    "    #Default keys and values stored in yaml file\n",
    "    yaml_input_file = {\n",
    "    'version' : 1.0,\n",
    "    'segment_brightfield' : False,\n",
    "    'seg_bf_version' : 1,\n",
    "    'seg_bf_visualize' : False,\n",
    "    'segment_fluorescent' : False,\n",
    "    'seg_fl_version' : 1,\n",
    "    'seg_fl_visualize' : False,\n",
    "    'segment_ph1' : False, #True,\n",
    "    'seg_ph1_version' : 2,\n",
    "    'seg_ph1_visualize' : False, #True,\n",
    "    'track_brightfield' : False,\n",
    "    'track_bf_version' : 1,\n",
    "    'track_bf_visualize' : False,\n",
    "    'track_ph1' : False,\n",
    "    'track_ph1_version' : 1,\n",
    "    'track_ph1_visualize' : False,\n",
    "    'bf_seg_with_fl_seg_visualize' : False,\n",
    "    'bf_track_with_fl_seg_visualize' : False,\n",
    "    'ph1_seg_with_fl_seg_visualize' : False,\n",
    "    'ph1_track_with_fl_seg_visualize' : False,\n",
    "    }\n",
    "\n",
    "    #Conditionally modify yaml file based on image_type input\n",
    "\n",
    "    for key, value in yaml_input_file.items():\n",
    "        if image_type_in in key and not \"version\" in key and not \"fl\" in key and not \"track\" in key:\n",
    "            yaml_input_file[key] = True\n",
    "\n",
    "            if is_fl:\n",
    "                if \"fl\" in key and not \"version\" in key:\n",
    "                    yaml_input_file[key] = True\n",
    "\n",
    "            if is_track:\n",
    "                if \"track\" in key and not \"version\" in key:\n",
    "                    yaml_input_file[key] = True\n",
    "\n",
    "        if image_type_in == \"brightfield\" :\n",
    "            yaml_input_file['seg_bf_visualize'] = True\n",
    "\n",
    "    # Write yaml output to path_output\n",
    "    with open(path+'/wc_dataset_'+image_type_in+'.yaml', 'w') as file:\n",
    "        yaml.safe_dump(yaml_input_file, file, sort_keys=False)\n",
    "\n"
   ],
   "metadata": {
    "collapsed": false
   }
  },
  {
   "cell_type": "code",
   "execution_count": 36,
   "outputs": [],
   "source": [
    "def sort_stage_pos_folders(input_fn: str,output_fn: str, image_type_fn: str):\n",
    "    \"\"\"Given basename list, parent output folder and number of stage positions list extracted from nd files. Sorts files into stage position folders\"\"\"\n",
    "    #sort images into stage position folders\n",
    "    for file in os.listdir(input_fn):\n",
    "\n",
    "        if file.endswith(\".tif\"):\n",
    "            #Check if position described with only 2 characters\n",
    "            if file[2] == '_':\n",
    "                file_sortname = file[0] + f\"{int(file[1]):02}\"\n",
    "\n",
    "\n",
    "            else:\n",
    "                file_sortname = file[:3]\n",
    "\n",
    "            file_newname = file_sortname +\"_\"+ file[-7:]\n",
    "\n",
    "\n",
    "            if os.path.exists(output_fn + '/' + file_sortname + '/' +  image_type_fn+ '_images/'):\n",
    "                try:\n",
    "                    shutil.copy(input_fn + '/' + file, output_fn + '/' + file_sortname + '/' +image_type_fn+ '_images/'+ file_newname)\n",
    "                except OSError as e:\n",
    "                    # If it fails, inform the user.\n",
    "                    print('Error: %s - %s.' % (e.filename, e.strerror))\n",
    "\n",
    "            else:\n",
    "                try:\n",
    "                    os.makedirs(output_fn + '/' + file_sortname + '/' +  image_type_fn+ '_images/')\n",
    "                    shutil.copy(output_fn + '/wc_dataset_'+image_type_fn+'.yaml', output_fn + '/' + file_sortname + '/wc_dataset_'+image_type_fn+'.yaml')\n",
    "                    shutil.copy(input_fn + '/' + file, output_fn + '/' + file_sortname +'/' + image_type_fn+ '_images/'+ file_newname)\n",
    "\n",
    "\n",
    "                except OSError as e:\n",
    "                    # If it fails, inform the user.\n",
    "                    print('Error: %s - %s.' % (e.filename, e.strerror))\n"
   ],
   "metadata": {
    "collapsed": false
   }
  },
  {
   "cell_type": "markdown",
   "source": [
    "## RUN CODE ##\n",
    "\n",
    "**Section 1: Navigate to data folder containing .nd file**"
   ],
   "metadata": {
    "collapsed": false
   }
  },
  {
   "cell_type": "code",
   "execution_count": 37,
   "outputs": [
    {
     "name": "stdout",
     "output_type": "stream",
     "text": [
      "Current config:\n",
      "Image Type: ph1\n",
      "Fluorescent Images: False\n",
      "Track Images: False\n",
      "Please open the directory that contains your Cyt5 tif files\n",
      "Inputed path: E:/Microscope Images/Cytation5/230419_191710_20230419_NHDFneo_P3_H2O2_Ascorbate/Plate 1\n"
     ]
    }
   ],
   "source": [
    "print(\"Current config:\")\n",
    "print(\"Image Type:\", image_type)\n",
    "print(\"Fluorescent Images:\", is_fl)\n",
    "print(\"Track Images:\", is_track)\n",
    "\n",
    "#prompt user for the file directory. Will open as a popup window named \"tk\"\n",
    "tk_root = tkinter.Tk()\n",
    "print(\"Please open the directory that contains your Cyt5 tif files\")\n",
    "path_input = askdirectory(title='Select Input Folder with Cyt5 tif files')  # shows dialog box and return the path\n",
    "print(\"Inputed path:\", path_input)\n",
    "tk_root.destroy()\n",
    "path_output = path_input + '/Sorted'\n",
    "\n",
    "if os.path.exists(path_output):\n",
    "    path_out_new = input('Enter new output folder name')\n",
    "    path_output = path_input + '/' + path_out_new\n",
    "    os.makedirs(path_output)\n",
    "#create a new  output directory\n",
    "else:\n",
    "    os.makedirs(path_output)"
   ],
   "metadata": {
    "collapsed": false
   }
  },
  {
   "cell_type": "markdown",
   "source": [
    "**Section 2: Execute functions to prepare folder structure for woundcompute**"
   ],
   "metadata": {
    "collapsed": false
   }
  },
  {
   "cell_type": "code",
   "execution_count": 38,
   "outputs": [
    {
     "name": "stdout",
     "output_type": "stream",
     "text": [
      "Created .yaml file\n",
      "Sorting images into their corresponding stage position folders...\n",
      "Completed\n"
     ]
    }
   ],
   "source": [
    "# Create yaml file for image type\n",
    "create_yaml(path_output, image_type)\n",
    "print(\"Created .yaml file\")\n",
    "\n",
    "\n",
    "print(\"Sorting images into their corresponding stage position folders...\")\n",
    "#  Sort images in each basename folder into their corresponding stage position folders\n",
    "sort_stage_pos_folders(path_input, path_output, image_type)\n",
    "print(\"Completed\")\n"
   ],
   "metadata": {
    "collapsed": false
   }
  },
  {
   "cell_type": "markdown",
   "source": [
    "**Section 3: Sort positions into parallelization folders**"
   ],
   "metadata": {
    "collapsed": false
   }
  },
  {
   "cell_type": "code",
   "execution_count": 38,
   "outputs": [],
   "source": [],
   "metadata": {
    "collapsed": false
   }
  }
 ],
 "metadata": {
  "kernelspec": {
   "display_name": "Python 3",
   "language": "python",
   "name": "python3"
  },
  "language_info": {
   "codemirror_mode": {
    "name": "ipython",
    "version": 2
   },
   "file_extension": ".py",
   "mimetype": "text/x-python",
   "name": "python",
   "nbconvert_exporter": "python",
   "pygments_lexer": "ipython2",
   "version": "2.7.6"
  }
 },
 "nbformat": 4,
 "nbformat_minor": 0
}
